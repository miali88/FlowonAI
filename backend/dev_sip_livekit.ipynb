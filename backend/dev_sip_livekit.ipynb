{
 "cells": [
  {
   "cell_type": "code",
   "execution_count": null,
   "metadata": {},
   "outputs": [],
   "source": []
  },
  {
   "cell_type": "code",
   "execution_count": null,
   "metadata": {},
   "outputs": [
    {
     "name": "stdout",
     "output_type": "stream",
     "text": [
      "items {\n",
      "  sip_trunk_id: \"ST_2CrNutUodeAF\"\n",
      "  name: \"trunk_+447723180506\"\n",
      "  numbers: \"+447723180506\"\n",
      "}\n",
      "items {\n",
      "  sip_trunk_id: \"ST_E4GjkXqaCyqr\"\n",
      "  name: \"trunk_+13614281772\"\n",
      "  numbers: \"+13614281772\"\n",
      "}\n",
      "\n"
     ]
    }
   ],
   "source": [
    "\"\"\" LIST SIP INBOUND TRUNKS \"\"\"\n",
    "from dotenv import load_dotenv \n",
    "from livekit import api\n",
    "from livekit.protocol.sip import ListSIPInboundTrunkRequest\n",
    "\n",
    "load_dotenv()\n",
    "\n",
    "async def main():\n",
    "  livekit_api = api.LiveKitAPI()\n",
    "\n",
    "  rules = await livekit_api.sip.list_sip_inbound_trunk(\n",
    "    ListSIPInboundTrunkRequest()\n",
    "  )\n",
    "  print(f\"{rules}\")\n",
    "\n",
    "  await livekit_api.aclose()\n",
    "\n",
    "(await main())"
   ]
  },
  {
   "cell_type": "code",
   "execution_count": null,
   "metadata": {},
   "outputs": [],
   "source": [
    "\"\"\" CREATE SIP INBOUND TRUNK \"\"\"\n",
    "from livekit import api \n",
    "from livekit.protocol.sip import CreateSIPInboundTrunkRequest, SIPInboundTrunkInfo\n",
    "\n",
    "async def main(twilio_number: str):\n",
    "    livekit_api = api.LiveKitAPI()\n",
    "\n",
    "    trunk = SIPInboundTrunkInfo(\n",
    "    name = f\"trunk_{twilio_number}\",\n",
    "    numbers = [twilio_number],\n",
    "    )\n",
    "  \n",
    "    request = CreateSIPInboundTrunkRequest(\n",
    "        trunk = trunk\n",
    "    )\n",
    "    \n",
    "    trunk = await livekit_api.sip.create_sip_inbound_trunk(request)\n",
    "    \n",
    "    await livekit_api.aclose()\n",
    "\n",
    "twilio_number = \"+447723180506\"\n",
    "await main(twilio_number)"
   ]
  },
  {
   "cell_type": "code",
   "execution_count": null,
   "metadata": {},
   "outputs": [
    {
     "name": "stdout",
     "output_type": "stream",
     "text": [
      "Successfully deleted SIP trunk with ID: ST_WCmfQowTZB2J\n"
     ]
    }
   ],
   "source": [
    "\"\"\" DELETE SIP INBOUND TRUNK \"\"\"\n",
    "from livekit import api\n",
    "from livekit.protocol.sip import DeleteSIPTrunkRequest \n",
    "async def delete_sip_trunk(trunk_id: str):\n",
    "    livekit_api = api.LiveKitAPI()\n",
    "    \n",
    "    try:\n",
    "        await livekit_api.sip.delete_sip_trunk(DeleteSIPTrunkRequest(sip_trunk_id=trunk_id))\n",
    "        print(f\"Successfully deleted SIP trunk with ID: {trunk_id}\")\n",
    "    except Exception as e:\n",
    "        print(f\"Error deleting SIP trunk: {str(e)}\")\n",
    "    finally:\n",
    "        await livekit_api.aclose()\n",
    "\n",
    "# Example usage:\n",
    "trunk_id = \"ST_WCmfQowTZB2J\"  # Replace with actual trunk ID\n",
    "await delete_sip_trunk(trunk_id)"
   ]
  },
  {
   "cell_type": "code",
   "execution_count": null,
   "metadata": {},
   "outputs": [
    {
     "name": "stdout",
     "output_type": "stream",
     "text": [
      "Successfully created sip_dispatch_rule_id: \"SDR_9dzzQRh4ySsA\"\n",
      "rule {\n",
      "  dispatch_rule_individual {\n",
      "    room_prefix: \"call-_+13614281772_\"\n",
      "  }\n",
      "}\n",
      "trunk_ids: \"ST_E4GjkXqaCyqr\"\n",
      "name: \"rule_+13614281772_ST_E4GjkXqaCyqr\"\n",
      "\n"
     ]
    }
   ],
   "source": [
    "\"\"\" CREATE SIP DISPATCH RULE \"\"\"\n",
    "from dotenv import load_dotenv \n",
    "from livekit import api \n",
    "from livekit.protocol.sip import (\n",
    "    CreateSIPDispatchRuleRequest,\n",
    "    SIPDispatchRule,\n",
    "    SIPDispatchRuleIndividual\n",
    ")\n",
    "\n",
    "load_dotenv()\n",
    "\n",
    "async def main(twilio_number: str, trunk_id: str):\n",
    "\n",
    "  livekit_api = api.LiveKitAPI()\n",
    "\n",
    "  # Create a dispatch rule to place each caller in a separate room\n",
    "  rule = SIPDispatchRule(\n",
    "    dispatch_rule_individual = SIPDispatchRuleIndividual(\n",
    "      room_prefix = f'call-_{twilio_number}_',\n",
    "      pin = ''\n",
    "    )   \n",
    "  )\n",
    "\n",
    "  request = CreateSIPDispatchRuleRequest(\n",
    "    rule = rule,\n",
    "    name = f'rule_{twilio_number}_{trunk_id}',\n",
    "    trunk_ids = [ \n",
    "      trunk_id,\n",
    "    ],  \n",
    "    hide_phone_number = False\n",
    "  )\n",
    "\n",
    "  try:\n",
    "    dispatchRule = await livekit_api.sip.create_sip_dispatch_rule(request)\n",
    "    print(f\"Successfully created {dispatchRule}\")\n",
    "  except api.twirp_client.TwirpError as e:\n",
    "    print(f\"{e.code} error: {e.message}\")\n",
    "\n",
    "  await livekit_api.aclose()\n",
    "\n",
    "twilio_number = \"+13614281772\"\n",
    "trunk_id = \"ST_E4GjkXqaCyqr\"\n",
    "(await main(twilio_number, trunk_id))"
   ]
  },
  {
   "cell_type": "code",
   "execution_count": null,
   "metadata": {},
   "outputs": [
    {
     "name": "stdout",
     "output_type": "stream",
     "text": [
      "items {\n",
      "  sip_dispatch_rule_id: \"SDR_9dzzQRh4ySsA\"\n",
      "  rule {\n",
      "    dispatch_rule_individual {\n",
      "      room_prefix: \"call-_+13614281772_\"\n",
      "    }\n",
      "  }\n",
      "  trunk_ids: \"ST_E4GjkXqaCyqr\"\n",
      "  name: \"rule_+13614281772_ST_E4GjkXqaCyqr\"\n",
      "}\n",
      "items {\n",
      "  sip_dispatch_rule_id: \"SDR_exhXDQ9DBwBv\"\n",
      "  rule {\n",
      "    dispatch_rule_individual {\n",
      "      room_prefix: \"call-_+447723180506_\"\n",
      "    }\n",
      "  }\n",
      "  trunk_ids: \"ST_2CrNutUodeAF\"\n",
      "  name: \"rule_+447723180506_ST_2CrNutUodeAF\"\n",
      "}\n",
      "\n"
     ]
    }
   ],
   "source": [
    "\"\"\" LIST SIP DISPATCH RULES \"\"\"\n",
    "from dotenv import load_dotenv\n",
    "from livekit import api\n",
    "from livekit.protocol.sip import ListSIPDispatchRuleRequest, DeleteSIPDispatchRuleRequest\n",
    "\n",
    "load_dotenv()\n",
    "\n",
    "\n",
    "async def main():\n",
    "  livekit_api = api.LiveKitAPI()\n",
    "\n",
    "  rules = await livekit_api.sip.list_sip_dispatch_rule(\n",
    "    ListSIPDispatchRuleRequest()\n",
    "  )\n",
    "  print(f\"{rules}\")\n",
    "\n",
    "  await livekit_api.aclose()\n",
    "\n",
    "(await main())"
   ]
  },
  {
   "cell_type": "code",
   "execution_count": null,
   "metadata": {},
   "outputs": [
    {
     "name": "stdout",
     "output_type": "stream",
     "text": [
      "Found rules: items {\n",
      "  sip_dispatch_rule_id: \"SDR_9oiituE5jeyG\"\n",
      "  rule {\n",
      "    dispatch_rule_individual {\n",
      "      room_prefix: \"call-_+447723180506-\"\n",
      "    }\n",
      "  }\n",
      "  trunk_ids: \"ST_2CrNutUodeAF\"\n",
      "  name: \"rule_+447723180506_ST_2CrNutUodeAF\"\n",
      "}\n",
      "\n",
      "Deleted rule with ID: SDR_9oiituE5jeyG\n"
     ]
    }
   ],
   "source": [
    "\"\"\" DELETE SIP DISPATCH RULE \"\"\"\n",
    "from dotenv import load_dotenv\n",
    "from livekit import api\n",
    "from livekit.protocol.sip import ListSIPDispatchRuleRequest, DeleteSIPDispatchRuleRequest\n",
    "\n",
    "load_dotenv()\n",
    "\n",
    "\n",
    "async def main(dispatch_rule_id: str):\n",
    "    livekit_api = api.LiveKitAPI()\n",
    "\n",
    "    # First get all rules\n",
    "    rules = await livekit_api.sip.list_sip_dispatch_rule(\n",
    "        ListSIPDispatchRuleRequest()\n",
    "    )\n",
    "    print(f\"Found rules: {rules}\")\n",
    "\n",
    "    await livekit_api.sip.delete_sip_dispatch_rule(\n",
    "        DeleteSIPDispatchRuleRequest(\n",
    "            sip_dispatch_rule_id=dispatch_rule_id\n",
    "        )\n",
    "    )\n",
    "    print(f\"Deleted rule with ID: {dispatch_rule_id}\")\n",
    "\n",
    "    await livekit_api.aclose()\n",
    "\n",
    "(await main(\"SDR_9oiituE5jeyG\"))"
   ]
  }
 ],
 "metadata": {
  "language_info": {
   "name": "python"
  }
 },
 "nbformat": 4,
 "nbformat_minor": 2
}
