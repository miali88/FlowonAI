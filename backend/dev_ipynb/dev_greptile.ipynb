{
 "cells": [
  {
   "cell_type": "code",
   "execution_count": 2,
   "metadata": {},
   "outputs": [
    {
     "name": "stdout",
     "output_type": "stream",
     "text": [
      "Status Code: 401\n",
      "Response: {'error': 'Invalid API key'}\n"
     ]
    }
   ],
   "source": [
    "import requests\n",
    "import os\n",
    "from dotenv import load_dotenv\n",
    "\n",
    "load_dotenv()\n",
    "\n",
    "# API configuration\n",
    "GREPTILE_API_KEY = os.getenv('GREPTILE_API_KEY')\n",
    "GITHUB_TOKEN = os.getenv('GITHUB_TOKEN')\n",
    "API_URL = 'https://api.greptile.com/v2/repositories'\n",
    "\n",
    "# Request headers\n",
    "headers = {\n",
    "    'Authorization': f'Bearer {GREPTILE_API_KEY}',\n",
    "    'X-Github-Token': GITHUB_TOKEN,\n",
    "    'Content-Type': 'application/json'\n",
    "}\n",
    "\n",
    "# Request body\n",
    "payload = {\n",
    "    'remote': 'github',\n",
    "    'repository': 'flowon-ai/flowon_ai',\n",
    "    'branch': 'main'\n",
    "}\n",
    "\n",
    "# Send POST request\n",
    "response = requests.post(API_URL, headers=headers, json=payload)\n",
    "\n",
    "# Check response\n",
    "print(f'Status Code: {response.status_code}')\n",
    "print('Response:', response.json())"
   ]
  },
  {
   "cell_type": "code",
   "execution_count": null,
   "metadata": {},
   "outputs": [],
   "source": []
  },
  {
   "cell_type": "code",
   "execution_count": null,
   "metadata": {},
   "outputs": [],
   "source": []
  }
 ],
 "metadata": {
  "kernelspec": {
   "display_name": "venv",
   "language": "python",
   "name": "python3"
  },
  "language_info": {
   "codemirror_mode": {
    "name": "ipython",
    "version": 3
   },
   "file_extension": ".py",
   "mimetype": "text/x-python",
   "name": "python",
   "nbconvert_exporter": "python",
   "pygments_lexer": "ipython3",
   "version": "3.12.8"
  }
 },
 "nbformat": 4,
 "nbformat_minor": 2
}
