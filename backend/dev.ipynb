{
 "cells": [
  {
   "cell_type": "code",
   "execution_count": 1,
   "metadata": {},
   "outputs": [
    {
     "name": "stdout",
     "output_type": "stream",
     "text": [
      "\n",
      "\n",
      "similarity_search...\n"
     ]
    },
    {
     "data": {
      "text/plain": [
       "[{'id': 15,\n",
       "  'parent_id': 19,\n",
       "  'content': \" training and ongoing technical support to ensure you get the most out of Flowon Is there a free trial available We do offer a free trial so you can experience the benefits of Flowon before committing to a subscription How can I get started with Flowon Getting started is easy Simply sign up on our website choose a plan that fits your needs and our team will assist you with the setup process Get Started\\\\\\\\ Get in touch today /onboarding Contact Us We 're here to help Reach Out](/contact Group 1](https://unicorn cdn.b cdn.net/612eeadf ff8e-49b0 935b-78333e423590 group-1.png Submission Successful The form has been successfully submitted Back to site](/ Ge Bundles of Advanced Features Results driven AI technology brought to you App Booking Find a time that works for you both Our AI agent will check your calendar and send a confirmation to both parties Call Routing Agent chats with the caller then routes a call to anyone inside your organisation whether its 2 people or 2,000 Web Agent Show your customers you care by having an AI agent reachable direct from your web page Email SMS Whatsapp notifications Keep connected with your agents however you wish Outbound Calls Have the agents carry out task specific outbound calls Like appointment reminders information retrieval prompts for action etc Phone Call Recordings Transcriptions All calls are recorded and transcriptions provided Providing full transparency and documentation on interactions Question Answering Provide information to your customers through voice Get Started Today](/onboarding Why Flowon Our core value proposition is to streamlime the flow of information that leaves and enters your business This involves working with Language Models and building automation to integrate with your existing stack as far as possible Fully Responsive The AI Agent will intelligently handle phone calls with clients and will stay focused on achieving the outcome prompted Always On Never miss a call again Our AI agent remains on call 24 hours a day and every day of the year Fully Customisable Tailor your AI agent to communicate with how your stakeholders are normally spoken to Easy Set Up Your agent can be set up be instructing it in plain english no expertise required in prompting All On Record All calls are recorded and transcripts available in your dashboard Fully Competent Front Desk in 3 simple steps 1 Sign Up Use our onboarding form or simply get in touch to get the ball rolling Mobile login concept illustration 114360 83](https://unicorn cdn.b cdn.net/096bb1b8 6edc-415e-9f5e-305cc3625799 mobile login concept illustration-114360 83.png 2 Value Alignment We hear from you assess the features that would present the highest reward to effort ratio Then get to creating your agents Screenshot 2024 07 11 at 04.09.01](https://unicorn cdn.b cdn.net be1b2b82 8c8d-4db8 95bd-5d22a422722d\",\n",
       "  'chunk_index': 2,\n",
       "  'user_id': None,\n",
       "  'similarity': 0.516695376230389},\n",
       " {'id': 14,\n",
       "  'parent_id': 19,\n",
       "  'content': \"07 11 at 04.09.01](https://unicorn cdn.b cdn.net be1b2b82 8c8d-4db8 95bd-5d22a422722d screenshot-2024 07 11 at-04.09.01.png 3 Deployed AI Agents Your custom AI agents are activated and closely monitored by our team Automating key processes and enhancing your business operations Watch as efficiency soars and you can allocate more resources to higher valued issues Screenshot 2024 08 09 at 18.54.19](https://unicorn cdn.b cdn.net/5d9e3694 9eda-4fc0 95a0 08e169bc0c29 screenshot-2024 08 09 at-18.54.19.png https://cdn.unicornplatform.com/static/img/twemoji/1f917.svg Get Started Transform your business operations risk free Early Adopter FREE ✓ https://cdn.unicornplatform.com/static/img/icons/checked--acid.svg Free consultation to see what your business most pressing needs are ✓ https://cdn.unicornplatform.com/static/img/icons/checked--acid.svg Deploy any of our dozen features ✓ https://cdn.unicornplatform.com/static/img/icons/checked--acid.svg Cut out inefficient business practices ✓ https://cdn.unicornplatform.com/static/img/icons/checked--acid.svg Zero commitments FAQ Can I access call transcripts and recordings All call related data is stored and retrievable for your records Can Flowon handle multiple calls simultaneously Yes Flowon is designed to handle multiple calls at the same time ensuring that no customer call goes unanswered What technologies does Flowon use We utilise state of the art technologies including specialised models for Text to Speech TTS Speech to Text STT Language Models and VoIP among others These are seamlessly integrated to deliver exceptional services to our customers What kind of support is available for Flowon users We provide comprehensive support including onboarding assistance user training and ongoing technical support to ensure you get the most out of Flowon Is there a free trial available We do offer a free trial so you can experience the benefits of Flowon before committing to a subscription How can I get started with Flowon Getting started is easy Simply sign up on our website choose a plan that fits your needs and our team will assist you with the setup process Get Started\\\\\\\\ Get in touch today /onboarding Contact Us We 're here to help Reach Out](/contact Group 1](https://unicorn cdn.b cdn.net/612eeadf ff8e-49b0 935b-78333e423590 group-1.png Submission Successful The form has been successfully submitted Back to site](/ Ge Bundles of Advanced Features Results driven AI technology brought to you App Booking Find a time that works for you both Our AI agent will check your calendar and send a confirmation to both parties Call Routing Agent chats with the caller then routes a call to\",\n",
       "  'chunk_index': 1,\n",
       "  'user_id': None,\n",
       "  'similarity': 0.507877125631833},\n",
       " {'id': 38,\n",
       "  'parent_id': 44,\n",
       "  'content': \"07 11 at 04.09.01](https://unicorn cdn.b cdn.net be1b2b82 8c8d-4db8 95bd-5d22a422722d screenshot-2024 07 11 at-04.09.01.png 3 Deployed AI Agents Your custom AI agents are activated and closely monitored by our team Automating key processes and enhancing your business operations Watch as efficiency soars and you can allocate more resources to higher valued issues Screenshot 2024 08 09 at 18.54.19](https://unicorn cdn.b cdn.net/5d9e3694 9eda-4fc0 95a0 08e169bc0c29 screenshot-2024 08 09 at-18.54.19.png https://cdn.unicornplatform.com/static/img/twemoji/1f917.svg Get Started Transform your business operations risk free Early Adopter FREE ✓ https://cdn.unicornplatform.com/static/img/icons/checked--acid.svg Free consultation to see what your business most pressing needs are ✓ https://cdn.unicornplatform.com/static/img/icons/checked--acid.svg Deploy any of our dozen features ✓ https://cdn.unicornplatform.com/static/img/icons/checked--acid.svg Cut out inefficient business practices ✓ https://cdn.unicornplatform.com/static/img/icons/checked--acid.svg Zero commitments FAQ Can I access call transcripts and recordings All call related data is stored and retrievable for your records Can Flowon handle multiple calls simultaneously Yes Flowon is designed to handle multiple calls at the same time ensuring that no customer call goes unanswered What technologies does Flowon use We utilise state of the art technologies including specialised models for Text to Speech TTS Speech to Text STT Language Models and VoIP among others These are seamlessly integrated to deliver exceptional services to our customers What kind of support is available for Flowon users We provide comprehensive support including onboarding assistance user training and ongoing technical support to ensure you get the most out of Flowon Is there a free trial available We do offer a free trial so you can experience the benefits of Flowon before committing to a subscription How can I get started with Flowon Getting started is easy Simply sign up on our website choose a plan that fits your needs and our team will assist you with the setup process Get Started\\\\\\\\ Get in touch today /onboarding Contact Us We 're here to help Reach Out](/contact Group 1](https://unicorn cdn.b cdn.net/612eeadf ff8e-49b0 935b-78333e423590 group-1.png Submission Successful The form has been successfully submitted Back to site](/ Ge\",\n",
       "  'chunk_index': 1,\n",
       "  'user_id': 'user_2lKpUPRJD4g5IErIdhbO7rBMn3K',\n",
       "  'similarity': 0.495295286739438},\n",
       " {'id': 13,\n",
       "  'parent_id': 19,\n",
       "  'content': 'Bundles of Advanced Features Results driven AI technology brought to you App Booking Find a time that works for you both Our AI agent will check your calendar and send a confirmation to both parties Call Routing Agent chats with the caller then routes a call to anyone inside your organisation whether its 2 people or 2,000 Web Agent Show your customers you care by having an AI agent reachable direct from your web page Email SMS Whatsapp notifications Keep connected with your agents however you wish Outbound Calls Have the agents carry out task specific outbound calls Like appointment reminders information retrieval prompts for action etc Phone Call Recordings Transcriptions All calls are recorded and transcriptions provided Providing full transparency and documentation on interactions Question Answering Provide information to your customers through voice Get Started Today](/onboarding Why Flowon Our core value proposition is to streamlime the flow of information that leaves and enters your business This involves working with Language Models and building automation to integrate with your existing stack as far as possible Fully Responsive The AI Agent will intelligently handle phone calls with clients and will stay focused on achieving the outcome prompted Always On Never miss a call again Our AI agent remains on call 24 hours a day and every day of the year Fully Customisable Tailor your AI agent to communicate with how your stakeholders are normally spoken to Easy Set Up Your agent can be set up be instructing it in plain english no expertise required in prompting All On Record All calls are recorded and transcripts available in your dashboard Fully Competent Front Desk in 3 simple steps 1 Sign Up Use our onboarding form or simply get in touch to get the ball rolling Mobile login concept illustration 114360 83](https://unicorn cdn.b cdn.net/096bb1b8 6edc-415e-9f5e-305cc3625799 mobile login concept illustration-114360 83.png 2 Value Alignment We hear from you assess the features that would present the highest reward to effort ratio Then get to creating your agents Screenshot 2024 07 11 at 04.09.01](https://unicorn cdn.b cdn.net be1b2b82 8c8d-4db8 95bd-5d22a422722d screenshot-2024 07 11 at-04.09.01.png 3 Deployed AI Agents Your custom AI agents are activated and closely monitored by our team Automating key processes and enhancing your business operations Watch as efficiency soars and you can allocate more resources to higher valued issues Screenshot 2024 08 09 at 18.54.19](https://unicorn cdn.b cdn.net/5d9e3694 9eda-4fc0 95a0 08e169bc0c29 screenshot-2024 08 09 at-18.54.19.png https://cdn.unicornplatform.com/static/img/twemoji/1f917.svg Get Started Transform your business operations risk free Early Ad',\n",
       "  'chunk_index': 0,\n",
       "  'user_id': None,\n",
       "  'similarity': 0.494065999984755},\n",
       " {'id': 37,\n",
       "  'parent_id': 44,\n",
       "  'content': 'Bundles of Advanced Features Results driven AI technology brought to you App Booking Find a time that works for you both Our AI agent will check your calendar and send a confirmation to both parties Call Routing Agent chats with the caller then routes a call to anyone inside your organisation whether its 2 people or 2,000 Web Agent Show your customers you care by having an AI agent reachable direct from your web page Email SMS Whatsapp notifications Keep connected with your agents however you wish Outbound Calls Have the agents carry out task specific outbound calls Like appointment reminders information retrieval prompts for action etc Phone Call Recordings Transcriptions All calls are recorded and transcriptions provided Providing full transparency and documentation on interactions Question Answering Provide information to your customers through voice Get Started Today](/onboarding Why Flowon Our core value proposition is to streamlime the flow of information that leaves and enters your business This involves working with Language Models and building automation to integrate with your existing stack as far as possible Fully Responsive The AI Agent will intelligently handle phone calls with clients and will stay focused on achieving the outcome prompted Always On Never miss a call again Our AI agent remains on call 24 hours a day and every day of the year Fully Customisable Tailor your AI agent to communicate with how your stakeholders are normally spoken to Easy Set Up Your agent can be set up be instructing it in plain english no expertise required in prompting All On Record All calls are recorded and transcripts available in your dashboard Fully Competent Front Desk in 3 simple steps 1 Sign Up Use our onboarding form or simply get in touch to get the ball rolling Mobile login concept illustration 114360 83](https://unicorn cdn.b cdn.net/096bb1b8 6edc-415e-9f5e-305cc3625799 mobile login concept illustration-114360 83.png 2 Value Alignment We hear from you assess the features that would present the highest reward to effort ratio Then get to creating your agents Screenshot 2024 07 11 at 04.09.01](https://unicorn cdn.b cdn.net be1b2b82 8c8d-4db8 95bd-5d22a422722d screenshot-2024 07 11 at-04.09.01.png 3 Deployed AI Agents Your custom AI agents are activated and closely monitored by our team Automating key processes and enhancing your business operations Watch as efficiency soars and you can allocate more resources to higher valued issues Screenshot 2024 08 09 at 18.54.19](https://unicorn cdn.b cdn.net/5d9e3694 9eda-4fc0 95a0 08e169bc0c29 screenshot-2024 08 09 at-18.54.19.png https://cdn.unicornplatform.com/static/img/twemoji/1f917.svg Get Started Transform your business operations risk free Early Ad',\n",
       "  'chunk_index': 0,\n",
       "  'user_id': 'user_2lKpUPRJD4g5IErIdhbO7rBMn3K',\n",
       "  'similarity': 0.494065999984755}]"
      ]
     },
     "execution_count": 1,
     "metadata": {},
     "output_type": "execute_result"
    }
   ],
   "source": [
    "from services.chat.chat import similarity_search\n",
    "\n",
    "await similarity_search(\"flowon ai\", \"123\")"
   ]
  }
 ],
 "metadata": {
  "kernelspec": {
   "display_name": "venv",
   "language": "python",
   "name": "python3"
  },
  "language_info": {
   "codemirror_mode": {
    "name": "ipython",
    "version": 3
   },
   "file_extension": ".py",
   "mimetype": "text/x-python",
   "name": "python",
   "nbconvert_exporter": "python",
   "pygments_lexer": "ipython3",
   "version": "3.12.6"
  }
 },
 "nbformat": 4,
 "nbformat_minor": 2
}
