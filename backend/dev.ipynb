{
 "cells": [
  {
   "cell_type": "code",
   "execution_count": 1,
   "metadata": {},
   "outputs": [],
   "source": [
    "conversation_history = [\n",
    "  {\"assistant_message\": \n",
    "  \" Hello! I can provide you with information of our services and pricing. What are you after?\"}, \n",
    "  {\"user_message\": \"So I just need to know about your pricing.\"}, \n",
    "  {\"assistant_message\": \" Could you please specify the service or type of work you're interested in? This will help me give you more accurate pricing details.\"}, \n",
    "  {\"user_message\": \"Yes. It is just a Fire change.\"}, \n",
    "  {\"assistant_message\": \" I assume you meant an oil change. For a standard oil change, the pricing typically starts at around $40, but it can vary depending on the type of oil your vehicle requires. Would you like to book an appointment for an oil change, or do you need more information?\"}, \n",
    "  {\"user_message\": \"Yeah. Book an appointment.\"}, \n",
    "  {\"user_message\": \"user input data: \\n\\n{'full_name': 'Michael Ali', 'email': 'azkar9@hotmail.co.uk', 'contact_number': '07745187688'}\\n\"}, \n",
    "  {\"assistant_message\": \"\"}, \n",
    "  {\"tool\": {\"name\": \"request_personal_data\", \"content\": \"Form now presented to caller\"}}, \n",
    "  {\"assistant_message\": \" Thank you! Could you also let me know your vehicle's make, model, and year? Additionally, do you have a preferred date and time for your appointment?\"}, \n",
    "  {\"user_message\": \"Yeah. Date and time next Tuesday. 5 AM.\"}, \n",
    "  {\"assistant_message\": \" Thank you for that information. Unfortunately, we open at 8 AM, so could we schedule your appointment for a time after that on Tuesday? Also, could you please provide your vehicle's make, model, and year?\"}, \n",
    "  {\"user_message\": \"Hello?\"}, \n",
    "  {\"assistant_message\": \" Please let me know your vehicle's make, model, and year, and we can reschedule your appointment for Tuesday at 8 AM or later.\"}]"
   ]
  },
  {
   "cell_type": "code",
   "execution_count": 2,
   "metadata": {},
   "outputs": [
    {
     "name": "stdout",
     "output_type": "stream",
     "text": [
      "loading agent-user cache\n"
     ]
    },
    {
     "name": "stderr",
     "output_type": "stream",
     "text": [
      "INFO:httpx:HTTP Request: GET https://isfghqgmaigvrvohuxbx.supabase.co/rest/v1/agents?select=id%2C%20userId \"HTTP/2 200 OK\"\n",
      "INFO:app.api.routes.conversation:Agent-user cache loaded successfully\n",
      "INFO:httpx:HTTP Request: GET https://isfghqgmaigvrvohuxbx.supabase.co/rest/v1/users?select=id%2C%20account_settings&id=in.%28user_2mpiZ5aU9thxkXyYlvpFfDHDrah%2Cuser_2mpiZ5aU9thxkXyYlvpFfDHDrah%2Cuser_2mmXezcGmjZCf88gT2v2waCBsXv%2Cuser_2mmXezcGmjZCf88gT2v2waCBsXv%2Cuser_2mmXezcGmjZCf88gT2v2waCBsXv%2Cuser_2mmXezcGmjZCf88gT2v2waCBsXv%2Cuser_2mmXezcGmjZCf88gT2v2waCBsXv%2Cuser_2mmXezcGmjZCf88gT2v2waCBsXv%29 \"HTTP/2 200 OK\"\n"
     ]
    },
    {
     "name": "stdout",
     "output_type": "stream",
     "text": [
      "recipient_email: michael@flowon.ai\n",
      "recipient_email: michael@flowon.ai\n"
     ]
    },
    {
     "name": "stderr",
     "output_type": "stream",
     "text": [
      "INFO:httpx:HTTP Request: PATCH https://isfghqgmaigvrvohuxbx.supabase.co/rest/v1/conversation_logs?participant_identity=eq.visitorId_0aef47de-78f8-4b34-867b-519dace0157c \"HTTP/2 200 OK\"\n"
     ]
    },
    {
     "data": {
      "text/plain": [
       "(Message(grant_id='c9e0a3fa-69b2-46fd-8626-ec25ed85b6ee', from_=[{'email': 'michael@flowon.ai'}], object='message', id='192da072db370c83', body=\"User submitted the following information: {'full_name': 'Michael Ali', 'email': 'azkar9@hotmail.co.uk', 'contact_number': '07745187688'}\\n\\nPlease log in to your dashboard for full transcript\", thread_id='192da072db370c83', subject='New lead from Flowon AI', snippet=None, to=[{'email': 'michael@flowon.ai'}], bcc=None, cc=None, reply_to=[{'email': 'michael@flowon.ai'}], attachments=[], folders=['UNREAD', 'SENT', 'INBOX'], headers=None, unread=None, starred=None, created_at=None, date=1730234755, schedule_id=None, send_at=None),\n",
       " '8576187479-fb743b39-fe17-4049-ab1c-8e353beca3f9')"
      ]
     },
     "execution_count": 2,
     "metadata": {},
     "output_type": "execute_result"
    }
   ],
   "source": [
    "from services.nylas_service import send_email\n",
    "\n",
    "await send_email(\"visitorId_0aef47de-78f8-4b34-867b-519dace0157c\", conversation_history, \"a14205e6-4b73-43d0-90f8-ea0a38da0112\")"
   ]
  },
  {
   "cell_type": "code",
   "execution_count": 19,
   "metadata": {},
   "outputs": [
    {
     "data": {
      "text/plain": [
       "'michaell@flowon.ai'"
      ]
     },
     "execution_count": 19,
     "metadata": {},
     "output_type": "execute_result"
    }
   ],
   "source": [
    "expanded_agent_user_cache[\"a14205e6-4b73-43d0-90f8-ea0a38da0112\"]['email']\n"
   ]
  },
  {
   "cell_type": "code",
   "execution_count": 14,
   "metadata": {},
   "outputs": [],
   "source": []
  },
  {
   "cell_type": "code",
   "execution_count": 15,
   "metadata": {},
   "outputs": [
    {
     "name": "stdout",
     "output_type": "stream",
     "text": [
      "{'full_name': 'Michael Ali', 'email': 'azkar9@hotmail.co.uk', 'contact_number': '07745187688'}\n"
     ]
    }
   ],
   "source": [
    "# Loop through conversation history and extract user input data\n",
    "for message in conversation_history:\n",
    "    if \"user_message\" in message and \"user input data:\" in message[\"user_message\"]:\n",
    "        # Extract the dictionary string and convert to actual dictionary using eval()\n",
    "        data_str = message[\"user_message\"].split(\"user input data:\")[1].strip()\n",
    "        user_data = eval(data_str)\n",
    "        print(user_data)"
   ]
  },
  {
   "cell_type": "code",
   "execution_count": 16,
   "metadata": {},
   "outputs": [
    {
     "data": {
      "text/plain": [
       "'azkar9@hotmail.co.uk'"
      ]
     },
     "execution_count": 16,
     "metadata": {},
     "output_type": "execute_result"
    }
   ],
   "source": [
    "user_data[\"email\"]"
   ]
  },
  {
   "cell_type": "markdown",
   "metadata": {},
   "source": [
    "## NYLAS API"
   ]
  },
  {
   "cell_type": "code",
   "execution_count": 1,
   "metadata": {},
   "outputs": [
    {
     "name": "stdout",
     "output_type": "stream",
     "text": [
      "nyk_v0_3rL6a1ElpMlb3x6riUT84orU4S2s2hoKL5J5F0xZo2T6SLODS7TedbdwiGqbMmKs\n",
      "https://api.us.nylas.com\n"
     ]
    }
   ],
   "source": [
    "import os \n",
    "from dotenv import load_dotenv\n",
    "from nylas import Client\n",
    "\n",
    "load_dotenv()\n",
    "\n",
    "NYLAS_API_KEY = os.getenv(\"NYLAS_API_KEY\")\n",
    "NYLAS_API_URI = os.getenv(\"NYLAS_API_URI\")\n",
    "\n",
    "# Initialize Nylas client\n",
    "nylas = Client(\n",
    "    api_key = NYLAS_API_KEY,\n",
    "    api_uri = NYLAS_API_URI\n",
    ")"
   ]
  },
  {
   "cell_type": "code",
   "execution_count": 3,
   "metadata": {},
   "outputs": [
    {
     "name": "stdout",
     "output_type": "stream",
     "text": [
      "(Message(grant_id='5ef0555c-25ab-4b4e-b4a1-02fd8ba4d255', from_=[{'name': 'azkar9@hotmail.co.uk', 'email': 'azkar9@hotmail.co.uk'}], object='message', id='AAkALgAAAAAAHYQDEapmEc2byACqAC-EWg0AT6mu_rvDikK57fYroNKSNAAHrJ2BvwAA', body='<html><head>\\r\\n<meta http-equiv=\"Content-Type\" content=\"text/html; charset=utf-8\"></head><body>Your email body here. </body></html>', thread_id='AQQkADAwATYwMAItZDU3My1lODM1LTAwAi0wMAoAEAAiitG2mtjdQpQpi6jWT4SP', subject='Your Subject Here', snippet='Your email body here.', to=[{'name': 'Name', 'email': 'michael@flowon.ai'}], bcc=[], cc=[], reply_to=[{'name': 'Name', 'email': 'michael@flowon.ai'}], attachments=None, folders=['AQMkADAwATYwMAItZDU3My1lODM1LTAwAi0wMAoALgAAAxSnBx7cs_FOjiSx1DF2NRABAE_prvq7w4pCue32K6DSkjQAAAIBDwAAAA=='], headers=None, unread=None, starred=False, created_at=None, date=1730223035, schedule_id=None, send_at=None), '4860805185-35c9c547-5a1b-4dad-9fc8-be8cb545616a')\n"
     ]
    }
   ],
   "source": [
    "\"\"\" WORKING SEND EMAIL \"\"\"\n",
    "\n",
    "grant_id = \"5ef0555c-25ab-4b4e-b4a1-02fd8ba4d255\"\n",
    "email = \"michael@flowon.ai\"\n",
    "\n",
    "#attachment = utils.file_utils.attach_file_request_builder(\"Nylas_Logo.png\")\n",
    "\n",
    "message = nylas.messages.send(\n",
    "  grant_id,\n",
    "  request_body={\n",
    "    \"to\": [{ \"name\": \"Name\", \"email\": email }],\n",
    "    \"reply_to\": [{ \"name\": \"Name\", \"email\": email }],\n",
    "    \"subject\": \"Your Subject Here\",\n",
    "    \"body\": \"Your email body here.\",\n",
    "  }\n",
    ")\n",
    "\n",
    "print(message)   "
   ]
  },
  {
   "cell_type": "code",
   "execution_count": 8,
   "metadata": {},
   "outputs": [
    {
     "name": "stdout",
     "output_type": "stream",
     "text": [
      "(Calendar(id='AAkALgAAAAAAHYQDEapmEc2byACqAC-EWg0AT6mu_rvDikK57fYroNKSNAAEWMJ6ZAAA', grant_id='5ef0555c-25ab-4b4e-b4a1-02fd8ba4d255', name='Calendar', read_only=False, is_owned_by_user=True, object='calendar', timezone=None, description=None, location=None, hex_color='#cf2b36', hex_foreground_color=None, is_primary=True, metadata=None), '5303172909-75419411-2c60-4750-a448-21e479270a85')\n"
     ]
    }
   ],
   "source": [
    "\"\"\" get calendar id\"\"\"\n",
    "grant_id = \"5ef0555c-25ab-4b4e-b4a1-02fd8ba4d255\"\n",
    "\n",
    "calendar = nylas.calendars.find(\n",
    "    grant_id,\n",
    "    \"primary\"\n",
    ")\n",
    "\n",
    "print(calendar)   "
   ]
  },
  {
   "cell_type": "code",
   "execution_count": 12,
   "metadata": {},
   "outputs": [
    {
     "data": {
      "text/plain": [
       "{'request_id': '6649455156-107956ad-46c5-4a9d-bac4-fd7c7ba52868',\n",
       " 'data': [{'busy': True,\n",
       "   'calendar_id': 'AAkALgAAAAAAHYQDEapmEc2byACqAC-EWg0AT6mu_rvDikK57fYroNKSNAAEWMJ6ZAAA',\n",
       "   'hide_participants': False,\n",
       "   'ical_uid': '040000008200E00074C5B7101A82E008000000003AE28A85292ADB01000000000000000010000000A035EB98264A4C46B9EB86653880A9DD',\n",
       "   'organizer': {'name': 'Michael Ali', 'email': 'Azkar9@hotmail.co.uk'},\n",
       "   'participants': [],\n",
       "   'resources': [],\n",
       "   'read_only': False,\n",
       "   'reminders': {'use_default': True, 'overrides': []},\n",
       "   'title': 'meeting ahead',\n",
       "   'visibility': 'public',\n",
       "   'html_link': 'https://outlook.live.com/owa/?itemid=AAkALgAAAAAAHYQDEapmEc2byACqAC%2FEWg0AT6mu%2BrvDikK57fYroNKSNAAHrJ2HmwAA&exvsurl=1&path=/calendar/item',\n",
       "   'grant_id': '5ef0555c-25ab-4b4e-b4a1-02fd8ba4d255',\n",
       "   'id': 'AAkALgAAAAAAHYQDEapmEc2byACqAC-EWg0AT6mu_rvDikK57fYroNKSNAAHrJ2HmwAA',\n",
       "   'object': 'event',\n",
       "   'status': 'confirmed',\n",
       "   'when': {'start_timezone': 'Europe/Lisbon',\n",
       "    'end_timezone': 'Europe/Lisbon',\n",
       "    'object': 'timespan',\n",
       "    'start_time': 1730451600,\n",
       "    'end_time': 1730453400},\n",
       "   'created_at': 1730223576,\n",
       "   'updated_at': 1730223579},\n",
       "  {'busy': True,\n",
       "   'calendar_id': 'AAkALgAAAAAAHYQDEapmEc2byACqAC-EWg0AT6mu_rvDikK57fYroNKSNAAEWMJ6ZAAA',\n",
       "   'hide_participants': False,\n",
       "   'ical_uid': '040000008200E00074C5B7101A82E008000000009BCC7D89292ADB0100000000000000001000000076BFDED998A0B346A2AE4043ECA6CFE0',\n",
       "   'organizer': {'name': 'Michael Ali', 'email': 'Azkar9@hotmail.co.uk'},\n",
       "   'participants': [],\n",
       "   'resources': [],\n",
       "   'read_only': False,\n",
       "   'reminders': {'use_default': True, 'overrides': []},\n",
       "   'title': 'testing meeting',\n",
       "   'visibility': 'public',\n",
       "   'html_link': 'https://outlook.live.com/owa/?itemid=AAkALgAAAAAAHYQDEapmEc2byACqAC%2FEWg0AT6mu%2BrvDikK57fYroNKSNAAHrJ2HngAA&exvsurl=1&path=/calendar/item',\n",
       "   'grant_id': '5ef0555c-25ab-4b4e-b4a1-02fd8ba4d255',\n",
       "   'id': 'AAkALgAAAAAAHYQDEapmEc2byACqAC-EWg0AT6mu_rvDikK57fYroNKSNAAHrJ2HngAA',\n",
       "   'object': 'event',\n",
       "   'status': 'confirmed',\n",
       "   'when': {'start_timezone': 'Europe/Lisbon',\n",
       "    'end_timezone': 'Europe/Lisbon',\n",
       "    'object': 'timespan',\n",
       "    'start_time': 1730712600,\n",
       "    'end_time': 1730714400},\n",
       "   'created_at': 1730223582,\n",
       "   'updated_at': 1730223587}]}"
      ]
     },
     "execution_count": 12,
     "metadata": {},
     "output_type": "execute_result"
    }
   ],
   "source": [
    "\"\"\" WORKING GET CALENDAR EVENTS \"\"\"\n",
    "calendar_id = \"AAkALgAAAAAAHYQDEapmEc2byACqAC-EWg0AT6mu_rvDikK57fYroNKSNAAEWMJ6ZAAA\"\n",
    "\n",
    "def get_calendar_events(grant_id: str, calendar_id: str = \"primary\", limit: int = 100) -> List[Dict[Any, Any]]:\n",
    "    \"\"\"\n",
    "    Fetch calendar events for a given grant (email) from Nylas API.\n",
    "    \"\"\"\n",
    "    # Use the v3 endpoint format\n",
    "    url = f\"{NYLAS_API_URI}/v3/grants/{grant_id}/events\"\n",
    "    \n",
    "    headers = {\n",
    "        \"Accept\": \"application/json\",\n",
    "        \"Authorization\": f\"Bearer {NYLAS_API_KEY}\",\n",
    "        \"Content-Type\": \"application/json\"\n",
    "    }\n",
    "    \n",
    "    params = {\n",
    "        \"calendar_id\": calendar_id,\n",
    "        \"limit\": limit\n",
    "    }\n",
    "    \n",
    "    response = requests.get(url, headers=headers, params=params)\n",
    "    response.raise_for_status()\n",
    "    \n",
    "    return response.json()\n",
    "\n",
    "# Test the function\n",
    "get_calendar_events(\"5ef0555c-25ab-4b4e-b4a1-02fd8ba4d255\", calendar_id=calendar_id)\n"
   ]
  },
  {
   "cell_type": "code",
   "execution_count": null,
   "metadata": {},
   "outputs": [],
   "source": []
  },
  {
   "cell_type": "code",
   "execution_count": null,
   "metadata": {},
   "outputs": [],
   "source": [
    "from services.knowledge_base.kb import get_kb_items\n",
    "\n",
    "response = await get_kb_items(\"user_2mmXezcGmjZCf88gT2v2waCBsXv\")"
   ]
  },
  {
   "cell_type": "code",
   "execution_count": null,
   "metadata": {},
   "outputs": [],
   "source": [
    "from itertools import groupby\n",
    "from operator import itemgetter\n",
    "\n",
    "def group_by_root_url(items):\n",
    "    if not isinstance(items, list):\n",
    "        raise TypeError(f\"Expected a list, got {type(items)}\")\n",
    "    \n",
    "    # Sort items by root_url\n",
    "    sorted_items = sorted(items, key=itemgetter('root_url'))\n",
    "    \n",
    "    # Group items and create consolidated records\n",
    "    result = []\n",
    "    for root_url, group in groupby(sorted_items, key=itemgetter('root_url')):\n",
    "        group_list = list(group)\n",
    "        \n",
    "        # Create consolidated record\n",
    "        consolidated = {\n",
    "            'title': root_url,  # Using root_url as title\n",
    "            'root_url': root_url,\n",
    "            'content': [{  # Group of URLs and their fields\n",
    "                'url': item.get('url', ''),\n",
    "                'id': item['id'],\n",
    "                'token_count': item.get('token_count', 0)\n",
    "            } for item in group_list],\n",
    "            'created_at': next(iter(group_list)).get('created_at', ''),  # Take created_at from first item\n",
    "            'data_type': 'web',\n",
    "            'user_id': group_list[0].get('user_id')  # Assuming user_id is consistent within group\n",
    "        }\n",
    "        result.append(consolidated)\n",
    "    \n",
    "    return result\n",
    "\n",
    "grouped = group_by_root_url(response)\n",
    "grouped"
   ]
  },
  {
   "cell_type": "code",
   "execution_count": null,
   "metadata": {},
   "outputs": [],
   "source": [
    "grouped[0]['content']"
   ]
  },
  {
   "cell_type": "code",
   "execution_count": 1,
   "metadata": {},
   "outputs": [
    {
     "name": "stdout",
     "output_type": "stream",
     "text": [
      "\n",
      "\n",
      "similarity_search...\n"
     ]
    },
    {
     "data": {
      "text/plain": [
       "[{'id': 53,\n",
       "  'parent_id': 49,\n",
       "  'content': 'Service Categories Pricing Routine Maintenance Oil Change Conventional $ 35 55 Synthetic Blend $ 55 75 Full Synthetic $ 75 95 Note Includes multi point inspection and fluid top off Tire Services Rotation $ 25 35 Balance $ 40 60 all wheels New Tires $ 80 300 per tire Note Same day service available for most tire work Brake Services Brake Pad Replacement $ 150 300 per axle Rotor Replacement $ 200 400 per axle Brake Fluid Flush $ 80 120 Note Free brake inspections available Diagnostic Services Check Engine Light $ 89 129 Full Vehicle Inspection $ 150 200 Computer Diagnostic $ 75 100 Note Diagnostic fees applicable to repair costs if work is performed Business Information Hours Monday Friday 7:30 AM 6:00 PM Saturday 8:00 AM 2:00 PM Payment All major credit cards cash financing available Warranty 12 month/12,000 mile warranty on labor Cancellation Policy 24 hour notice required',\n",
       "  'chunk_index': 0,\n",
       "  'user_id': 'user_2mmXezcGmjZCf88gT2v2waCBsXv',\n",
       "  'similarity': 0.497741788221918}]"
      ]
     },
     "execution_count": 1,
     "metadata": {},
     "output_type": "execute_result"
    }
   ],
   "source": [
    "from services.chat.chat import similarity_search\n",
    "\n",
    "await similarity_search(\"what is the cost of an oil change\", table_names=[\"user_text_files\"])"
   ]
  },
  {
   "cell_type": "code",
   "execution_count": null,
   "metadata": {},
   "outputs": [],
   "source": []
  }
 ],
 "metadata": {
  "kernelspec": {
   "display_name": "venv",
   "language": "python",
   "name": "python3"
  },
  "language_info": {
   "codemirror_mode": {
    "name": "ipython",
    "version": 3
   },
   "file_extension": ".py",
   "mimetype": "text/x-python",
   "name": "python",
   "nbconvert_exporter": "python",
   "pygments_lexer": "ipython3",
   "version": "3.12.6"
  }
 },
 "nbformat": 4,
 "nbformat_minor": 2
}
