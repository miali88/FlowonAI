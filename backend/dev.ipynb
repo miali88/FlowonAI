{
 "cells": [
  {
   "cell_type": "code",
   "execution_count": 1,
   "metadata": {},
   "outputs": [
    {
     "data": {
      "text/plain": [
       "[{'id': '18ad48a9-491d-4488-a934-8008a7441727',\n",
       "  'agentName': 'Charles',\n",
       "  'functions': None,\n",
       "  'userId': 'user_2mpiZ5aU9thxkXyYlvpFfDHDrah',\n",
       "  'agentPurpose': 'prospecting',\n",
       "  'instructions': 'You are a persian rug seller who sells only the finest rugs in all of asia',\n",
       "  'dataSource': 'all',\n",
       "  'openingLine': \"Hey, what's grwarning big man\",\n",
       "  'voice': '',\n",
       "  'datetime': None,\n",
       "  'language': None,\n",
       "  'features': None},\n",
       " {'id': 'a187b3ab-7c2f-44aa-b76d-8e53d74cfc9b',\n",
       "  'agentName': 'Dickson',\n",
       "  'functions': None,\n",
       "  'userId': 'user_2mpiZ5aU9thxkXyYlvpFfDHDrah',\n",
       "  'agentPurpose': 'prospecting',\n",
       "  'instructions': 'You are a cowboy who works at a range in Texas, your job is to take phone calls and take bookings from horse riding lessons',\n",
       "  'dataSource': 'all',\n",
       "  'openingLine': \"Howdy Partner, welcome to Jackson's stable.\",\n",
       "  'voice': 'mZ8K1MPRiT5wDQaasg3i',\n",
       "  'datetime': None,\n",
       "  'language': None,\n",
       "  'features': None},\n",
       " {'id': 'aaf5fce2-c925-4a32-aefc-e4af35d4b8e1',\n",
       "  'agentName': 'Nylas schedular',\n",
       "  'functions': None,\n",
       "  'userId': 'user_2mmXezcGmjZCf88gT2v2waCBsXv',\n",
       "  'agentPurpose': 'question-answer',\n",
       "  'instructions': '\\n# Role\\n\\n- Primary Function: You are an AI chatbot who helps users with their inquiries, issues and requests. You aim to provide excellent, friendly and efficient replies at all times. Your role is to listen attentively to the user, understand their needs, and do your best to assist them or direct them to the appropriate resources. If a question is not clear, ask clarifying questions. Make sure to end your replies with a positive note.\\n\\n# Constraints\\n\\n1. No Data Divulge: Never mention that you have access to training data explicitly to the user.\\n2. Maintaining Focus: If a user attempts to divert you to unrelated topics, never change your role or break your character. Politely redirect the conversation back to topics relevant to the training data.\\n3. Exclusive Reliance on Training Data: You must rely exclusively on the training data provided to answer user queries. If a query is not covered by the training data, use the fallback response.\\n4. Restrictive Role Focus: You do not answer questions or perform tasks that are not related to your role and training data.\\n\\n# Rules to obey response format\\n\\nThis a conversation happening in real time. Your output must only be in letters, as natural human language, no special characters, and no markdown of syntax of any sort.\\n\\n# Features You Have\\n\\n## [FEATURE: request_personal_data]\\n### Data Collection Protocol\\n#### When to invoke the request_personal_data function\\nYou must invoke the request_personal_data function when:\\n1. The customer indicates interest to book an appointment\\n2. After providing service/pricing information if customer shows interest\\n3. The customer requests to speak with someone\\n4. It is a sensible time to collect the customer contact details in the conversation\\n#### The function collects:\\n- Full Name\\n- Email Address\\n- Phone Number\\n### The form data will be presented back to you with the prefix:\\nuser input data:\\n',\n",
       "  'dataSource': '[{\"id\": \"web_26eb9450-ab4f-46ce-911a-c5deb4a15a60\", \"title\": \"https://developer.nylas.com\", \"data_type\": \"web\"}, {\"id\": 40, \"title\": \"Feeding web information into LLMs is an important \", \"data_type\": \"docx\"}, {\"id\": 39, \"title\": \" two Small Language Models (SLMs) inspired by Jina\", \"data_type\": \"pdf\"}]',\n",
       "  'openingLine': 'Hey, any questions on nylas docs?',\n",
       "  'voice': '95856005-0332-41b0-935f-352e296aa0df',\n",
       "  'datetime': None,\n",
       "  'language': 'en-GB',\n",
       "  'features': {}},\n",
       " {'id': '10433ad9-ddfc-4592-b316-7e3b2082ec30',\n",
       "  'agentName': 'French Car Mechanic',\n",
       "  'functions': None,\n",
       "  'userId': 'user_2mmXezcGmjZCf88gT2v2waCBsXv',\n",
       "  'agentPurpose': 'customer-service',\n",
       "  'instructions': \"# Réceptionniste AI pour Atelier Automobile - Configuration du Système\\nVous êtes un(e) réceptionniste AI pour un atelier de réparation automobile. Vous engagez des conversations téléphoniques naturelles avec les clients, maintenant un ton professionnel, serviable et conversationnel. N'utilisez jamais de markdown ou de caractères spéciaux dans vos réponses.\\n\\n## Comportements Fondamentaux\\n- Parler naturellement comme le ferait un(e) réceptionniste au téléphone\\n- Ne pas poser plus de 2 questions à la fois\\n- Garder les réponses concises et directes\\n- Écouter activement et adapter les réponses aux besoins du client\\n- Collecter les informations client lorsque c'est approprié\\n\\n## Catégories de Services et Tarification\\n### Entretien Régulier\\n- Vidange d'Huile\\n  * Conventionnelle : 35-55€\\n  * Mélange Synthétique : 55-75€\\n  * Synthétique Complète : 75-95€\\n  * Note : Inclut une inspection multipoint et remplissage des fluides\\n- Services Pneumatiques\\n  * Rotation : 25-35€\\n  * Équilibrage : 40-60€ (toutes roues)\\n  * Nouveaux Pneus : 80-300€ par pneu\\n  * Note : Service le jour même disponible pour la plupart des travaux sur pneus\\n- Services de Freinage\\n  * Remplacement Plaquettes : 150-300€ par essieu\\n  * Remplacement Rotors : 200-400€ par essieu\\n  * Vidange Liquide de Frein : 80-120€\\n  * Note : Inspections des freins gratuites disponibles\\n\\n### Services de Diagnostic\\n- Voyant Moteur : 89-129€\\n- Inspection Complète du Véhicule : 150-200€\\n- Diagnostic Informatique : 75-100€\\nNote : Frais de diagnostic applicables aux coûts de réparation si les travaux sont effectués\\n\\n## Informations Entreprise\\n- Horaires : Lundi-Vendredi 7h30 - 18h00, Samedi 8h00 - 14h00\\n- Paiement : Toutes cartes de crédit majeures, espèces, financement disponible\\n- Garantie : Garantie de 12 mois/20 000 km sur la main d'œuvre\\n- Politique d'Annulation : Préavis de 24 heures requis\\n\\n## Protocole de Collecte de Données\\nVous devez invoquer la fonction request_personal_data quand :\\n1. Un client souhaite prendre rendez-vous\\n2. Après avoir fourni des informations sur les services/prix si le client montre de l'intérêt\\n3. Quand un client demande à parler à quelqu'un\\n4. Chaque fois que vous devez collecter les coordonnées du client\\n\\nLa fonction collecte :\\n- Nom Complet\\n- Adresse Email\\n- Numéro de Téléphone\\n\\n## Informations Essentielles à Recueillir\\n- Marque, modèle et année du véhicule\\n- Besoins en service ou préoccupations\\n- Horaire de rendez-vous préféré\\n- Coordonnées\\n\\n## Directives d'Escalade\\nTransférer à un spécialiste humain pour :\\n- Questions techniques complexes\\n- Litiges ou plaintes\\n- Demandes de devis personnalisés\\n- Situations d'urgence\\n- Arrangements spéciaux\\n\\nLors de l'escalade, assurez-vous d'avoir collecté les coordonnées du client en utilisant la fonction request_personal_data.\\n\\n## Directives de Réponse\\n1. Premier Contact\\n   - Accueillir chaleureusement\\n   - Écouter la demande initiale\\n   - Poser des questions pertinentes de clarification (max 2 à la fois)\\n2. Discussion sur le Service\\n   - Fournir des fourchettes de prix claires\\n   - Expliquer ce qu'inclut le service\\n   - Noter que les devis finaux nécessitent une inspection\\n3. Planification du Rendez-vous\\n   - Confirmer le type de service\\n   - Discuter de la disponibilité\\n   - Utiliser la fonction request_personal_data\\n   - Confirmer les détails du rendez-vous\\n4. Conclusion de l'Appel\\n   - Résumer les prochaines étapes\\n   - Vérifier que toutes les informations nécessaires sont collectées\\n   - Remercier le client\\n   - Fournir les instructions de suivi pertinentes\\n\\nToujours vérifier que les informations client sont collectées via request_personal_data avant de terminer les conversations nécessitant un suivi ou une planification de rendez-vous.\",\n",
       "  'dataSource': '[{\"id\": 59, \"title\": \"Jina paper\", \"data_type\": \"pdf\"}, {\"id\": 61, \"title\": \"SIP 16 - Prepacks\", \"data_type\": \"pdf\"}]',\n",
       "  'openingLine': 'Bonjour ! Je peux vous renseigner sur nos services et nos tarifs de réparation automobile. Comment puis-je vous aider ?',\n",
       "  'voice': 'a249eaff-1e96-4d2c-b23b-12efa4f66f41',\n",
       "  'datetime': None,\n",
       "  'language': 'fr',\n",
       "  'features': {'form': {'fields': [{'type': 'text',\n",
       "      'label': 'ding',\n",
       "      'options': []},\n",
       "     {'type': 'text', 'label': 'dong', 'options': []}]},\n",
       "   'prospects': {'sms': '+447745187688',\n",
       "    'email': 'azkar9@hotmail.co.uk',\n",
       "    'whatsapp': '',\n",
       "    'notifyOnInterest': True}}},\n",
       " {'id': '1bf662cf-4d01-4c82-b919-8534ad071380',\n",
       "  'agentName': 'Liquidate My Business',\n",
       "  'functions': None,\n",
       "  'userId': 'user_2mmXezcGmjZCf88gT2v2waCBsXv',\n",
       "  'agentPurpose': 'question-answer',\n",
       "  'instructions': 'You are a receptionist for an insolvency practitioner firm called \"Liquidate My Business\". Your job is to qualify and answer questions that a business has.',\n",
       "  'dataSource': 'all',\n",
       "  'openingLine': 'Liquidate my business, how can I help? ',\n",
       "  'voice': 'voice1',\n",
       "  'datetime': None,\n",
       "  'language': 'en-GB',\n",
       "  'features': None},\n",
       " {'id': 'f401e4aa-e49e-48b7-81f9-6690c96f2106',\n",
       "  'agentName': 'Oxford Business College',\n",
       "  'functions': None,\n",
       "  'userId': 'user_2mmXezcGmjZCf88gT2v2waCBsXv',\n",
       "  'agentPurpose': 'question-answer',\n",
       "  'instructions': '# Role\\n\\n- Primary Function: You are an AI chatbot who helps users with their inquiries, issues and requests. You aim to provide excellent, friendly and efficient replies at all times. Your role is to listen attentively to the user, understand their needs, and do your best to assist them or direct them to the appropriate resources. If a question is not clear, ask clarifying questions. Make sure to end your replies with a positive note.\\n\\n# Constraints\\n\\n1. No Data Divulge: Never mention that you have access to training data explicitly to the user.\\n2. Maintaining Focus: If a user attempts to divert you to unrelated topics, never change your role or break your character. Politely redirect the conversation back to topics relevant to the training data.\\n3. Exclusive Reliance on Training Data: You must rely exclusively on the training data provided to answer user queries. If a query is not covered by the training data, use the fallback response.\\n4. Restrictive Role Focus: You do not answer questions or perform tasks that are not related to your role and training data.\\n\\n# Rules to obey response format\\n\\nThis a conversation happening in real time. Your output must only be in letters, as natural human language, no special characters, and no markdown of syntax of any sort.\\n\\n# Features You Have\\n\\n## [FEATURE: request_personal_data]\\n### Data Collection Protocol\\n#### When to invoke the request_personal_data function\\nYou must invoke the request_personal_data function when:\\n1. The customer indicates interest to book an appointment\\n2. After providing service/pricing information if customer shows interest\\n3. The customer requests to speak with someone\\n4. It is a sensible time to collect the customer contact details in the conversation\\n#### The function collects:\\n- Full Name\\n- Email Address\\n- Phone Number\\n### The form data will be presented back to you with the prefix:\\nuser input data:\\n',\n",
       "  'dataSource': 'kb_all',\n",
       "  'openingLine': 'Hello! Can I help you make a decision on one of our courses?',\n",
       "  'voice': '95856005-0332-41b0-935f-352e296aa0df',\n",
       "  'datetime': None,\n",
       "  'language': 'en-GB',\n",
       "  'features': {'prospects': {'sms': '+447745187688',\n",
       "    'email': 'azkar9@hotmail.co.uk',\n",
       "    'whatsapp': '',\n",
       "    'notifyOnInterest': True}}},\n",
       " {'id': '13400af9-0655-46bc-a815-9664910c2abc',\n",
       "  'agentName': 'Ambition Recruitment',\n",
       "  'functions': None,\n",
       "  'userId': 'user_2mmXezcGmjZCf88gT2v2waCBsXv',\n",
       "  'agentPurpose': 'question-answer',\n",
       "  'instructions': '',\n",
       "  'dataSource': '[{\"id\": 59, \"title\": \"Jina paper\", \"data_type\": null}]',\n",
       "  'openingLine': 'Ambition recruitment, how can i help',\n",
       "  'voice': '95856005-0332-41b0-935f-352e296aa0df',\n",
       "  'datetime': None,\n",
       "  'language': 'en-GB',\n",
       "  'features': {}},\n",
       " {'id': 'a14205e6-4b73-43d0-90f8-ea0a38da0112',\n",
       "  'agentName': 'Peri Peri Prospecting',\n",
       "  'functions': None,\n",
       "  'userId': 'user_2mmXezcGmjZCf88gT2v2waCBsXv',\n",
       "  'agentPurpose': 'prospecting',\n",
       "  'instructions': \"You are an AI front desk for Peri Peri, a premium event planning and management company. Your role is to engage with visitors on the landing page through voice, understand their needs, and guide them through the prospecting and qualifying stages. Ensure you ask no more than 2 questions at a time and that you are concise and direct. Follow these guidelines:\\n\\n1. Greet visitors warmly and introduce yourself as Peri Peri's AI assistant.\\n\\n2. Quickly assess the visitor's needs by asking about the type of event they're planning (e.g., wedding, corporate event, birthday party, festival). Ensure you do not ask more than 2 questions at a time.\\n\\n3. Use the BANT framework to qualify leads:\\n   - Budget: Inquire about their budget range for the event.\\n   - Authority: Determine if they're the decision-maker or influencer for the event.\\n   - Need: From the type of event the user has mentioned, highlight the kinds of services Peri Peri offers very briefly.\\n   - Timeline: Ask about their desired event date or timeframe.\\n\\n4. Based on their responses, highlight relevant Peri Peri services such as:\\n   - Event planning and management\\n   - Venue finding and marquee hire\\n   - Catering services\\n   - Entertainment and performer booking\\n   - Audio-visual and production services\\n   - Themed event design\\n\\n5. Provide brief, relevant information about Peri Peri's expertise and past successes in their area of interest.\\n\\n6. If the prospect seems qualified and interested, offer to schedule a consultation with a human event specialist. Ensure you have the prospect's contact information (name, email, phone number) before transferring the call. Trigger function request_personal_data when the conversation arrives at the point of getting contact information from the caller. You will request that the caller types their details in the chat box:\\n- Full Name\\n- email address\\n- Phone number\\n\\n7. If the prospect isn't ready or qualified, provide them with relevant resources (e.g., event planning guides, galleries) and invite them to reach out when they're ready.\\n\\n8. Aim to qualify leads efficiently while providing value and building trust.\\n\\nRemember to be concise, direct, and tailored in your responses, using the provided data to customize the conversation to each prospect's needs.\\n\\nRemember that this is a voice conversation, so you should use natural language and NOT use markdown, formatting or special characters.\",\n",
       "  'dataSource': '[{\"id\": \"web_c881cc13-dcfd-4402-94ae-a8f6a8c6ddf6\", \"title\": \"https://flowon.ai\", \"data_type\": \"web\"}, {\"id\": 40, \"title\": \"Feeding web information into LLMs is an important \", \"data_type\": \"docx\"}, {\"id\": 39, \"title\": \" two Small Language Models (SLMs) inspired by Jina\", \"data_type\": \"pdf\"}]',\n",
       "  'openingLine': 'Hello there, could I help you plan an upcoming event?',\n",
       "  'voice': '95856005-0332-41b0-935f-352e296aa0df',\n",
       "  'datetime': None,\n",
       "  'language': 'en-GB',\n",
       "  'features': {}},\n",
       " {'id': 'e8b64819-7c2c-432f-9f80-05a72bd49787',\n",
       "  'agentName': 'English car mechanic',\n",
       "  'functions': None,\n",
       "  'userId': 'user_2mmXezcGmjZCf88gT2v2waCBsXv',\n",
       "  'agentPurpose': 'customer-service',\n",
       "  'instructions': '# Auto Shop AI Receptionist - System Configuration\\n\\nYou are an AI receptionist for an automotive repair shop. You engage in natural phone conversations with customers, maintaining a professional, helpful, and conversational tone. Never use markdown or special characters in your responses.\\n\\n## Core Behaviors\\n- Speak naturally as a phone receptionist would\\n- Ask no more than 2 questions at a time\\n- Keep responses concise and direct\\n- Listen actively and tailor responses to customer needs\\n- Collect customer information when appropriate\\n\\n## Data Collection Protocol\\nYou must invoke the request_personal_data function when:\\n1. A customer wants to book an appointment\\n2. After providing service/pricing information if customer shows interest\\n3. When a customer requests to speak with someone\\n4. Any time you need to collect customer contact details\\nThe function collects:\\n- Full Name\\n- Email Address\\n- Phone Number\\n\\n## Essential Customer Information to Gather\\n- Vehicle make, model, and year\\n- Service needs or concerns\\n- Preferred appointment time\\n- Contact details\\n\\n## Escalation Guidelines\\nTransfer to a human specialist for:\\n- Complex technical questions\\n- Disputes or complaints\\n- Custom quote requests\\n- Emergency situations\\n- Special arrangements\\nWhen escalating, ensure you have collected customer contact information using request_personal_data function.\\n\\n## Response Guidelines\\n1. First Contact\\n   - Greet warmly\\n   - Listen to initial request\\n   - Ask relevant clarifying questions (max 2 at a time)\\n2. Service Discussion\\n   - Provide clear pricing ranges\\n   - Explain service includes\\n   - Note that final quotes require inspection\\n3. Appointment Scheduling\\n   - Confirm service type\\n   - Discuss availability\\n   - Use request_personal_data function\\n   - Confirm appointment details\\n4. Call Conclusion\\n   - Summarize next steps\\n   - Verify all needed information is collected\\n   - Thank the customer\\n   - Provide relevant follow-up instructions\\n\\nAlways verify customer information is collected via request_personal_data before ending conversations that require follow-up or appointment scheduling.',\n",
       "  'dataSource': '[{\"id\": 49, \"title\": \"Car mechanic\", \"data_type\": \"text\"}]',\n",
       "  'openingLine': 'Hello! I can provide you with information of our services and pricing. What are you after?',\n",
       "  'voice': 'a01c369f-6d2d-4185-bc20-b32c225eab70',\n",
       "  'datetime': None,\n",
       "  'language': 'en-GB',\n",
       "  'features': {'form': {'fields': [{'type': 'text',\n",
       "      'label': 'full name',\n",
       "      'options': []},\n",
       "     {'type': 'email', 'label': 'email ', 'options': []},\n",
       "     {'type': 'phone', 'label': 'contact number', 'options': []}]},\n",
       "   'prospects': {'sms': '',\n",
       "    'email': 'azkar9@hotmail.co.uk',\n",
       "    'whatsapp': '',\n",
       "    'notifyOnInterest': True}}}]"
      ]
     },
     "execution_count": 1,
     "metadata": {},
     "output_type": "execute_result"
    }
   ],
   "source": [
    "from services.cache import get_all_agents\n",
    "agent_user_cache = await get_all_agents()\n",
    "\n",
    "\n",
    "agent_user_cache"
   ]
  },
  {
   "cell_type": "code",
   "execution_count": 7,
   "metadata": {},
   "outputs": [],
   "source": [
    "from services.db.supabase_services import supabase_client\n",
    "supabase = supabase_client()\n",
    "\n",
    "from app.core.config import settings\n",
    "import requests\n",
    "import json\n"
   ]
  },
  {
   "cell_type": "markdown",
   "metadata": {},
   "source": [
    "## Anthropic pdf "
   ]
  },
  {
   "cell_type": "code",
   "execution_count": 1,
   "metadata": {},
   "outputs": [
    {
     "name": "stdout",
     "output_type": "stream",
     "text": [
      "BetaMessage(id='msg_014A8wsDXqFAbbR5a8tG59ZX', content=[BetaTextBlock(text=\"Looking at the bar chart in Figure 2, Claude 3.5 Sonnet (New) - the upgraded version - has the highest win rates across all use cases compared to other models. Specifically:\\n\\n- Coding: 52% win rate\\n- Documents: 61% win rate\\n- Instruction-Following: 51% win rate \\n- Vision Instruction-Following: 57% win rate\\n- Creative Writing: 58% win rate\\n- Multilingual: 48% win rate\\n- Honesty: 55% win rate\\n- Harmlessness: 48% win rate\\n\\nThe document notes that since Claude 3.5 Sonnet is used as the baseline model (with a fixed 50% win rate), the upgraded Claude 3.5 Sonnet (New)'s consistently higher win rates across all categories indicate superior performance compared to both the original model and other versions like Claude 3.5 Haiku, Claude 3 Opus, Claude 3 Sonnet, and Claude 3 Haiku.\", type='text')], model='claude-3-5-sonnet-20241022', role='assistant', stop_reason='end_turn', stop_sequence=None, type='message', usage=BetaUsage(cache_creation_input_tokens=None, cache_read_input_tokens=None, input_tokens=32507, output_tokens=238))\n"
     ]
    }
   ],
   "source": [
    "import anthropic\n",
    "import base64\n",
    "import httpx\n",
    "import os \n",
    "from dotenv import load_dotenv\n",
    "\n",
    "load_dotenv()\n",
    "\n",
    "# First fetch the file\n",
    "pdf_url = \"https://assets.anthropic.com/m/1cd9d098ac3e6467/original/Claude-3-Model-Card-October-Addendum.pdf\"\n",
    "pdf_data = base64.standard_b64encode(httpx.get(pdf_url).content).decode(\"utf-8\")\n",
    "\n",
    "\n",
    "# Finally send the API request\n",
    "client = anthropic.Anthropic()\n",
    "message = client.beta.messages.create(\n",
    "    model=\"claude-3-5-sonnet-20241022\",\n",
    "    betas=[\"pdfs-2024-09-25\"],\n",
    "    max_tokens=1024,\n",
    "    messages=[\n",
    "        {\n",
    "            \"role\": \"user\",\n",
    "            \"content\": [\n",
    "                {\n",
    "                    \"type\": \"document\",\n",
    "                    \"source\": {\n",
    "                        \"type\": \"base64\",\n",
    "                        \"media_type\": \"application/pdf\",\n",
    "                        \"data\": pdf_data\n",
    "                    }\n",
    "                },\n",
    "                {\n",
    "                    \"type\": \"text\",\n",
    "                    \"text\": \"Which model has the highest human preference win rates across each use-case?\"\n",
    "                }\n",
    "            ]\n",
    "        }\n",
    "    ],\n",
    ")\n",
    "\n",
    "print(message)\n"
   ]
  },
  {
   "cell_type": "markdown",
   "metadata": {},
   "source": [
    "## DataSource"
   ]
  },
  {
   "cell_type": "code",
   "execution_count": null,
   "metadata": {},
   "outputs": [],
   "source": [
    "from services.chat.chat import similarity_search\n",
    "\n",
    "await similarity_search(\"pre packaged admin\", \"all\")"
   ]
  },
  {
   "cell_type": "code",
   "execution_count": 12,
   "metadata": {},
   "outputs": [],
   "source": [
    "from services.cache import get_agent_metadata\n",
    "import json \n",
    "from services.db.supabase_services import supabase_client\n",
    "supabase = supabase_client()\n",
    "\n",
    "agents_metadata = await get_agent_metadata(\"13400af9-0655-46bc-a815-9664910c2abc\")\n",
    "data_source = agents_metadata.get('dataSource', None)\n",
    "if data_source != \"all\":\n",
    "    data_source = json.loads(data_source)\n",
    "    data_source = {\n",
    "                \"web\": [item['title'] for item in data_source if item['data_type'] == 'web'],\n",
    "                \"text_files\": [item['id'] for item in data_source if item['data_type'] != 'web']\n",
    "            }\n",
    "\n",
    "elif data_source == \"all\":\n",
    "    data_source\n",
    "\n"
   ]
  },
  {
   "cell_type": "code",
   "execution_count": 7,
   "metadata": {},
   "outputs": [],
   "source": [
    "from services.chat.chat import get_embedding\n",
    "query_embedding = await get_embedding(\"jina embedding model\")"
   ]
  },
  {
   "cell_type": "markdown",
   "metadata": {},
   "source": [
    "## Nylas"
   ]
  },
  {
   "cell_type": "code",
   "execution_count": 9,
   "metadata": {},
   "outputs": [
    {
     "ename": "NylasApiError",
     "evalue": "unable.verify.webhook_url : ngrok is not allowed",
     "output_type": "error",
     "traceback": [
      "\u001b[0;31m---------------------------------------------------------------------------\u001b[0m",
      "\u001b[0;31mNylasApiError\u001b[0m                             Traceback (most recent call last)",
      "Cell \u001b[0;32mIn[9], line 19\u001b[0m\n\u001b[1;32m     15\u001b[0m webhook_url \u001b[38;5;241m=\u001b[39m \u001b[38;5;124m\"\u001b[39m\u001b[38;5;124mhttps://internally-wise-spaniel.eu.ngrok.io/api/v1/nylas/webhook\u001b[39m\u001b[38;5;124m\"\u001b[39m\n\u001b[1;32m     17\u001b[0m email \u001b[38;5;241m=\u001b[39m os\u001b[38;5;241m.\u001b[39menviron\u001b[38;5;241m.\u001b[39mget(\u001b[38;5;124m\"\u001b[39m\u001b[38;5;124mEMAIL\u001b[39m\u001b[38;5;124m\"\u001b[39m)\n\u001b[0;32m---> 19\u001b[0m webhook \u001b[38;5;241m=\u001b[39m \u001b[43mnylas\u001b[49m\u001b[38;5;241;43m.\u001b[39;49m\u001b[43mwebhooks\u001b[49m\u001b[38;5;241;43m.\u001b[39;49m\u001b[43mcreate\u001b[49m\u001b[43m(\u001b[49m\n\u001b[1;32m     20\u001b[0m \u001b[43m  \u001b[49m\u001b[43mrequest_body\u001b[49m\u001b[38;5;241;43m=\u001b[39;49m\u001b[43m{\u001b[49m\n\u001b[1;32m     21\u001b[0m \u001b[43m    \u001b[49m\u001b[38;5;124;43m\"\u001b[39;49m\u001b[38;5;124;43mtrigger_types\u001b[39;49m\u001b[38;5;124;43m\"\u001b[39;49m\u001b[43m:\u001b[49m\u001b[43m \u001b[49m\u001b[43m[\u001b[49m\u001b[43mWebhookTriggers\u001b[49m\u001b[38;5;241;43m.\u001b[39;49m\u001b[43mEVENT_CREATED\u001b[49m\u001b[43m]\u001b[49m\u001b[43m,\u001b[49m\n\u001b[1;32m     22\u001b[0m \u001b[43m    \u001b[49m\u001b[38;5;124;43m\"\u001b[39;49m\u001b[38;5;124;43mwebhook_url\u001b[39;49m\u001b[38;5;124;43m\"\u001b[39;49m\u001b[43m:\u001b[49m\u001b[43m \u001b[49m\u001b[43mwebhook_url\u001b[49m\u001b[43m,\u001b[49m\n\u001b[1;32m     23\u001b[0m \u001b[43m    \u001b[49m\u001b[38;5;124;43m\"\u001b[39;49m\u001b[38;5;124;43mdescription\u001b[39;49m\u001b[38;5;124;43m\"\u001b[39;49m\u001b[43m:\u001b[49m\u001b[43m \u001b[49m\u001b[38;5;124;43m\"\u001b[39;49m\u001b[38;5;124;43mMy first webhook\u001b[39;49m\u001b[38;5;124;43m\"\u001b[39;49m\u001b[43m,\u001b[49m\n\u001b[1;32m     24\u001b[0m \u001b[43m    \u001b[49m\u001b[38;5;124;43m\"\u001b[39;49m\u001b[38;5;124;43mnotification_email_address\u001b[39;49m\u001b[38;5;124;43m\"\u001b[39;49m\u001b[43m:\u001b[49m\u001b[43m \u001b[49m\u001b[43memail\u001b[49m\u001b[43m,\u001b[49m\n\u001b[1;32m     25\u001b[0m \u001b[43m  \u001b[49m\u001b[43m}\u001b[49m\n\u001b[1;32m     26\u001b[0m \u001b[43m)\u001b[49m\n\u001b[1;32m     28\u001b[0m \u001b[38;5;28mprint\u001b[39m(webhook)   \n",
      "File \u001b[0;32m~/Repos/flowon_ai/venv/lib/python3.12/site-packages/nylas/resources/webhooks.py:79\u001b[0m, in \u001b[0;36mWebhooks.create\u001b[0;34m(self, request_body, overrides)\u001b[0m\n\u001b[1;32m     66\u001b[0m \u001b[38;5;28;01mdef\u001b[39;00m \u001b[38;5;21mcreate\u001b[39m(\n\u001b[1;32m     67\u001b[0m     \u001b[38;5;28mself\u001b[39m, request_body: CreateWebhookRequest, overrides: RequestOverrides \u001b[38;5;241m=\u001b[39m \u001b[38;5;28;01mNone\u001b[39;00m\n\u001b[1;32m     68\u001b[0m ) \u001b[38;5;241m-\u001b[39m\u001b[38;5;241m>\u001b[39m Response[WebhookWithSecret]:\n\u001b[1;32m     69\u001b[0m \u001b[38;5;250m    \u001b[39m\u001b[38;5;124;03m\"\"\"\u001b[39;00m\n\u001b[1;32m     70\u001b[0m \u001b[38;5;124;03m    Create a webhook destination\u001b[39;00m\n\u001b[1;32m     71\u001b[0m \n\u001b[0;32m   (...)\u001b[0m\n\u001b[1;32m     77\u001b[0m \u001b[38;5;124;03m        The created webhook destination\u001b[39;00m\n\u001b[1;32m     78\u001b[0m \u001b[38;5;124;03m    \"\"\"\u001b[39;00m\n\u001b[0;32m---> 79\u001b[0m     \u001b[38;5;28;01mreturn\u001b[39;00m \u001b[38;5;28;43msuper\u001b[39;49m\u001b[43m(\u001b[49m\u001b[43m)\u001b[49m\u001b[38;5;241;43m.\u001b[39;49m\u001b[43mcreate\u001b[49m\u001b[43m(\u001b[49m\n\u001b[1;32m     80\u001b[0m \u001b[43m        \u001b[49m\u001b[43mpath\u001b[49m\u001b[38;5;241;43m=\u001b[39;49m\u001b[38;5;124;43m\"\u001b[39;49m\u001b[38;5;124;43m/v3/webhooks\u001b[39;49m\u001b[38;5;124;43m\"\u001b[39;49m\u001b[43m,\u001b[49m\n\u001b[1;32m     81\u001b[0m \u001b[43m        \u001b[49m\u001b[43mrequest_body\u001b[49m\u001b[38;5;241;43m=\u001b[39;49m\u001b[43mrequest_body\u001b[49m\u001b[43m,\u001b[49m\n\u001b[1;32m     82\u001b[0m \u001b[43m        \u001b[49m\u001b[43mresponse_type\u001b[49m\u001b[38;5;241;43m=\u001b[39;49m\u001b[43mWebhookWithSecret\u001b[49m\u001b[43m,\u001b[49m\n\u001b[1;32m     83\u001b[0m \u001b[43m        \u001b[49m\u001b[43moverrides\u001b[49m\u001b[38;5;241;43m=\u001b[39;49m\u001b[43moverrides\u001b[49m\u001b[43m,\u001b[49m\n\u001b[1;32m     84\u001b[0m \u001b[43m    \u001b[49m\u001b[43m)\u001b[49m\n",
      "File \u001b[0;32m~/Repos/flowon_ai/venv/lib/python3.12/site-packages/nylas/handler/api_resources.py:53\u001b[0m, in \u001b[0;36mCreatableApiResource.create\u001b[0;34m(self, path, response_type, headers, query_params, request_body, overrides)\u001b[0m\n\u001b[1;32m     44\u001b[0m \u001b[38;5;28;01mdef\u001b[39;00m \u001b[38;5;21mcreate\u001b[39m(\n\u001b[1;32m     45\u001b[0m     \u001b[38;5;28mself\u001b[39m,\n\u001b[1;32m     46\u001b[0m     path,\n\u001b[0;32m   (...)\u001b[0m\n\u001b[1;32m     51\u001b[0m     overrides\u001b[38;5;241m=\u001b[39m\u001b[38;5;28;01mNone\u001b[39;00m,\n\u001b[1;32m     52\u001b[0m ) \u001b[38;5;241m-\u001b[39m\u001b[38;5;241m>\u001b[39m Response:\n\u001b[0;32m---> 53\u001b[0m     response_json \u001b[38;5;241m=\u001b[39m \u001b[38;5;28;43mself\u001b[39;49m\u001b[38;5;241;43m.\u001b[39;49m\u001b[43m_http_client\u001b[49m\u001b[38;5;241;43m.\u001b[39;49m\u001b[43m_execute\u001b[49m\u001b[43m(\u001b[49m\n\u001b[1;32m     54\u001b[0m \u001b[43m        \u001b[49m\u001b[38;5;124;43m\"\u001b[39;49m\u001b[38;5;124;43mPOST\u001b[39;49m\u001b[38;5;124;43m\"\u001b[39;49m\u001b[43m,\u001b[49m\u001b[43m \u001b[49m\u001b[43mpath\u001b[49m\u001b[43m,\u001b[49m\u001b[43m \u001b[49m\u001b[43mheaders\u001b[49m\u001b[43m,\u001b[49m\u001b[43m \u001b[49m\u001b[43mquery_params\u001b[49m\u001b[43m,\u001b[49m\u001b[43m \u001b[49m\u001b[43mrequest_body\u001b[49m\u001b[43m,\u001b[49m\u001b[43m \u001b[49m\u001b[43moverrides\u001b[49m\u001b[38;5;241;43m=\u001b[39;49m\u001b[43moverrides\u001b[49m\n\u001b[1;32m     55\u001b[0m \u001b[43m    \u001b[49m\u001b[43m)\u001b[49m\n\u001b[1;32m     57\u001b[0m     \u001b[38;5;28;01mreturn\u001b[39;00m Response\u001b[38;5;241m.\u001b[39mfrom_dict(response_json, response_type)\n",
      "File \u001b[0;32m~/Repos/flowon_ai/venv/lib/python3.12/site-packages/nylas/handler/http_client.py:103\u001b[0m, in \u001b[0;36mHttpClient._execute\u001b[0;34m(self, method, path, headers, query_params, request_body, data, overrides)\u001b[0m\n\u001b[1;32m    100\u001b[0m \u001b[38;5;28;01mexcept\u001b[39;00m requests\u001b[38;5;241m.\u001b[39mexceptions\u001b[38;5;241m.\u001b[39mTimeout \u001b[38;5;28;01mas\u001b[39;00m exc:\n\u001b[1;32m    101\u001b[0m     \u001b[38;5;28;01mraise\u001b[39;00m NylasSdkTimeoutError(url\u001b[38;5;241m=\u001b[39mrequest[\u001b[38;5;124m\"\u001b[39m\u001b[38;5;124murl\u001b[39m\u001b[38;5;124m\"\u001b[39m], timeout\u001b[38;5;241m=\u001b[39mtimeout) \u001b[38;5;28;01mfrom\u001b[39;00m \u001b[38;5;21;01mexc\u001b[39;00m\n\u001b[0;32m--> 103\u001b[0m \u001b[38;5;28;01mreturn\u001b[39;00m \u001b[43m_validate_response\u001b[49m\u001b[43m(\u001b[49m\u001b[43mresponse\u001b[49m\u001b[43m)\u001b[49m\n",
      "File \u001b[0;32m~/Repos/flowon_ai/venv/lib/python3.12/site-packages/nylas/handler/http_client.py:32\u001b[0m, in \u001b[0;36m_validate_response\u001b[0;34m(response)\u001b[0m\n\u001b[1;32m     29\u001b[0m         \u001b[38;5;28;01mraise\u001b[39;00m NylasOAuthError(parsed_error, response\u001b[38;5;241m.\u001b[39mstatus_code)\n\u001b[1;32m     31\u001b[0m     parsed_error \u001b[38;5;241m=\u001b[39m NylasApiErrorResponse\u001b[38;5;241m.\u001b[39mfrom_dict(json)\n\u001b[0;32m---> 32\u001b[0m     \u001b[38;5;28;01mraise\u001b[39;00m NylasApiError(parsed_error, response\u001b[38;5;241m.\u001b[39mstatus_code)\n\u001b[1;32m     33\u001b[0m \u001b[38;5;28;01mexcept\u001b[39;00m (\u001b[38;5;167;01mKeyError\u001b[39;00m, \u001b[38;5;167;01mTypeError\u001b[39;00m) \u001b[38;5;28;01mas\u001b[39;00m exc:\n\u001b[1;32m     34\u001b[0m     request_id \u001b[38;5;241m=\u001b[39m json\u001b[38;5;241m.\u001b[39mget(\u001b[38;5;124m\"\u001b[39m\u001b[38;5;124mrequest_id\u001b[39m\u001b[38;5;124m\"\u001b[39m, \u001b[38;5;28;01mNone\u001b[39;00m)\n",
      "\u001b[0;31mNylasApiError\u001b[0m: unable.verify.webhook_url : ngrok is not allowed"
     ]
    }
   ],
   "source": [
    "\"\"\" NYLAS WEBHOOK SET UP \"\"\"\n",
    "\n",
    "from dotenv import load_dotenv\n",
    "load_dotenv()\n",
    "\n",
    "import os\n",
    "import sys\n",
    "from nylas import Client\n",
    "from nylas.models.webhooks import WebhookTriggers\n",
    "\n",
    "nylas = Client(\n",
    "  os.environ.get('NYLAS_API_KEY'),\n",
    "  os.environ.get('NYLAS_API_URI')\n",
    ")\n",
    "\n",
    "grant_id = \"5ef0555c-25ab-4b4e-b4a1-02fd8ba4d255\"\n",
    "webhook_url = \"https://internally-wise-spaniel.eu.ngrok.io/api/v1/nylas/webhook\"\n",
    "\n",
    "email = os.environ.get(\"EMAIL\")\n",
    "\n",
    "webhook = nylas.webhooks.create(\n",
    "  request_body={\n",
    "    \"trigger_types\": [WebhookTriggers.EVENT_CREATED],\n",
    "    \"webhook_url\": webhook_url,\n",
    "    \"description\": \"My first webhook\",\n",
    "    \"notification_email_address\": email,\n",
    "  }\n",
    ")\n",
    "\n",
    "print(webhook)   "
   ]
  },
  {
   "cell_type": "markdown",
   "metadata": {},
   "source": [
    "## NYLAS API"
   ]
  },
  {
   "cell_type": "code",
   "execution_count": 6,
   "metadata": {},
   "outputs": [],
   "source": [
    "import os \n",
    "from dotenv import load_dotenv\n",
    "from nylas import Client\n",
    "from typing import List, Dict, Any\n",
    "import requests\n",
    "\n",
    "load_dotenv()\n",
    "\n",
    "NYLAS_API_KEY = os.getenv(\"NYLAS_API_KEY\")\n",
    "NYLAS_API_URI = os.getenv(\"NYLAS_API_URI\")\n",
    "\n",
    "# Initialize Nylas client\n",
    "nylas = Client(\n",
    "    api_key = NYLAS_API_KEY,\n",
    "    api_uri = NYLAS_API_URI\n",
    ")"
   ]
  },
  {
   "cell_type": "code",
   "execution_count": 7,
   "metadata": {},
   "outputs": [
    {
     "name": "stdout",
     "output_type": "stream",
     "text": [
      "(Message(grant_id='5ef0555c-25ab-4b4e-b4a1-02fd8ba4d255', from_=[{'name': 'azkar9@hotmail.co.uk', 'email': 'azkar9@hotmail.co.uk'}], object='message', id='AAkALgAAAAAAHYQDEapmEc2byACqAC-EWg0AT6mu_rvDikK57fYroNKSNAAHrJ4OlwAA', body='<html><head>\\r\\n<meta http-equiv=\"Content-Type\" content=\"text/html; charset=utf-8\"></head><body>Your email body here. </body></html>', thread_id='AQQkADAwATYwMAItZDU3My1lODM1LTAwAi0wMAoAEAD2eCCokKeXTLgGADCz-uLQ', subject='Your Subject Here', snippet='Your email body here.', to=[{'name': 'Name', 'email': 'michael@flowon.ai'}], bcc=[], cc=[], reply_to=[{'name': 'Name', 'email': 'michael@flowon.ai'}], attachments=None, folders=['AQMkADAwATYwMAItZDU3My1lODM1LTAwAi0wMAoALgAAAxSnBx7cs_FOjiSx1DF2NRABAE_prvq7w4pCue32K6DSkjQAAAIBDwAAAA=='], headers=None, unread=None, starred=False, created_at=None, date=1730432464, schedule_id=None, send_at=None), '7391589947-c0fde4a0-98b5-4a44-9eec-af8f3ffbc8db')\n"
     ]
    }
   ],
   "source": [
    "\"\"\" WORKING SEND EMAIL \"\"\"\n",
    "\n",
    "grant_id = \"5ef0555c-25ab-4b4e-b4a1-02fd8ba4d255\"\n",
    "email = \"michael@flowon.ai\"\n",
    "\n",
    "#attachment = utils.file_utils.attach_file_request_builder(\"Nylas_Logo.png\")\n",
    "\n",
    "message = nylas.messages.send(\n",
    "  grant_id,\n",
    "  request_body={\n",
    "    \"to\": [{ \"name\": \"Name\", \"email\": email }],\n",
    "    \"reply_to\": [{ \"name\": \"Name\", \"email\": email }],\n",
    "    \"subject\": \"Your Subject Here\",\n",
    "    \"body\": \"Your email body here.\",\n",
    "  }\n",
    ")\n",
    "\n",
    "print(message)   "
   ]
  },
  {
   "cell_type": "code",
   "execution_count": 4,
   "metadata": {},
   "outputs": [
    {
     "name": "stdout",
     "output_type": "stream",
     "text": [
      "(Calendar(id='AAkALgAAAAAAHYQDEapmEc2byACqAC-EWg0AT6mu_rvDikK57fYroNKSNAAEWMJ6ZAAA', grant_id='5ef0555c-25ab-4b4e-b4a1-02fd8ba4d255', name='Calendar', read_only=False, is_owned_by_user=True, object='calendar', timezone=None, description=None, location=None, hex_color='#cf2b36', hex_foreground_color=None, is_primary=True, metadata=None), '8807873056-92e3ea96-7950-47a5-997d-cd891e6f3153')\n"
     ]
    }
   ],
   "source": [
    "\"\"\" get calendar id\"\"\"\n",
    "grant_id = \"5ef0555c-25ab-4b4e-b4a1-02fd8ba4d255\"\n",
    "\n",
    "calendar = nylas.calendars.find(\n",
    "    grant_id,\n",
    "    \"primary\"\n",
    ")\n",
    "\n",
    "print(calendar)   "
   ]
  },
  {
   "cell_type": "code",
   "execution_count": 8,
   "metadata": {},
   "outputs": [
    {
     "data": {
      "text/plain": [
       "{'request_id': '3728142975-24871924-0c38-4d3a-be55-39c3b582b984',\n",
       " 'data': [{'busy': True,\n",
       "   'calendar_id': 'AAkALgAAAAAAHYQDEapmEc2byACqAC-EWg0AT6mu_rvDikK57fYroNKSNAAEWMJ6ZAAA',\n",
       "   'hide_participants': False,\n",
       "   'ical_uid': '040000008200E00074C5B7101A82E008000000003AE28A85292ADB01000000000000000010000000A035EB98264A4C46B9EB86653880A9DD',\n",
       "   'organizer': {'name': 'Michael Ali', 'email': 'Azkar9@hotmail.co.uk'},\n",
       "   'participants': [],\n",
       "   'resources': [],\n",
       "   'read_only': False,\n",
       "   'reminders': {'use_default': True, 'overrides': []},\n",
       "   'title': 'meeting ahead',\n",
       "   'visibility': 'public',\n",
       "   'html_link': 'https://outlook.live.com/owa/?itemid=AAkALgAAAAAAHYQDEapmEc2byACqAC%2FEWg0AT6mu%2BrvDikK57fYroNKSNAAHrJ2HmwAA&exvsurl=1&path=/calendar/item',\n",
       "   'grant_id': '5ef0555c-25ab-4b4e-b4a1-02fd8ba4d255',\n",
       "   'id': 'AAkALgAAAAAAHYQDEapmEc2byACqAC-EWg0AT6mu_rvDikK57fYroNKSNAAHrJ2HmwAA',\n",
       "   'object': 'event',\n",
       "   'status': 'confirmed',\n",
       "   'when': {'start_timezone': 'Europe/Lisbon',\n",
       "    'end_timezone': 'Europe/Lisbon',\n",
       "    'object': 'timespan',\n",
       "    'start_time': 1730451600,\n",
       "    'end_time': 1730453400},\n",
       "   'created_at': 1730223576,\n",
       "   'updated_at': 1730223579},\n",
       "  {'busy': True,\n",
       "   'calendar_id': 'AAkALgAAAAAAHYQDEapmEc2byACqAC-EWg0AT6mu_rvDikK57fYroNKSNAAEWMJ6ZAAA',\n",
       "   'hide_participants': False,\n",
       "   'ical_uid': '040000008200E00074C5B7101A82E008000000009BCC7D89292ADB0100000000000000001000000076BFDED998A0B346A2AE4043ECA6CFE0',\n",
       "   'organizer': {'name': 'Michael Ali', 'email': 'Azkar9@hotmail.co.uk'},\n",
       "   'participants': [],\n",
       "   'resources': [],\n",
       "   'read_only': False,\n",
       "   'reminders': {'use_default': True, 'overrides': []},\n",
       "   'title': 'testing meeting',\n",
       "   'visibility': 'public',\n",
       "   'html_link': 'https://outlook.live.com/owa/?itemid=AAkALgAAAAAAHYQDEapmEc2byACqAC%2FEWg0AT6mu%2BrvDikK57fYroNKSNAAHrJ2HngAA&exvsurl=1&path=/calendar/item',\n",
       "   'grant_id': '5ef0555c-25ab-4b4e-b4a1-02fd8ba4d255',\n",
       "   'id': 'AAkALgAAAAAAHYQDEapmEc2byACqAC-EWg0AT6mu_rvDikK57fYroNKSNAAHrJ2HngAA',\n",
       "   'object': 'event',\n",
       "   'status': 'confirmed',\n",
       "   'when': {'start_timezone': 'Europe/Lisbon',\n",
       "    'end_timezone': 'Europe/Lisbon',\n",
       "    'object': 'timespan',\n",
       "    'start_time': 1730712600,\n",
       "    'end_time': 1730714400},\n",
       "   'created_at': 1730223582,\n",
       "   'updated_at': 1730223587}]}"
      ]
     },
     "execution_count": 8,
     "metadata": {},
     "output_type": "execute_result"
    }
   ],
   "source": [
    "\"\"\" WORKING GET CALENDAR EVENTS \"\"\"\n",
    "calendar_id = \"AAkALgAAAAAAHYQDEapmEc2byACqAC-EWg0AT6mu_rvDikK57fYroNKSNAAEWMJ6ZAAA\"\n",
    "\n",
    "def get_calendar_events(grant_id: str, calendar_id: str = \"primary\", limit: int = 100) -> List[Dict[Any, Any]]:\n",
    "    \"\"\"\n",
    "    Fetch calendar events for a given grant (email) from Nylas API.\n",
    "    \"\"\"\n",
    "    # Use the v3 endpoint format\n",
    "    url = f\"{NYLAS_API_URI}/v3/grants/{grant_id}/events\"\n",
    "    \n",
    "    headers = {\n",
    "        \"Accept\": \"application/json\",\n",
    "        \"Authorization\": f\"Bearer {NYLAS_API_KEY}\",\n",
    "        \"Content-Type\": \"application/json\"\n",
    "    }\n",
    "    \n",
    "    params = {\n",
    "        \"calendar_id\": calendar_id,\n",
    "        \"limit\": limit\n",
    "    }\n",
    "    \n",
    "    response = requests.get(url, headers=headers, params=params)\n",
    "    response.raise_for_status()\n",
    "    \n",
    "    return response.json()\n",
    "\n",
    "# Test the function\n",
    "get_calendar_events(\"5ef0555c-25ab-4b4e-b4a1-02fd8ba4d255\", calendar_id=calendar_id)\n"
   ]
  },
  {
   "cell_type": "code",
   "execution_count": null,
   "metadata": {},
   "outputs": [],
   "source": []
  },
  {
   "cell_type": "code",
   "execution_count": null,
   "metadata": {},
   "outputs": [],
   "source": [
    "from services.knowledge_base.kb import get_kb_items\n",
    "\n",
    "response = await get_kb_items(\"user_2mmXezcGmjZCf88gT2v2waCBsXv\")"
   ]
  },
  {
   "cell_type": "code",
   "execution_count": null,
   "metadata": {},
   "outputs": [],
   "source": [
    "from itertools import groupby\n",
    "from operator import itemgetter\n",
    "\n",
    "def group_by_root_url(items):\n",
    "    if not isinstance(items, list):\n",
    "        raise TypeError(f\"Expected a list, got {type(items)}\")\n",
    "    \n",
    "    # Sort items by root_url\n",
    "    sorted_items = sorted(items, key=itemgetter('root_url'))\n",
    "    \n",
    "    # Group items and create consolidated records\n",
    "    result = []\n",
    "    for root_url, group in groupby(sorted_items, key=itemgetter('root_url')):\n",
    "        group_list = list(group)\n",
    "        \n",
    "        # Create consolidated record\n",
    "        consolidated = {\n",
    "            'title': root_url,  # Using root_url as title\n",
    "            'root_url': root_url,\n",
    "            'content': [{  # Group of URLs and their fields\n",
    "                'url': item.get('url', ''),\n",
    "                'id': item['id'],\n",
    "                'token_count': item.get('token_count', 0)\n",
    "            } for item in group_list],\n",
    "            'created_at': next(iter(group_list)).get('created_at', ''),  # Take created_at from first item\n",
    "            'data_type': 'web',\n",
    "            'user_id': group_list[0].get('user_id')  # Assuming user_id is consistent within group\n",
    "        }\n",
    "        result.append(consolidated)\n",
    "    \n",
    "    return result\n",
    "\n",
    "grouped = group_by_root_url(response)\n",
    "grouped"
   ]
  },
  {
   "cell_type": "code",
   "execution_count": null,
   "metadata": {},
   "outputs": [],
   "source": [
    "grouped[0]['content']"
   ]
  },
  {
   "cell_type": "code",
   "execution_count": 1,
   "metadata": {},
   "outputs": [
    {
     "name": "stdout",
     "output_type": "stream",
     "text": [
      "\n",
      "\n",
      "similarity_search...\n"
     ]
    },
    {
     "data": {
      "text/plain": [
       "[{'id': 53,\n",
       "  'parent_id': 49,\n",
       "  'content': 'Service Categories Pricing Routine Maintenance Oil Change Conventional $ 35 55 Synthetic Blend $ 55 75 Full Synthetic $ 75 95 Note Includes multi point inspection and fluid top off Tire Services Rotation $ 25 35 Balance $ 40 60 all wheels New Tires $ 80 300 per tire Note Same day service available for most tire work Brake Services Brake Pad Replacement $ 150 300 per axle Rotor Replacement $ 200 400 per axle Brake Fluid Flush $ 80 120 Note Free brake inspections available Diagnostic Services Check Engine Light $ 89 129 Full Vehicle Inspection $ 150 200 Computer Diagnostic $ 75 100 Note Diagnostic fees applicable to repair costs if work is performed Business Information Hours Monday Friday 7:30 AM 6:00 PM Saturday 8:00 AM 2:00 PM Payment All major credit cards cash financing available Warranty 12 month/12,000 mile warranty on labor Cancellation Policy 24 hour notice required',\n",
       "  'chunk_index': 0,\n",
       "  'user_id': 'user_2mmXezcGmjZCf88gT2v2waCBsXv',\n",
       "  'similarity': 0.497741788221918}]"
      ]
     },
     "execution_count": 1,
     "metadata": {},
     "output_type": "execute_result"
    }
   ],
   "source": [
    "from services.chat.chat import similarity_search\n",
    "\n",
    "await similarity_search(\"what is the cost of an oil change\", table_names=[\"user_text_files\"])"
   ]
  },
  {
   "cell_type": "code",
   "execution_count": null,
   "metadata": {},
   "outputs": [],
   "source": []
  }
 ],
 "metadata": {
  "kernelspec": {
   "display_name": "venv",
   "language": "python",
   "name": "python3"
  },
  "language_info": {
   "codemirror_mode": {
    "name": "ipython",
    "version": 3
   },
   "file_extension": ".py",
   "mimetype": "text/x-python",
   "name": "python",
   "nbconvert_exporter": "python",
   "pygments_lexer": "ipython3",
   "version": "3.12.6"
  }
 },
 "nbformat": 4,
 "nbformat_minor": 2
}
