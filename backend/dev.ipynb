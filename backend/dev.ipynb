{
 "cells": [
  {
   "cell_type": "code",
   "execution_count": 1,
   "metadata": {},
   "outputs": [],
   "source": [
    "conversation_history = [\n",
    "  {\"assistant_message\": \n",
    "  \" Hello! I can provide you with information of our services and pricing. What are you after?\"}, \n",
    "  {\"user_message\": \"So I just need to know about your pricing.\"}, \n",
    "  {\"assistant_message\": \" Could you please specify the service or type of work you're interested in? This will help me give you more accurate pricing details.\"}, \n",
    "  {\"user_message\": \"Yes. It is just a Fire change.\"}, \n",
    "  {\"assistant_message\": \" I assume you meant an oil change. For a standard oil change, the pricing typically starts at around $40, but it can vary depending on the type of oil your vehicle requires. Would you like to book an appointment for an oil change, or do you need more information?\"}, \n",
    "  {\"user_message\": \"Yeah. Book an appointment.\"}, \n",
    "  {\"user_message\": \"user input data: \\n\\n{'full_name': 'Michael Ali', 'email': 'azkar9@hotmail.co.uk', 'contact_number': '07745187688'}\\n\"}, \n",
    "  {\"assistant_message\": \"\"}, \n",
    "  {\"tool\": {\"name\": \"request_personal_data\", \"content\": \"Form now presented to caller\"}}, \n",
    "  {\"assistant_message\": \" Thank you! Could you also let me know your vehicle's make, model, and year? Additionally, do you have a preferred date and time for your appointment?\"}, \n",
    "  {\"user_message\": \"Yeah. Date and time next Tuesday. 5 AM.\"}, \n",
    "  {\"assistant_message\": \" Thank you for that information. Unfortunately, we open at 8 AM, so could we schedule your appointment for a time after that on Tuesday? Also, could you please provide your vehicle's make, model, and year?\"}, \n",
    "  {\"user_message\": \"Hello?\"}, \n",
    "  {\"assistant_message\": \" Please let me know your vehicle's make, model, and year, and we can reschedule your appointment for Tuesday at 8 AM or later.\"}]"
   ]
  },
  {
   "cell_type": "code",
   "execution_count": 2,
   "metadata": {},
   "outputs": [
    {
     "name": "stdout",
     "output_type": "stream",
     "text": [
      "loading agent-user cache\n"
     ]
    },
    {
     "name": "stderr",
     "output_type": "stream",
     "text": [
      "INFO:httpx:HTTP Request: GET https://isfghqgmaigvrvohuxbx.supabase.co/rest/v1/agents?select=id%2C%20userId \"HTTP/2 200 OK\"\n",
      "INFO:app.api.routes.conversation:Agent-user cache loaded successfully\n",
      "INFO:httpx:HTTP Request: GET https://isfghqgmaigvrvohuxbx.supabase.co/rest/v1/users?select=id%2C%20account_settings&id=in.%28user_2mpiZ5aU9thxkXyYlvpFfDHDrah%2Cuser_2mpiZ5aU9thxkXyYlvpFfDHDrah%2Cuser_2mmXezcGmjZCf88gT2v2waCBsXv%2Cuser_2mmXezcGmjZCf88gT2v2waCBsXv%2Cuser_2mmXezcGmjZCf88gT2v2waCBsXv%2Cuser_2mmXezcGmjZCf88gT2v2waCBsXv%2Cuser_2mmXezcGmjZCf88gT2v2waCBsXv%2Cuser_2mmXezcGmjZCf88gT2v2waCBsXv%29 \"HTTP/2 200 OK\"\n"
     ]
    },
    {
     "name": "stdout",
     "output_type": "stream",
     "text": [
      "recipient_email: michael@flowon.ai\n",
      "recipient_email: michael@flowon.ai\n"
     ]
    },
    {
     "name": "stderr",
     "output_type": "stream",
     "text": [
      "INFO:httpx:HTTP Request: PATCH https://isfghqgmaigvrvohuxbx.supabase.co/rest/v1/conversation_logs?participant_identity=eq.visitorId_0aef47de-78f8-4b34-867b-519dace0157c \"HTTP/2 200 OK\"\n"
     ]
    },
    {
     "data": {
      "text/plain": [
       "(Message(grant_id='c9e0a3fa-69b2-46fd-8626-ec25ed85b6ee', from_=[{'email': 'michael@flowon.ai'}], object='message', id='192da072db370c83', body=\"User submitted the following information: {'full_name': 'Michael Ali', 'email': 'azkar9@hotmail.co.uk', 'contact_number': '07745187688'}\\n\\nPlease log in to your dashboard for full transcript\", thread_id='192da072db370c83', subject='New lead from Flowon AI', snippet=None, to=[{'email': 'michael@flowon.ai'}], bcc=None, cc=None, reply_to=[{'email': 'michael@flowon.ai'}], attachments=[], folders=['UNREAD', 'SENT', 'INBOX'], headers=None, unread=None, starred=None, created_at=None, date=1730234755, schedule_id=None, send_at=None),\n",
       " '8576187479-fb743b39-fe17-4049-ab1c-8e353beca3f9')"
      ]
     },
     "execution_count": 2,
     "metadata": {},
     "output_type": "execute_result"
    }
   ],
   "source": [
    "from services.nylas_service import send_email\n",
    "\n",
    "await send_email(\"visitorId_0aef47de-78f8-4b34-867b-519dace0157c\", conversation_history, \"a14205e6-4b73-43d0-90f8-ea0a38da0112\")"
   ]
  },
  {
   "cell_type": "code",
   "execution_count": 19,
   "metadata": {},
   "outputs": [
    {
     "data": {
      "text/plain": [
       "'michaell@flowon.ai'"
      ]
     },
     "execution_count": 19,
     "metadata": {},
     "output_type": "execute_result"
    }
   ],
   "source": [
    "expanded_agent_user_cache[\"a14205e6-4b73-43d0-90f8-ea0a38da0112\"]['email']\n"
   ]
  },
  {
   "cell_type": "code",
   "execution_count": 14,
   "metadata": {},
   "outputs": [],
   "source": []
  },
  {
   "cell_type": "code",
   "execution_count": 15,
   "metadata": {},
   "outputs": [
    {
     "name": "stdout",
     "output_type": "stream",
     "text": [
      "{'full_name': 'Michael Ali', 'email': 'azkar9@hotmail.co.uk', 'contact_number': '07745187688'}\n"
     ]
    }
   ],
   "source": [
    "# Loop through conversation history and extract user input data\n",
    "for message in conversation_history:\n",
    "    if \"user_message\" in message and \"user input data:\" in message[\"user_message\"]:\n",
    "        # Extract the dictionary string and convert to actual dictionary using eval()\n",
    "        data_str = message[\"user_message\"].split(\"user input data:\")[1].strip()\n",
    "        user_data = eval(data_str)\n",
    "        print(user_data)"
   ]
  },
  {
   "cell_type": "code",
   "execution_count": 9,
   "metadata": {},
   "outputs": [
    {
     "ename": "NylasApiError",
     "evalue": "unable.verify.webhook_url : ngrok is not allowed",
     "output_type": "error",
     "traceback": [
      "\u001b[0;31m---------------------------------------------------------------------------\u001b[0m",
      "\u001b[0;31mNylasApiError\u001b[0m                             Traceback (most recent call last)",
      "Cell \u001b[0;32mIn[9], line 19\u001b[0m\n\u001b[1;32m     15\u001b[0m webhook_url \u001b[38;5;241m=\u001b[39m \u001b[38;5;124m\"\u001b[39m\u001b[38;5;124mhttps://internally-wise-spaniel.eu.ngrok.io/api/v1/nylas/webhook\u001b[39m\u001b[38;5;124m\"\u001b[39m\n\u001b[1;32m     17\u001b[0m email \u001b[38;5;241m=\u001b[39m os\u001b[38;5;241m.\u001b[39menviron\u001b[38;5;241m.\u001b[39mget(\u001b[38;5;124m\"\u001b[39m\u001b[38;5;124mEMAIL\u001b[39m\u001b[38;5;124m\"\u001b[39m)\n\u001b[0;32m---> 19\u001b[0m webhook \u001b[38;5;241m=\u001b[39m \u001b[43mnylas\u001b[49m\u001b[38;5;241;43m.\u001b[39;49m\u001b[43mwebhooks\u001b[49m\u001b[38;5;241;43m.\u001b[39;49m\u001b[43mcreate\u001b[49m\u001b[43m(\u001b[49m\n\u001b[1;32m     20\u001b[0m \u001b[43m  \u001b[49m\u001b[43mrequest_body\u001b[49m\u001b[38;5;241;43m=\u001b[39;49m\u001b[43m{\u001b[49m\n\u001b[1;32m     21\u001b[0m \u001b[43m    \u001b[49m\u001b[38;5;124;43m\"\u001b[39;49m\u001b[38;5;124;43mtrigger_types\u001b[39;49m\u001b[38;5;124;43m\"\u001b[39;49m\u001b[43m:\u001b[49m\u001b[43m \u001b[49m\u001b[43m[\u001b[49m\u001b[43mWebhookTriggers\u001b[49m\u001b[38;5;241;43m.\u001b[39;49m\u001b[43mEVENT_CREATED\u001b[49m\u001b[43m]\u001b[49m\u001b[43m,\u001b[49m\n\u001b[1;32m     22\u001b[0m \u001b[43m    \u001b[49m\u001b[38;5;124;43m\"\u001b[39;49m\u001b[38;5;124;43mwebhook_url\u001b[39;49m\u001b[38;5;124;43m\"\u001b[39;49m\u001b[43m:\u001b[49m\u001b[43m \u001b[49m\u001b[43mwebhook_url\u001b[49m\u001b[43m,\u001b[49m\n\u001b[1;32m     23\u001b[0m \u001b[43m    \u001b[49m\u001b[38;5;124;43m\"\u001b[39;49m\u001b[38;5;124;43mdescription\u001b[39;49m\u001b[38;5;124;43m\"\u001b[39;49m\u001b[43m:\u001b[49m\u001b[43m \u001b[49m\u001b[38;5;124;43m\"\u001b[39;49m\u001b[38;5;124;43mMy first webhook\u001b[39;49m\u001b[38;5;124;43m\"\u001b[39;49m\u001b[43m,\u001b[49m\n\u001b[1;32m     24\u001b[0m \u001b[43m    \u001b[49m\u001b[38;5;124;43m\"\u001b[39;49m\u001b[38;5;124;43mnotification_email_address\u001b[39;49m\u001b[38;5;124;43m\"\u001b[39;49m\u001b[43m:\u001b[49m\u001b[43m \u001b[49m\u001b[43memail\u001b[49m\u001b[43m,\u001b[49m\n\u001b[1;32m     25\u001b[0m \u001b[43m  \u001b[49m\u001b[43m}\u001b[49m\n\u001b[1;32m     26\u001b[0m \u001b[43m)\u001b[49m\n\u001b[1;32m     28\u001b[0m \u001b[38;5;28mprint\u001b[39m(webhook)   \n",
      "File \u001b[0;32m~/Repos/flowon_ai/venv/lib/python3.12/site-packages/nylas/resources/webhooks.py:79\u001b[0m, in \u001b[0;36mWebhooks.create\u001b[0;34m(self, request_body, overrides)\u001b[0m\n\u001b[1;32m     66\u001b[0m \u001b[38;5;28;01mdef\u001b[39;00m \u001b[38;5;21mcreate\u001b[39m(\n\u001b[1;32m     67\u001b[0m     \u001b[38;5;28mself\u001b[39m, request_body: CreateWebhookRequest, overrides: RequestOverrides \u001b[38;5;241m=\u001b[39m \u001b[38;5;28;01mNone\u001b[39;00m\n\u001b[1;32m     68\u001b[0m ) \u001b[38;5;241m-\u001b[39m\u001b[38;5;241m>\u001b[39m Response[WebhookWithSecret]:\n\u001b[1;32m     69\u001b[0m \u001b[38;5;250m    \u001b[39m\u001b[38;5;124;03m\"\"\"\u001b[39;00m\n\u001b[1;32m     70\u001b[0m \u001b[38;5;124;03m    Create a webhook destination\u001b[39;00m\n\u001b[1;32m     71\u001b[0m \n\u001b[0;32m   (...)\u001b[0m\n\u001b[1;32m     77\u001b[0m \u001b[38;5;124;03m        The created webhook destination\u001b[39;00m\n\u001b[1;32m     78\u001b[0m \u001b[38;5;124;03m    \"\"\"\u001b[39;00m\n\u001b[0;32m---> 79\u001b[0m     \u001b[38;5;28;01mreturn\u001b[39;00m \u001b[38;5;28;43msuper\u001b[39;49m\u001b[43m(\u001b[49m\u001b[43m)\u001b[49m\u001b[38;5;241;43m.\u001b[39;49m\u001b[43mcreate\u001b[49m\u001b[43m(\u001b[49m\n\u001b[1;32m     80\u001b[0m \u001b[43m        \u001b[49m\u001b[43mpath\u001b[49m\u001b[38;5;241;43m=\u001b[39;49m\u001b[38;5;124;43m\"\u001b[39;49m\u001b[38;5;124;43m/v3/webhooks\u001b[39;49m\u001b[38;5;124;43m\"\u001b[39;49m\u001b[43m,\u001b[49m\n\u001b[1;32m     81\u001b[0m \u001b[43m        \u001b[49m\u001b[43mrequest_body\u001b[49m\u001b[38;5;241;43m=\u001b[39;49m\u001b[43mrequest_body\u001b[49m\u001b[43m,\u001b[49m\n\u001b[1;32m     82\u001b[0m \u001b[43m        \u001b[49m\u001b[43mresponse_type\u001b[49m\u001b[38;5;241;43m=\u001b[39;49m\u001b[43mWebhookWithSecret\u001b[49m\u001b[43m,\u001b[49m\n\u001b[1;32m     83\u001b[0m \u001b[43m        \u001b[49m\u001b[43moverrides\u001b[49m\u001b[38;5;241;43m=\u001b[39;49m\u001b[43moverrides\u001b[49m\u001b[43m,\u001b[49m\n\u001b[1;32m     84\u001b[0m \u001b[43m    \u001b[49m\u001b[43m)\u001b[49m\n",
      "File \u001b[0;32m~/Repos/flowon_ai/venv/lib/python3.12/site-packages/nylas/handler/api_resources.py:53\u001b[0m, in \u001b[0;36mCreatableApiResource.create\u001b[0;34m(self, path, response_type, headers, query_params, request_body, overrides)\u001b[0m\n\u001b[1;32m     44\u001b[0m \u001b[38;5;28;01mdef\u001b[39;00m \u001b[38;5;21mcreate\u001b[39m(\n\u001b[1;32m     45\u001b[0m     \u001b[38;5;28mself\u001b[39m,\n\u001b[1;32m     46\u001b[0m     path,\n\u001b[0;32m   (...)\u001b[0m\n\u001b[1;32m     51\u001b[0m     overrides\u001b[38;5;241m=\u001b[39m\u001b[38;5;28;01mNone\u001b[39;00m,\n\u001b[1;32m     52\u001b[0m ) \u001b[38;5;241m-\u001b[39m\u001b[38;5;241m>\u001b[39m Response:\n\u001b[0;32m---> 53\u001b[0m     response_json \u001b[38;5;241m=\u001b[39m \u001b[38;5;28;43mself\u001b[39;49m\u001b[38;5;241;43m.\u001b[39;49m\u001b[43m_http_client\u001b[49m\u001b[38;5;241;43m.\u001b[39;49m\u001b[43m_execute\u001b[49m\u001b[43m(\u001b[49m\n\u001b[1;32m     54\u001b[0m \u001b[43m        \u001b[49m\u001b[38;5;124;43m\"\u001b[39;49m\u001b[38;5;124;43mPOST\u001b[39;49m\u001b[38;5;124;43m\"\u001b[39;49m\u001b[43m,\u001b[49m\u001b[43m \u001b[49m\u001b[43mpath\u001b[49m\u001b[43m,\u001b[49m\u001b[43m \u001b[49m\u001b[43mheaders\u001b[49m\u001b[43m,\u001b[49m\u001b[43m \u001b[49m\u001b[43mquery_params\u001b[49m\u001b[43m,\u001b[49m\u001b[43m \u001b[49m\u001b[43mrequest_body\u001b[49m\u001b[43m,\u001b[49m\u001b[43m \u001b[49m\u001b[43moverrides\u001b[49m\u001b[38;5;241;43m=\u001b[39;49m\u001b[43moverrides\u001b[49m\n\u001b[1;32m     55\u001b[0m \u001b[43m    \u001b[49m\u001b[43m)\u001b[49m\n\u001b[1;32m     57\u001b[0m     \u001b[38;5;28;01mreturn\u001b[39;00m Response\u001b[38;5;241m.\u001b[39mfrom_dict(response_json, response_type)\n",
      "File \u001b[0;32m~/Repos/flowon_ai/venv/lib/python3.12/site-packages/nylas/handler/http_client.py:103\u001b[0m, in \u001b[0;36mHttpClient._execute\u001b[0;34m(self, method, path, headers, query_params, request_body, data, overrides)\u001b[0m\n\u001b[1;32m    100\u001b[0m \u001b[38;5;28;01mexcept\u001b[39;00m requests\u001b[38;5;241m.\u001b[39mexceptions\u001b[38;5;241m.\u001b[39mTimeout \u001b[38;5;28;01mas\u001b[39;00m exc:\n\u001b[1;32m    101\u001b[0m     \u001b[38;5;28;01mraise\u001b[39;00m NylasSdkTimeoutError(url\u001b[38;5;241m=\u001b[39mrequest[\u001b[38;5;124m\"\u001b[39m\u001b[38;5;124murl\u001b[39m\u001b[38;5;124m\"\u001b[39m], timeout\u001b[38;5;241m=\u001b[39mtimeout) \u001b[38;5;28;01mfrom\u001b[39;00m \u001b[38;5;21;01mexc\u001b[39;00m\n\u001b[0;32m--> 103\u001b[0m \u001b[38;5;28;01mreturn\u001b[39;00m \u001b[43m_validate_response\u001b[49m\u001b[43m(\u001b[49m\u001b[43mresponse\u001b[49m\u001b[43m)\u001b[49m\n",
      "File \u001b[0;32m~/Repos/flowon_ai/venv/lib/python3.12/site-packages/nylas/handler/http_client.py:32\u001b[0m, in \u001b[0;36m_validate_response\u001b[0;34m(response)\u001b[0m\n\u001b[1;32m     29\u001b[0m         \u001b[38;5;28;01mraise\u001b[39;00m NylasOAuthError(parsed_error, response\u001b[38;5;241m.\u001b[39mstatus_code)\n\u001b[1;32m     31\u001b[0m     parsed_error \u001b[38;5;241m=\u001b[39m NylasApiErrorResponse\u001b[38;5;241m.\u001b[39mfrom_dict(json)\n\u001b[0;32m---> 32\u001b[0m     \u001b[38;5;28;01mraise\u001b[39;00m NylasApiError(parsed_error, response\u001b[38;5;241m.\u001b[39mstatus_code)\n\u001b[1;32m     33\u001b[0m \u001b[38;5;28;01mexcept\u001b[39;00m (\u001b[38;5;167;01mKeyError\u001b[39;00m, \u001b[38;5;167;01mTypeError\u001b[39;00m) \u001b[38;5;28;01mas\u001b[39;00m exc:\n\u001b[1;32m     34\u001b[0m     request_id \u001b[38;5;241m=\u001b[39m json\u001b[38;5;241m.\u001b[39mget(\u001b[38;5;124m\"\u001b[39m\u001b[38;5;124mrequest_id\u001b[39m\u001b[38;5;124m\"\u001b[39m, \u001b[38;5;28;01mNone\u001b[39;00m)\n",
      "\u001b[0;31mNylasApiError\u001b[0m: unable.verify.webhook_url : ngrok is not allowed"
     ]
    }
   ],
   "source": [
    "\"\"\" NYLAS WEBHOOK SET UP \"\"\"\n",
    "\n",
    "from dotenv import load_dotenv\n",
    "load_dotenv()\n",
    "\n",
    "import os\n",
    "import sys\n",
    "from nylas import Client\n",
    "from nylas.models.webhooks import WebhookTriggers\n",
    "\n",
    "nylas = Client(\n",
    "  os.environ.get('NYLAS_API_KEY'),\n",
    "  os.environ.get('NYLAS_API_URI')\n",
    ")\n",
    "\n",
    "grant_id = \"5ef0555c-25ab-4b4e-b4a1-02fd8ba4d255\"\n",
    "webhook_url = \"https://internally-wise-spaniel.eu.ngrok.io/api/v1/nylas/webhook\"\n",
    "\n",
    "email = os.environ.get(\"EMAIL\")\n",
    "\n",
    "webhook = nylas.webhooks.create(\n",
    "  request_body={\n",
    "    \"trigger_types\": [WebhookTriggers.EVENT_CREATED],\n",
    "    \"webhook_url\": webhook_url,\n",
    "    \"description\": \"My first webhook\",\n",
    "    \"notification_email_address\": email,\n",
    "  }\n",
    ")\n",
    "\n",
    "print(webhook)   "
   ]
  },
  {
   "cell_type": "markdown",
   "metadata": {},
   "source": [
    "## NYLAS API"
   ]
  },
  {
   "cell_type": "code",
   "execution_count": 6,
   "metadata": {},
   "outputs": [],
   "source": [
    "import os \n",
    "from dotenv import load_dotenv\n",
    "from nylas import Client\n",
    "from typing import List, Dict, Any\n",
    "import requests\n",
    "\n",
    "load_dotenv()\n",
    "\n",
    "NYLAS_API_KEY = os.getenv(\"NYLAS_API_KEY\")\n",
    "NYLAS_API_URI = os.getenv(\"NYLAS_API_URI\")\n",
    "\n",
    "# Initialize Nylas client\n",
    "nylas = Client(\n",
    "    api_key = NYLAS_API_KEY,\n",
    "    api_uri = NYLAS_API_URI\n",
    ")"
   ]
  },
  {
   "cell_type": "code",
   "execution_count": 7,
   "metadata": {},
   "outputs": [
    {
     "name": "stdout",
     "output_type": "stream",
     "text": [
      "(Message(grant_id='5ef0555c-25ab-4b4e-b4a1-02fd8ba4d255', from_=[{'name': 'azkar9@hotmail.co.uk', 'email': 'azkar9@hotmail.co.uk'}], object='message', id='AAkALgAAAAAAHYQDEapmEc2byACqAC-EWg0AT6mu_rvDikK57fYroNKSNAAHrJ4OlwAA', body='<html><head>\\r\\n<meta http-equiv=\"Content-Type\" content=\"text/html; charset=utf-8\"></head><body>Your email body here. </body></html>', thread_id='AQQkADAwATYwMAItZDU3My1lODM1LTAwAi0wMAoAEAD2eCCokKeXTLgGADCz-uLQ', subject='Your Subject Here', snippet='Your email body here.', to=[{'name': 'Name', 'email': 'michael@flowon.ai'}], bcc=[], cc=[], reply_to=[{'name': 'Name', 'email': 'michael@flowon.ai'}], attachments=None, folders=['AQMkADAwATYwMAItZDU3My1lODM1LTAwAi0wMAoALgAAAxSnBx7cs_FOjiSx1DF2NRABAE_prvq7w4pCue32K6DSkjQAAAIBDwAAAA=='], headers=None, unread=None, starred=False, created_at=None, date=1730432464, schedule_id=None, send_at=None), '7391589947-c0fde4a0-98b5-4a44-9eec-af8f3ffbc8db')\n"
     ]
    }
   ],
   "source": [
    "\"\"\" WORKING SEND EMAIL \"\"\"\n",
    "\n",
    "grant_id = \"5ef0555c-25ab-4b4e-b4a1-02fd8ba4d255\"\n",
    "email = \"michael@flowon.ai\"\n",
    "\n",
    "#attachment = utils.file_utils.attach_file_request_builder(\"Nylas_Logo.png\")\n",
    "\n",
    "message = nylas.messages.send(\n",
    "  grant_id,\n",
    "  request_body={\n",
    "    \"to\": [{ \"name\": \"Name\", \"email\": email }],\n",
    "    \"reply_to\": [{ \"name\": \"Name\", \"email\": email }],\n",
    "    \"subject\": \"Your Subject Here\",\n",
    "    \"body\": \"Your email body here.\",\n",
    "  }\n",
    ")\n",
    "\n",
    "print(message)   "
   ]
  },
  {
   "cell_type": "code",
   "execution_count": 4,
   "metadata": {},
   "outputs": [
    {
     "name": "stdout",
     "output_type": "stream",
     "text": [
      "(Calendar(id='AAkALgAAAAAAHYQDEapmEc2byACqAC-EWg0AT6mu_rvDikK57fYroNKSNAAEWMJ6ZAAA', grant_id='5ef0555c-25ab-4b4e-b4a1-02fd8ba4d255', name='Calendar', read_only=False, is_owned_by_user=True, object='calendar', timezone=None, description=None, location=None, hex_color='#cf2b36', hex_foreground_color=None, is_primary=True, metadata=None), '8807873056-92e3ea96-7950-47a5-997d-cd891e6f3153')\n"
     ]
    }
   ],
   "source": [
    "\"\"\" get calendar id\"\"\"\n",
    "grant_id = \"5ef0555c-25ab-4b4e-b4a1-02fd8ba4d255\"\n",
    "\n",
    "calendar = nylas.calendars.find(\n",
    "    grant_id,\n",
    "    \"primary\"\n",
    ")\n",
    "\n",
    "print(calendar)   "
   ]
  },
  {
   "cell_type": "code",
   "execution_count": 8,
   "metadata": {},
   "outputs": [
    {
     "data": {
      "text/plain": [
       "{'request_id': '3728142975-24871924-0c38-4d3a-be55-39c3b582b984',\n",
       " 'data': [{'busy': True,\n",
       "   'calendar_id': 'AAkALgAAAAAAHYQDEapmEc2byACqAC-EWg0AT6mu_rvDikK57fYroNKSNAAEWMJ6ZAAA',\n",
       "   'hide_participants': False,\n",
       "   'ical_uid': '040000008200E00074C5B7101A82E008000000003AE28A85292ADB01000000000000000010000000A035EB98264A4C46B9EB86653880A9DD',\n",
       "   'organizer': {'name': 'Michael Ali', 'email': 'Azkar9@hotmail.co.uk'},\n",
       "   'participants': [],\n",
       "   'resources': [],\n",
       "   'read_only': False,\n",
       "   'reminders': {'use_default': True, 'overrides': []},\n",
       "   'title': 'meeting ahead',\n",
       "   'visibility': 'public',\n",
       "   'html_link': 'https://outlook.live.com/owa/?itemid=AAkALgAAAAAAHYQDEapmEc2byACqAC%2FEWg0AT6mu%2BrvDikK57fYroNKSNAAHrJ2HmwAA&exvsurl=1&path=/calendar/item',\n",
       "   'grant_id': '5ef0555c-25ab-4b4e-b4a1-02fd8ba4d255',\n",
       "   'id': 'AAkALgAAAAAAHYQDEapmEc2byACqAC-EWg0AT6mu_rvDikK57fYroNKSNAAHrJ2HmwAA',\n",
       "   'object': 'event',\n",
       "   'status': 'confirmed',\n",
       "   'when': {'start_timezone': 'Europe/Lisbon',\n",
       "    'end_timezone': 'Europe/Lisbon',\n",
       "    'object': 'timespan',\n",
       "    'start_time': 1730451600,\n",
       "    'end_time': 1730453400},\n",
       "   'created_at': 1730223576,\n",
       "   'updated_at': 1730223579},\n",
       "  {'busy': True,\n",
       "   'calendar_id': 'AAkALgAAAAAAHYQDEapmEc2byACqAC-EWg0AT6mu_rvDikK57fYroNKSNAAEWMJ6ZAAA',\n",
       "   'hide_participants': False,\n",
       "   'ical_uid': '040000008200E00074C5B7101A82E008000000009BCC7D89292ADB0100000000000000001000000076BFDED998A0B346A2AE4043ECA6CFE0',\n",
       "   'organizer': {'name': 'Michael Ali', 'email': 'Azkar9@hotmail.co.uk'},\n",
       "   'participants': [],\n",
       "   'resources': [],\n",
       "   'read_only': False,\n",
       "   'reminders': {'use_default': True, 'overrides': []},\n",
       "   'title': 'testing meeting',\n",
       "   'visibility': 'public',\n",
       "   'html_link': 'https://outlook.live.com/owa/?itemid=AAkALgAAAAAAHYQDEapmEc2byACqAC%2FEWg0AT6mu%2BrvDikK57fYroNKSNAAHrJ2HngAA&exvsurl=1&path=/calendar/item',\n",
       "   'grant_id': '5ef0555c-25ab-4b4e-b4a1-02fd8ba4d255',\n",
       "   'id': 'AAkALgAAAAAAHYQDEapmEc2byACqAC-EWg0AT6mu_rvDikK57fYroNKSNAAHrJ2HngAA',\n",
       "   'object': 'event',\n",
       "   'status': 'confirmed',\n",
       "   'when': {'start_timezone': 'Europe/Lisbon',\n",
       "    'end_timezone': 'Europe/Lisbon',\n",
       "    'object': 'timespan',\n",
       "    'start_time': 1730712600,\n",
       "    'end_time': 1730714400},\n",
       "   'created_at': 1730223582,\n",
       "   'updated_at': 1730223587}]}"
      ]
     },
     "execution_count": 8,
     "metadata": {},
     "output_type": "execute_result"
    }
   ],
   "source": [
    "\"\"\" WORKING GET CALENDAR EVENTS \"\"\"\n",
    "calendar_id = \"AAkALgAAAAAAHYQDEapmEc2byACqAC-EWg0AT6mu_rvDikK57fYroNKSNAAEWMJ6ZAAA\"\n",
    "\n",
    "def get_calendar_events(grant_id: str, calendar_id: str = \"primary\", limit: int = 100) -> List[Dict[Any, Any]]:\n",
    "    \"\"\"\n",
    "    Fetch calendar events for a given grant (email) from Nylas API.\n",
    "    \"\"\"\n",
    "    # Use the v3 endpoint format\n",
    "    url = f\"{NYLAS_API_URI}/v3/grants/{grant_id}/events\"\n",
    "    \n",
    "    headers = {\n",
    "        \"Accept\": \"application/json\",\n",
    "        \"Authorization\": f\"Bearer {NYLAS_API_KEY}\",\n",
    "        \"Content-Type\": \"application/json\"\n",
    "    }\n",
    "    \n",
    "    params = {\n",
    "        \"calendar_id\": calendar_id,\n",
    "        \"limit\": limit\n",
    "    }\n",
    "    \n",
    "    response = requests.get(url, headers=headers, params=params)\n",
    "    response.raise_for_status()\n",
    "    \n",
    "    return response.json()\n",
    "\n",
    "# Test the function\n",
    "get_calendar_events(\"5ef0555c-25ab-4b4e-b4a1-02fd8ba4d255\", calendar_id=calendar_id)\n"
   ]
  },
  {
   "cell_type": "code",
   "execution_count": null,
   "metadata": {},
   "outputs": [],
   "source": []
  },
  {
   "cell_type": "code",
   "execution_count": null,
   "metadata": {},
   "outputs": [],
   "source": [
    "from services.knowledge_base.kb import get_kb_items\n",
    "\n",
    "response = await get_kb_items(\"user_2mmXezcGmjZCf88gT2v2waCBsXv\")"
   ]
  },
  {
   "cell_type": "code",
   "execution_count": null,
   "metadata": {},
   "outputs": [],
   "source": [
    "from itertools import groupby\n",
    "from operator import itemgetter\n",
    "\n",
    "def group_by_root_url(items):\n",
    "    if not isinstance(items, list):\n",
    "        raise TypeError(f\"Expected a list, got {type(items)}\")\n",
    "    \n",
    "    # Sort items by root_url\n",
    "    sorted_items = sorted(items, key=itemgetter('root_url'))\n",
    "    \n",
    "    # Group items and create consolidated records\n",
    "    result = []\n",
    "    for root_url, group in groupby(sorted_items, key=itemgetter('root_url')):\n",
    "        group_list = list(group)\n",
    "        \n",
    "        # Create consolidated record\n",
    "        consolidated = {\n",
    "            'title': root_url,  # Using root_url as title\n",
    "            'root_url': root_url,\n",
    "            'content': [{  # Group of URLs and their fields\n",
    "                'url': item.get('url', ''),\n",
    "                'id': item['id'],\n",
    "                'token_count': item.get('token_count', 0)\n",
    "            } for item in group_list],\n",
    "            'created_at': next(iter(group_list)).get('created_at', ''),  # Take created_at from first item\n",
    "            'data_type': 'web',\n",
    "            'user_id': group_list[0].get('user_id')  # Assuming user_id is consistent within group\n",
    "        }\n",
    "        result.append(consolidated)\n",
    "    \n",
    "    return result\n",
    "\n",
    "grouped = group_by_root_url(response)\n",
    "grouped"
   ]
  },
  {
   "cell_type": "code",
   "execution_count": null,
   "metadata": {},
   "outputs": [],
   "source": [
    "grouped[0]['content']"
   ]
  },
  {
   "cell_type": "code",
   "execution_count": 1,
   "metadata": {},
   "outputs": [
    {
     "name": "stdout",
     "output_type": "stream",
     "text": [
      "\n",
      "\n",
      "similarity_search...\n"
     ]
    },
    {
     "data": {
      "text/plain": [
       "[{'id': 53,\n",
       "  'parent_id': 49,\n",
       "  'content': 'Service Categories Pricing Routine Maintenance Oil Change Conventional $ 35 55 Synthetic Blend $ 55 75 Full Synthetic $ 75 95 Note Includes multi point inspection and fluid top off Tire Services Rotation $ 25 35 Balance $ 40 60 all wheels New Tires $ 80 300 per tire Note Same day service available for most tire work Brake Services Brake Pad Replacement $ 150 300 per axle Rotor Replacement $ 200 400 per axle Brake Fluid Flush $ 80 120 Note Free brake inspections available Diagnostic Services Check Engine Light $ 89 129 Full Vehicle Inspection $ 150 200 Computer Diagnostic $ 75 100 Note Diagnostic fees applicable to repair costs if work is performed Business Information Hours Monday Friday 7:30 AM 6:00 PM Saturday 8:00 AM 2:00 PM Payment All major credit cards cash financing available Warranty 12 month/12,000 mile warranty on labor Cancellation Policy 24 hour notice required',\n",
       "  'chunk_index': 0,\n",
       "  'user_id': 'user_2mmXezcGmjZCf88gT2v2waCBsXv',\n",
       "  'similarity': 0.497741788221918}]"
      ]
     },
     "execution_count": 1,
     "metadata": {},
     "output_type": "execute_result"
    }
   ],
   "source": [
    "from services.chat.chat import similarity_search\n",
    "\n",
    "await similarity_search(\"what is the cost of an oil change\", table_names=[\"user_text_files\"])"
   ]
  },
  {
   "cell_type": "code",
   "execution_count": null,
   "metadata": {},
   "outputs": [],
   "source": []
  }
 ],
 "metadata": {
  "kernelspec": {
   "display_name": "venv",
   "language": "python",
   "name": "python3"
  },
  "language_info": {
   "codemirror_mode": {
    "name": "ipython",
    "version": 3
   },
   "file_extension": ".py",
   "mimetype": "text/x-python",
   "name": "python",
   "nbconvert_exporter": "python",
   "pygments_lexer": "ipython3",
   "version": "3.12.6"
  }
 },
 "nbformat": 4,
 "nbformat_minor": 2
}
