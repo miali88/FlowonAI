{
 "cells": [
  {
   "cell_type": "code",
   "execution_count": 3,
   "metadata": {},
   "outputs": [
    {
     "name": "stdout",
     "output_type": "stream",
     "text": [
      "\n",
      "\n",
      "similarity_search...\n"
     ]
    },
    {
     "data": {
      "text/plain": [
       "[{'id': 53,\n",
       "  'parent_id': 49,\n",
       "  'content': 'Service Categories Pricing Routine Maintenance Oil Change Conventional $ 35 55 Synthetic Blend $ 55 75 Full Synthetic $ 75 95 Note Includes multi point inspection and fluid top off Tire Services Rotation $ 25 35 Balance $ 40 60 all wheels New Tires $ 80 300 per tire Note Same day service available for most tire work Brake Services Brake Pad Replacement $ 150 300 per axle Rotor Replacement $ 200 400 per axle Brake Fluid Flush $ 80 120 Note Free brake inspections available Diagnostic Services Check Engine Light $ 89 129 Full Vehicle Inspection $ 150 200 Computer Diagnostic $ 75 100 Note Diagnostic fees applicable to repair costs if work is performed Business Information Hours Monday Friday 7:30 AM 6:00 PM Saturday 8:00 AM 2:00 PM Payment All major credit cards cash financing available Warranty 12 month/12,000 mile warranty on labor Cancellation Policy 24 hour notice required',\n",
       "  'chunk_index': 0,\n",
       "  'user_id': 'user_2mmXezcGmjZCf88gT2v2waCBsXv',\n",
       "  'similarity': 0.42493466361773}]"
      ]
     },
     "execution_count": 3,
     "metadata": {},
     "output_type": "execute_result"
    }
   ],
   "source": [
    "from services.chat.chat import similarity_search\n",
    "\n",
    "await similarity_search(\"oil change\", [\"english_car_mechanic\"])"
   ]
  }
 ],
 "metadata": {
  "kernelspec": {
   "display_name": "venv",
   "language": "python",
   "name": "python3"
  },
  "language_info": {
   "codemirror_mode": {
    "name": "ipython",
    "version": 3
   },
   "file_extension": ".py",
   "mimetype": "text/x-python",
   "name": "python",
   "nbconvert_exporter": "python",
   "pygments_lexer": "ipython3",
   "version": "3.12.6"
  }
 },
 "nbformat": 4,
 "nbformat_minor": 2
}
