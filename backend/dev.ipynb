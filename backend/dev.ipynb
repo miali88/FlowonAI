{
 "cells": [
  {
   "cell_type": "code",
   "execution_count": 2,
   "metadata": {},
   "outputs": [
    {
     "name": "stdout",
     "output_type": "stream",
     "text": [
      "\n",
      "\n",
      "\n",
      " =-[=-[=-[=-[=-[ \n",
      "\n",
      "\n",
      "\n",
      "messages: [{'role': 'user', 'content': 'what colour is the sky?'}]\n"
     ]
    },
    {
     "data": {
      "text/plain": [
       "\"The color of the sky can vary depending on several factors such as the time of day, weather conditions, and your location. Generally, during a clear day, the sky appears blue due to Rayleigh scattering, which causes shorter blue wavelengths of sunlight to be scattered more than other colors. At sunrise and sunset, the sky can take on shades of red, orange, and pink because the light has to pass through a greater thickness of the Earth's atmosphere, scattering shorter wavelengths and allowing longer red wavelengths to predominate. On cloudy or overcast days, the sky might appear gray. In some cases, depending on atmospheric conditions and pollution, it can also have different hues.\""
      ]
     },
     "execution_count": 2,
     "metadata": {},
     "output_type": "execute_result"
    }
   ],
   "source": [
    "from services.chat.chat import llm_response\n",
    "\n",
    "await llm_response(\"\", \"what colour is the sky?\", model=\"openai\")"
   ]
  }
 ],
 "metadata": {
  "kernelspec": {
   "display_name": "venv",
   "language": "python",
   "name": "python3"
  },
  "language_info": {
   "codemirror_mode": {
    "name": "ipython",
    "version": 3
   },
   "file_extension": ".py",
   "mimetype": "text/x-python",
   "name": "python",
   "nbconvert_exporter": "python",
   "pygments_lexer": "ipython3",
   "version": "3.12.6"
  }
 },
 "nbformat": 4,
 "nbformat_minor": 2
}
