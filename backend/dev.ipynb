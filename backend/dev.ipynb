{
 "cells": [
  {
   "cell_type": "code",
   "execution_count": 2,
   "metadata": {},
   "outputs": [
    {
     "name": "stdout",
     "output_type": "stream",
     "text": [
      "\n",
      "\n",
      "similarity_search...\n"
     ]
    },
    {
     "name": "stderr",
     "output_type": "stream",
     "text": [
      "Error querying table user_web_data: {'code': 'PGRST202', 'details': 'Searched for the function public.user_web_data with parameters embedding_column, max_results, query_embedding, similarity_threshold, tag_filter or with a single unnamed json/jsonb parameter, but no matches were found in the schema cache.', 'hint': 'Perhaps you meant to call the function public.user_web_data(embedding_column, max_results, query_embedding, similarity_threshold)', 'message': 'Could not find the function public.user_web_data(embedding_column, max_results, query_embedding, similarity_threshold, tag_filter) in the schema cache'}\n",
      "Error querying table user_text_files: {'code': 'PGRST202', 'details': 'Searched for the function public.search_chunks with parameters max_results, query_embedding, similarity_threshold, tag_filter or with a single unnamed json/jsonb parameter, but no matches were found in the schema cache.', 'hint': 'Perhaps you meant to call the function public.search_chunks(filter_user_id, max_results, query_embedding, similarity_threshold)', 'message': 'Could not find the function public.search_chunks(max_results, query_embedding, similarity_threshold, tag_filter) in the schema cache'}\n"
     ]
    },
    {
     "data": {
      "text/plain": [
       "[]"
      ]
     },
     "execution_count": 2,
     "metadata": {},
     "output_type": "execute_result"
    }
   ],
   "source": [
    "from services.chat.chat import similarity_search\n",
    "\n",
    "await similarity_search(\"oil change\", [\"english_car_mechanic\"])"
   ]
  }
 ],
 "metadata": {
  "kernelspec": {
   "display_name": "venv",
   "language": "python",
   "name": "python3"
  },
  "language_info": {
   "codemirror_mode": {
    "name": "ipython",
    "version": 3
   },
   "file_extension": ".py",
   "mimetype": "text/x-python",
   "name": "python",
   "nbconvert_exporter": "python",
   "pygments_lexer": "ipython3",
   "version": "3.12.6"
  }
 },
 "nbformat": 4,
 "nbformat_minor": 2
}
