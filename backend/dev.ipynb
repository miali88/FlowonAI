{
 "cells": [
  {
   "cell_type": "code",
   "execution_count": null,
   "metadata": {},
   "outputs": [],
   "source": [
    "from services.knowledge_base.kb import get_kb_items\n",
    "\n",
    "response = await get_kb_items(\"user_2mmXezcGmjZCf88gT2v2waCBsXv\")"
   ]
  },
  {
   "cell_type": "code",
   "execution_count": null,
   "metadata": {},
   "outputs": [],
   "source": [
    "from itertools import groupby\n",
    "from operator import itemgetter\n",
    "\n",
    "def group_by_root_url(items):\n",
    "    if not isinstance(items, list):\n",
    "        raise TypeError(f\"Expected a list, got {type(items)}\")\n",
    "    \n",
    "    # Sort items by root_url\n",
    "    sorted_items = sorted(items, key=itemgetter('root_url'))\n",
    "    \n",
    "    # Group items and create consolidated records\n",
    "    result = []\n",
    "    for root_url, group in groupby(sorted_items, key=itemgetter('root_url')):\n",
    "        group_list = list(group)\n",
    "        \n",
    "        # Create consolidated record\n",
    "        consolidated = {\n",
    "            'title': root_url,  # Using root_url as title\n",
    "            'root_url': root_url,\n",
    "            'content': [{  # Group of URLs and their fields\n",
    "                'url': item.get('url', ''),\n",
    "                'id': item['id'],\n",
    "                'token_count': item.get('token_count', 0)\n",
    "            } for item in group_list],\n",
    "            'created_at': next(iter(group_list)).get('created_at', ''),  # Take created_at from first item\n",
    "            'data_type': 'web',\n",
    "            'user_id': group_list[0].get('user_id')  # Assuming user_id is consistent within group\n",
    "        }\n",
    "        result.append(consolidated)\n",
    "    \n",
    "    return result\n",
    "\n",
    "grouped = group_by_root_url(response)\n",
    "grouped"
   ]
  },
  {
   "cell_type": "code",
   "execution_count": null,
   "metadata": {},
   "outputs": [],
   "source": [
    "grouped[0]['content']"
   ]
  },
  {
   "cell_type": "code",
   "execution_count": 1,
   "metadata": {},
   "outputs": [
    {
     "name": "stdout",
     "output_type": "stream",
     "text": [
      "\n",
      "\n",
      "similarity_search...\n"
     ]
    },
    {
     "data": {
      "text/plain": [
       "[{'id': 53,\n",
       "  'parent_id': 49,\n",
       "  'content': 'Service Categories Pricing Routine Maintenance Oil Change Conventional $ 35 55 Synthetic Blend $ 55 75 Full Synthetic $ 75 95 Note Includes multi point inspection and fluid top off Tire Services Rotation $ 25 35 Balance $ 40 60 all wheels New Tires $ 80 300 per tire Note Same day service available for most tire work Brake Services Brake Pad Replacement $ 150 300 per axle Rotor Replacement $ 200 400 per axle Brake Fluid Flush $ 80 120 Note Free brake inspections available Diagnostic Services Check Engine Light $ 89 129 Full Vehicle Inspection $ 150 200 Computer Diagnostic $ 75 100 Note Diagnostic fees applicable to repair costs if work is performed Business Information Hours Monday Friday 7:30 AM 6:00 PM Saturday 8:00 AM 2:00 PM Payment All major credit cards cash financing available Warranty 12 month/12,000 mile warranty on labor Cancellation Policy 24 hour notice required',\n",
       "  'chunk_index': 0,\n",
       "  'user_id': 'user_2mmXezcGmjZCf88gT2v2waCBsXv',\n",
       "  'similarity': 0.497741788221918}]"
      ]
     },
     "execution_count": 1,
     "metadata": {},
     "output_type": "execute_result"
    }
   ],
   "source": [
    "from services.chat.chat import similarity_search\n",
    "\n",
    "await similarity_search(\"what is the cost of an oil change\", table_names=[\"user_text_files\"])"
   ]
  },
  {
   "cell_type": "code",
   "execution_count": null,
   "metadata": {},
   "outputs": [],
   "source": []
  }
 ],
 "metadata": {
  "kernelspec": {
   "display_name": "venv",
   "language": "python",
   "name": "python3"
  },
  "language_info": {
   "codemirror_mode": {
    "name": "ipython",
    "version": 3
   },
   "file_extension": ".py",
   "mimetype": "text/x-python",
   "name": "python",
   "nbconvert_exporter": "python",
   "pygments_lexer": "ipython3",
   "version": "3.12.6"
  }
 },
 "nbformat": 4,
 "nbformat_minor": 2
}
