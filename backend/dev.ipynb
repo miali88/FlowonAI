{
 "cells": [
  {
   "cell_type": "markdown",
   "metadata": {},
   "source": [
    "## __ INIT __"
   ]
  },
  {
   "cell_type": "code",
   "execution_count": 1,
   "metadata": {},
   "outputs": [],
   "source": [
    "from services.db.supabase_services import supabase_client\n",
    "supabase = supabase_client()\n",
    "\n",
    "from services.twilio import client\n",
    "\n",
    "from app.core.config import settings\n",
    "import requests\n",
    "import json\n",
    "from typing import Dict, Annotated, Optional, List, Union\n",
    "import os \n",
    "from dotenv import load_dotenv\n",
    "load_dotenv()\n",
    "\n",
    "from services.cache import get_agent_metadata, get_all_agents\n",
    "\n",
    "from services.chat.chat import similarity_search, get_embedding"
   ]
  },
  {
   "cell_type": "code",
   "execution_count": null,
   "metadata": {},
   "outputs": [],
   "source": [
    "def get_twilio_countries() -> List[str]:\n",
    "    countries = client.available_phone_numbers.list()\n",
    "    return [country.country_code for country in countries]\n",
    "\n",
    "get_twilio_countries()"
   ]
  },
  {
   "cell_type": "code",
   "execution_count": 44,
   "metadata": {},
   "outputs": [
    {
     "name": "stdout",
     "output_type": "stream",
     "text": [
      "Available number types for EE: {'local': ['+3726692342', '+3726361070', '+3726360845', '+3726692304', '+3726360819'], 'toll_free': ['+37280010004', '+37280010009', '+37280010003', '+37280010006', '+37280010008'], 'mobile': ['+37256011399', '+37257052018', '+37257052005', '+37257052016', '+37256011380']}\n",
      "Available number types for GB: {'local': ['+441848260780', '+441379778515', '+441544302914', '+442045722228', '+441325808634'], 'toll_free': ['+448085012991', '+448085012755', '+448085012630', '+448085020332', '+448085012962'], 'mobile': ['+447897014832', '+447458694422', '+447401608313', '+447575732921', '+447883318090']}\n"
     ]
    }
   ],
   "source": [
    "def get_available_number_types(client, country_code):\n",
    "    number_types = ['local', 'toll_free', 'mobile', 'national']\n",
    "    available_numbers = {}\n",
    "    \n",
    "    for number_type in number_types:\n",
    "        try:\n",
    "            # Try to list up to 5 numbers of each type\n",
    "            numbers = getattr(client.available_phone_numbers(country_code), number_type).list(limit=5)\n",
    "            numbers_list = [number.phone_number for number in numbers]\n",
    "            \n",
    "            # Only add to dictionary if numbers were found\n",
    "            if numbers_list:\n",
    "                available_numbers[number_type] = numbers_list\n",
    "                \n",
    "        except Exception as e:\n",
    "            continue\n",
    "            \n",
    "    return available_numbers\n",
    "\n",
    "country_code = \"EE\"\n",
    "available_types = get_available_number_types(client, country_code)\n",
    "print(f\"Available number types for {country_code}: {available_types}\")\n",
    "\n",
    "country_code = \"GB\"\n",
    "us_types = get_available_number_types(client, country_code)\n",
    "print(f\"Available number types for {country_code}: {us_types}\")"
   ]
  },
  {
   "cell_type": "markdown",
   "metadata": {},
   "source": [
    "## In_mem kb"
   ]
  },
  {
   "cell_type": "code",
   "execution_count": 35,
   "metadata": {},
   "outputs": [],
   "source": [
    "import faiss\n",
    "import numpy as np\n",
    "\n",
    "# Initialize an in-memory index\n",
    "dimension = 1024  \n",
    "index = faiss.IndexFlatL2(dimension)\n",
    "\n",
    "# Add vectors\n",
    "vectors = np.random.random((1000, dimension)).astype('float32')\n",
    "index.add(vectors)\n",
    "\n",
    "# Perform similarity search\n",
    "query = np.random.random((1, dimension)).astype('float32')\n",
    "k = 5  # Number of nearest neighbors\n",
    "distances, indices = index.search(query, k)"
   ]
  },
  {
   "cell_type": "code",
   "execution_count": 40,
   "metadata": {},
   "outputs": [],
   "source": [
    "async def get_user_kb(user_id: str) :\n",
    "    try:\n",
    "        # Fetch chunks for the user\n",
    "        chunks_response = supabase.table('chunks') \\\n",
    "            .select('*') \\\n",
    "            .eq('user_id', user_id) \\\n",
    "            .execute()\n",
    "\n",
    "        # Fetch web data for the user\n",
    "        web_data_response = supabase.table('user_web_data') \\\n",
    "            .select('*') \\\n",
    "            .eq('user_id', user_id) \\\n",
    "            .execute()\n",
    "\n",
    "        return {\n",
    "            'chunks': chunks_response.data,\n",
    "            'web_data': web_data_response.data\n",
    "        }\n",
    "    except Exception as e:\n",
    "        print(f\"Error fetching user data: {str(e)}\")\n",
    "        return None\n",
    "    \n",
    "user_kb: Union[Dict, None] = await get_user_kb(\"user_2mmXezcGmjZCf88gT2v2waCBsXv\")\n",
    "\n",
    "async def filter_agent_kb(data: Union[Dict, None], \n",
    "                        data_source: Dict[str, List[Union[str, int]]]):\n",
    "    data_source: Dict = json.loads(data_source)\n",
    "    data_source: Dict = {\n",
    "        \"web\": [item['title'] for item in data_source if item['data_type'] == 'web'],\n",
    "        \"text_files\": [item['id'] for item in data_source if item['data_type'] != 'web']\n",
    "    }     \n",
    "\n",
    "    if not data:\n",
    "        return {'web_data': [], 'chunks': []}\n",
    "    \n",
    "    return {\n",
    "        'web_data': [item for item in data.get('web_data', []) \n",
    "                    if item.get('root_url') in data_source.get('web', [])],\n",
    "        'chunks': [item for item in data.get('chunks', []) \n",
    "                if item.get('parent_id') in data_source.get('text_files', [])]}\n",
    "\n",
    "async def similarity_search_db(data_source: str, query: str):\n",
    "    if data_source != \"all\":\n",
    "        data_source: Dict = json.loads(data_source)\n",
    "        data_source: Dict = {\n",
    "            \"web\": [item['title'] for item in data_source if item['data_type'] == 'web'],\n",
    "            \"text_files\": [item['id'] for item in data_source if item['data_type'] != 'web']\n",
    "        }\n",
    "        results = await similarity_search(query, data_source=data_source, user_id=\"user_2mmXezcGmjZCf88gT2v2waCBsXv\")\n",
    "        \n",
    "        print(\"supabase results:\", results)\n",
    "    elif data_source == \"all\":\n",
    "        data_source = {\"web\": [\"all\"], \"text_files\": [\"all\"]}\n",
    "        results = await similarity_search(query, data_source=data_source, user_id=\"user_2mmXezcGmjZCf88gT2v2waCBsXv\")\n",
    "        \n",
    "        print(\"supabase results:\", results)\n",
    "        return results\n",
    "    \n",
    "\n",
    "query = \"what is the cost of an oil change\"\n"
   ]
  },
  {
   "cell_type": "code",
   "execution_count": null,
   "metadata": {},
   "outputs": [],
   "source": [
    "agent_metadata: Dict = await get_agent_metadata(\"aaf5fce2-c925-4a32-aefc-e4af35d4b8e1\")\n",
    "data_source: str = agent_metadata.get('dataSource', None)\n",
    "\n",
    "agent_kb_data = await filter_agent_kb(data=user_kb, data_source=data_source)\n",
    "\n",
    "agent_kb_data\n"
   ]
  },
  {
   "cell_type": "markdown",
   "metadata": {},
   "source": [
    "## LLM TEXT-TEXT"
   ]
  },
  {
   "cell_type": "code",
   "execution_count": null,
   "metadata": {},
   "outputs": [],
   "source": [
    "from livekit.agents import llm\n",
    "from livekit.plugins import openai  # or anthropic\n",
    "\n",
    "async def chat_with_llm():\n",
    "    # Initialize the LLM\n",
    "    llm_instance = openai.LLM()  # or anthropic.LLM()\n",
    "    \n",
    "    # Create initial chat context\n",
    "    chat_ctx = llm.ChatContext()\n",
    "    \n",
    "    # Add system message if desired\n",
    "    chat_ctx.append(\n",
    "        role=\"system\",\n",
    "        text=\"You are a helpful assistant.\"\n",
    "    )\n",
    "    \n",
    "    # Add user message\n",
    "    chat_ctx.append(\n",
    "        role=\"user\", \n",
    "        text=\"Hello, how are you?\"\n",
    "    )\n",
    "    \n",
    "    # Get response stream\n",
    "    response_stream = llm_instance.chat(chat_ctx=chat_ctx)\n",
    "    \n",
    "    # Collect the response\n",
    "    full_response = \"\"\n",
    "    async for chunk in response_stream:\n",
    "        # Each chunk.choices[0].delta.content contains a text fragment\n",
    "        if chunk.choices[0].delta.content:\n",
    "            text_fragment = chunk.choices[0].delta.content\n",
    "            full_response += text_fragment\n",
    "            print(text_fragment, end=\"\", flush=True)  # For real-time output\n",
    "    \n",
    "    #print(\"\\nFull response:\", full_response)\n",
    "\n",
    "await chat_with_llm()\n",
    "# Run with:\n",
    "# asyncio.run(chat_with_llm())"
   ]
  },
  {
   "cell_type": "code",
   "execution_count": null,
   "metadata": {},
   "outputs": [],
   "source": [
    "from livekit.agents import llm\n",
    "from livekit.plugins import openai\n",
    "from livekit.agents.llm import USE_DOCSTRING\n",
    "from services.cache import get_agent_metadata\n",
    "\n",
    "from services.chat.chat import similarity_search\n",
    "\n",
    "@llm.ai_callable(\n",
    "    name=\"search_products_and_services\",\n",
    "    description=\"Search the documentation for technical related questions\",\n",
    "    auto_retry=True\n",
    ")\n",
    "async def search_products_and_services(\n",
    "    query: Annotated[\n",
    "        str,\n",
    "        llm.TypeInfo(\n",
    "            description=\"The search query containing keywords about products or services\"\n",
    "        )\n",
    "    ],\n",
    "    category: Annotated[\n",
    "        str, \n",
    "        llm.TypeInfo(\n",
    "            description=\"The category to search in: 'products', 'services', or 'both'\"\n",
    "        )\n",
    "    ] = \"both\", \n",
    ") -> str:\n",
    "    \"\"\"\n",
    "    Performs a semantic search in the database for products and services based on the user's query.\n",
    "    Returns formatted information about matching products/services.\n",
    "    \"\"\"\n",
    "    print(\"\\n\\n\\n\\n FUNCTION CALL: search_products_and_services\")\n",
    "\n",
    "    try:\n",
    "\n",
    "        data_source = await get_agent_metadata(\"aaf5fce2-c925-4a32-aefc-e4af35d4b8e1\")\n",
    "        data_source: str = data_source.get('dataSource', None)\n",
    "        if data_source != \"all\":\n",
    "            data_source: Dict = json.loads(data_source)\n",
    "            data_source: Dict = {\n",
    "                \"web\": [item['title'] for item in data_source if item['data_type'] == 'web'],\n",
    "                \"text_files\": [item['id'] for item in data_source if item['data_type'] != 'web']\n",
    "            }\n",
    "            results = await similarity_search(query, data_source=data_source, user_id=\"user_2mmXezcGmjZCf88gT2v2waCBsXv\")\n",
    "        elif data_source == \"all\":\n",
    "            data_source = {\"web\": [\"all\"], \"text_files\": [\"all\"]}\n",
    "            results = await similarity_search(query, data_source=data_source, user_id=\"user_2mmXezcGmjZCf88gT2v2waCBsXv\")\n",
    "\n",
    "        print(\"\\n\\n\\n\\n RESULTS: \", results)\n",
    "        rag_prompt = f\"\"\"\n",
    "        ## User Query: {query}\n",
    "        ## Found matching products/services: {results}\n",
    "        \"\"\"\n",
    "        chat_ctx = llm.ChatContext()\n",
    "        chat_ctx.append(\n",
    "                role=\"user\",\n",
    "                text=rag_prompt\n",
    "            )\n",
    "\n",
    "        return await get_llm_response(chat_ctx)\n",
    "        \n",
    "    except Exception as e:\n",
    "        return \"Sorry, I encountered an error while searching for products and services.\"\n",
    "\n",
    "\n",
    "\n",
    "async def get_llm_response(chat_ctx: llm.ChatContext, fnc_ctx: llm.FunctionContext = None):\n",
    "    print(\"\\n\\n\\n\\n GET LLM RESPONSE\")\n",
    "    # Get response stream with function context\n",
    "    if fnc_ctx: \n",
    "        llm_instance = openai.LLM()\n",
    "        response_stream = llm_instance.chat(\n",
    "            chat_ctx=chat_ctx,\n",
    "            fnc_ctx=fnc_ctx\n",
    "                    )\n",
    "    else:\n",
    "        llm_instance = openai.LLM()\n",
    "        response_stream = llm_instance.chat(\n",
    "            chat_ctx=chat_ctx\n",
    "        )\n",
    "\n",
    "\n",
    "    async for chunk in response_stream:\n",
    "        if chunk.choices[0].delta.content:\n",
    "            print(chunk.choices[0].delta.content, end=\"\", flush=True)\n",
    "        elif chunk.choices[0].delta.tool_calls:\n",
    "            # Handle function calls\n",
    "            for tool_call in chunk.choices[0].delta.tool_calls:\n",
    "                print(f\"\\nFunction called: {tool_call.function_info.name}\")\n",
    "                print(f\"Arguments: {tool_call.arguments}\")\n",
    "                \n",
    "                # Execute the function\n",
    "                called_function = tool_call.execute()\n",
    "                result = await called_function.task\n",
    "                print(f\"Function result: {result}\")\n",
    "\n",
    "async def test_llm_function_calls():\n",
    "    \n",
    "    # Create function context\n",
    "    fnc_ctx = llm.FunctionContext()\n",
    "    fnc_ctx._register_ai_function(search_products_and_services)\n",
    "    \n",
    "    # Create chat context\n",
    "    chat_ctx = llm.ChatContext()\n",
    "    chat_ctx.append(\n",
    "        role=\"user\",\n",
    "        text=\"provide an action plan for getting authenticated with google oauth\"\n",
    "    )\n",
    "    \n",
    "    await get_llm_response(chat_ctx, fnc_ctx)\n",
    "\n",
    "await test_llm_function_calls()\n",
    "# Run with:\n",
    "# asyncio.run(test_llm_function_calls())"
   ]
  },
  {
   "cell_type": "code",
   "execution_count": null,
   "metadata": {},
   "outputs": [],
   "source": []
  },
  {
   "cell_type": "markdown",
   "metadata": {},
   "source": [
    "## Anthropic pdf "
   ]
  },
  {
   "cell_type": "code",
   "execution_count": null,
   "metadata": {},
   "outputs": [],
   "source": [
    "import anthropic\n",
    "import base64\n",
    "import httpx\n",
    "import os \n",
    "from dotenv import load_dotenv\n",
    "\n",
    "load_dotenv()\n",
    "\n",
    "# First fetch the file\n",
    "pdf_url = \"https://assets.anthropic.com/m/1cd9d098ac3e6467/original/Claude-3-Model-Card-October-Addendum.pdf\"\n",
    "pdf_data = base64.standard_b64encode(httpx.get(pdf_url).content).decode(\"utf-8\")\n",
    "\n",
    "\n",
    "# Finally send the API request\n",
    "client = anthropic.Anthropic()\n",
    "message = client.beta.messages.create(\n",
    "    model=\"claude-3-5-sonnet-20241022\",\n",
    "    betas=[\"pdfs-2024-09-25\"],\n",
    "    max_tokens=1024,\n",
    "    messages=[\n",
    "        {\n",
    "            \"role\": \"user\",\n",
    "            \"content\": [\n",
    "                {\n",
    "                    \"type\": \"document\",\n",
    "                    \"source\": {\n",
    "                        \"type\": \"base64\",\n",
    "                        \"media_type\": \"application/pdf\",\n",
    "                        \"data\": pdf_data\n",
    "                    }\n",
    "                },\n",
    "                {\n",
    "                    \"type\": \"text\",\n",
    "                    \"text\": \"Which model has the highest human preference win rates across each use-case?\"\n",
    "                }\n",
    "            ]\n",
    "        }\n",
    "    ],\n",
    ")\n",
    "\n",
    "print(message)\n"
   ]
  },
  {
   "cell_type": "markdown",
   "metadata": {},
   "source": [
    "## DataSource"
   ]
  },
  {
   "cell_type": "code",
   "execution_count": null,
   "metadata": {},
   "outputs": [],
   "source": [
    "from services.chat.chat import similarity_search\n",
    "\n",
    "await similarity_search(\"pre packaged admin\", \"all\")"
   ]
  },
  {
   "cell_type": "code",
   "execution_count": 12,
   "metadata": {},
   "outputs": [],
   "source": [
    "from services.cache import get_agent_metadata\n",
    "import json \n",
    "from services.db.supabase_services import supabase_client\n",
    "supabase = supabase_client()\n",
    "\n",
    "agents_metadata = await get_agent_metadata(\"13400af9-0655-46bc-a815-9664910c2abc\")\n",
    "data_source = agents_metadata.get('dataSource', None)\n",
    "if data_source != \"all\":\n",
    "    data_source = json.loads(data_source)\n",
    "    data_source = {\n",
    "                \"web\": [item['title'] for item in data_source if item['data_type'] == 'web'],\n",
    "                \"text_files\": [item['id'] for item in data_source if item['data_type'] != 'web']\n",
    "            }\n",
    "\n",
    "elif data_source == \"all\":\n",
    "    data_source\n",
    "\n"
   ]
  },
  {
   "cell_type": "code",
   "execution_count": 7,
   "metadata": {},
   "outputs": [],
   "source": [
    "from services.chat.chat import get_embedding\n",
    "query_embedding = await get_embedding(\"jina embedding model\")"
   ]
  },
  {
   "cell_type": "markdown",
   "metadata": {},
   "source": [
    "## Nylas"
   ]
  },
  {
   "cell_type": "code",
   "execution_count": null,
   "metadata": {},
   "outputs": [],
   "source": [
    "\"\"\" NYLAS WEBHOOK SET UP \"\"\"\n",
    "\n",
    "from dotenv import load_dotenv\n",
    "load_dotenv()\n",
    "\n",
    "import os\n",
    "import sys\n",
    "from nylas import Client\n",
    "from nylas.models.webhooks import WebhookTriggers\n",
    "\n",
    "nylas = Client(\n",
    "  os.environ.get('NYLAS_API_KEY'),\n",
    "  os.environ.get('NYLAS_API_URI')\n",
    ")\n",
    "\n",
    "grant_id = \"5ef0555c-25ab-4b4e-b4a1-02fd8ba4d255\"\n",
    "webhook_url = \"https://internally-wise-spaniel.eu.ngrok.io/api/v1/nylas/webhook\"\n",
    "\n",
    "email = os.environ.get(\"EMAIL\")\n",
    "\n",
    "webhook = nylas.webhooks.create(\n",
    "  request_body={\n",
    "    \"trigger_types\": [WebhookTriggers.EVENT_CREATED],\n",
    "    \"webhook_url\": webhook_url,\n",
    "    \"description\": \"My first webhook\",\n",
    "    \"notification_email_address\": email,\n",
    "  }\n",
    ")\n",
    "\n",
    "print(webhook)   "
   ]
  },
  {
   "cell_type": "markdown",
   "metadata": {},
   "source": [
    "## NYLAS API"
   ]
  },
  {
   "cell_type": "code",
   "execution_count": 32,
   "metadata": {},
   "outputs": [],
   "source": [
    "import os \n",
    "from dotenv import load_dotenv\n",
    "from nylas import Client\n",
    "from typing import List, Dict, Any\n",
    "import requests\n",
    "\n",
    "load_dotenv()\n",
    "\n",
    "NYLAS_API_KEY = os.getenv(\"NYLAS_API_KEY\")\n",
    "NYLAS_API_URI = os.getenv(\"NYLAS_API_URI\")\n",
    "\n",
    "# Initialize Nylas client\n",
    "nylas = Client(\n",
    "    api_key = NYLAS_API_KEY,\n",
    "    api_uri = NYLAS_API_URI\n",
    ")"
   ]
  },
  {
   "cell_type": "code",
   "execution_count": null,
   "metadata": {},
   "outputs": [],
   "source": [
    "\"\"\" WORKING SEND EMAIL \"\"\"\n",
    "\n",
    "grant_id = \"5ef0555c-25ab-4b4e-b4a1-02fd8ba4d255\"\n",
    "email = \"michael@flowon.ai\"\n",
    "\n",
    "#attachment = utils.file_utils.attach_file_request_builder(\"Nylas_Logo.png\")\n",
    "\n",
    "message = nylas.messages.send(\n",
    "  grant_id,\n",
    "  request_body={\n",
    "    \"to\": [{ \"name\": \"Name\", \"email\": email }],\n",
    "    \"reply_to\": [{ \"name\": \"Name\", \"email\": email }],\n",
    "    \"subject\": \"Your Subject Here\",\n",
    "    \"body\": \"Your email body here.\",\n",
    "  }\n",
    ")\n",
    "\n",
    "print(message)   "
   ]
  },
  {
   "cell_type": "code",
   "execution_count": 5,
   "metadata": {},
   "outputs": [
    {
     "name": "stdout",
     "output_type": "stream",
     "text": [
      "(Calendar(id='AAkALgAAAAAAHYQDEapmEc2byACqAC-EWg0AT6mu_rvDikK57fYroNKSNAAEWMJ6ZAAA', grant_id='5ef0555c-25ab-4b4e-b4a1-02fd8ba4d255', name='Calendar', read_only=False, is_owned_by_user=True, object='calendar', timezone=None, description=None, location=None, hex_color='#cf2b36', hex_foreground_color=None, is_primary=True, metadata=None), '3879748553-464e1a02-7382-462f-a3d6-7302acbdae06')\n"
     ]
    }
   ],
   "source": [
    "\"\"\" get calendar id\"\"\"\n",
    "grant_id = \"5ef0555c-25ab-4b4e-b4a1-02fd8ba4d255\"\n",
    "\n",
    "calendar = nylas.calendars.find(\n",
    "    grant_id,\n",
    "    \"primary\"\n",
    ")\n",
    "\n",
    "print(calendar)   "
   ]
  },
  {
   "cell_type": "code",
   "execution_count": 30,
   "metadata": {},
   "outputs": [],
   "source": [
    "\"\"\" GET CALENDAR EVENTS \"\"\"\n",
    "calendar_id = \"AAkALgAAAAAAHYQDEapmEc2byACqAC-EWg0AT6mu_rvDikK57fYroNKSNAAEWMJ6ZAAA\"\n",
    "\n",
    "def get_calendar_events(grant_id: str, calendar_id: str = \"primary\", limit: int = 100) -> List[Dict[Any, Any]]:\n",
    "    \"\"\"\n",
    "    Fetch calendar events for a given grant (email) from Nylas API.\n",
    "    \"\"\"\n",
    "    # Use the v3 endpoint format\n",
    "    url = f\"{NYLAS_API_URI}/v3/grants/{grant_id}/events\"\n",
    "    \n",
    "    headers = {\n",
    "        \"Accept\": \"application/json\",\n",
    "        \"Authorization\": f\"Bearer {NYLAS_API_KEY}\",\n",
    "        \"Content-Type\": \"application/json\"\n",
    "    }\n",
    "    \n",
    "    params = {\n",
    "        \"calendar_id\": calendar_id,\n",
    "        \"limit\": limit\n",
    "    }\n",
    "    \n",
    "    response = requests.get(url, headers=headers, params=params)\n",
    "    response.raise_for_status()\n",
    "    \n",
    "    return response.json()\n",
    "\n",
    "# Test the function\n",
    "response = get_calendar_events(\"5ef0555c-25ab-4b4e-b4a1-02fd8ba4d255\", calendar_id=calendar_id)\n",
    "\n",
    "\n",
    "from datetime import datetime\n",
    "\n",
    "start = response['data'][0]['when']['start_time']\n",
    "end = response['data'][0]['when']['end_time']\n",
    "start = datetime.fromtimestamp(start)\n",
    "end = datetime.fromtimestamp(end)\n",
    "\n"
   ]
  },
  {
   "cell_type": "code",
   "execution_count": 43,
   "metadata": {},
   "outputs": [
    {
     "name": "stdout",
     "output_type": "stream",
     "text": [
      "{'request_id': '6125823212-2bd5fe22-48a2-457e-8212-a33b18466ff1', 'data': {'id': 'd3bc49b4-edd2-435d-a5f6-a8e608eeb787', 'slug': 'ddf9bd6a-7736-4b95-864a-e128a77156cd', 'participants': [{'email': 'azkar9@hotmail.co.uk', 'is_organizer': True, 'name': 'Test', 'availability': {'calendar_ids': ['primary']}, 'booking': {'calendar_id': 'primary'}}], 'requires_session_auth': False, 'availability': {'duration_minutes': 30, 'interval_minutes': 30}, 'event_booking': {'title': 'My test event', 'booking_type': 'booking', 'hide_participants': None, 'disable_emails': None}, 'scheduler': {'available_days_in_future': 30, 'min_cancellation_notice': 0, 'min_booking_notice': 60, 'email_template': {'booking_confirmed': {}}}, 'appearance': None}}\n"
     ]
    }
   ],
   "source": [
    "\"\"\" CREATE SCHEDULING CONFIGURATION \"\"\"\n",
    "\n",
    "import requests\n",
    "import json\n",
    "\n",
    "url = \"https://api.us.nylas.com/v3/grants/5ef0555c-25ab-4b4e-b4a1-02fd8ba4d255/scheduling/configurations\"\n",
    "headers = {\n",
    "    \"Accept\": \"application/json, application/gzip\",\n",
    "    \"Authorization\": f\"Bearer {NYLAS_API_KEY}\",\n",
    "    \"Content-Type\": \"application/json\"\n",
    "}\n",
    "\n",
    "payload = {\n",
    "    \"requires_session_auth\": False,\n",
    "    \"participants\": [\n",
    "        {\n",
    "            \"name\": \"Test\",\n",
    "            \"email\": \"azkar9@hotmail.co.uk\",\n",
    "            \"is_organizer\": True,\n",
    "            \"availability\": {\n",
    "                \"calendar_ids\": [\"primary\"]\n",
    "            },\n",
    "            \"booking\": {\n",
    "                \"calendar_id\": \"primary\"\n",
    "            }\n",
    "        }\n",
    "    ],\n",
    "    \"availability\": {\n",
    "        \"duration_minutes\": 30\n",
    "    },\n",
    "    \"event_booking\": {\n",
    "        \"title\": \"My test event\"\n",
    "    }\n",
    "}\n",
    "\n",
    "response = requests.post(url, headers=headers, json=payload)\n",
    "print(response.json())"
   ]
  },
  {
   "cell_type": "code",
   "execution_count": 44,
   "metadata": {},
   "outputs": [],
   "source": [
    "request_id = response.json()['data']['id']\n"
   ]
  },
  {
   "cell_type": "code",
   "execution_count": 42,
   "metadata": {},
   "outputs": [
    {
     "name": "stdout",
     "output_type": "stream",
     "text": [
      "Error: 400\n",
      "{\"request_id\":\"7248723175-15b40b85-6589-4eff-8750-8e7f6f69e377\",\"error\":{\"type\":\"invalid_request_error\",\"message\":\"Configuration does not require a session\"}}\n"
     ]
    }
   ],
   "source": [
    "\"\"\" CREATE A SESSION \"\"\"\n",
    "\n",
    "import requests\n",
    "\n",
    "url = \"https://api.us.nylas.com/v3/scheduling/sessions\"\n",
    "headers = {\n",
    "    \"Accept\": \"application/json, application/gzip\",\n",
    "    \"Authorization\": f\"Bearer {NYLAS_API_KEY}\",\n",
    "    \"Content-Type\": \"application/json\"\n",
    "}\n",
    "payload = {\n",
    "    \"configuration_id\": f\"{request_id}\",\n",
    "    \"time_to_live\": 10\n",
    "}\n",
    "\n",
    "response = requests.post(url, headers=headers, json=payload)\n",
    "\n",
    "# Check if the request was successful\n",
    "if response.status_code == 200:\n",
    "    print(\"Success:\", response.json())\n",
    "else:\n",
    "    print(\"Error:\", response.status_code)\n",
    "    print(response.text)"
   ]
  },
  {
   "cell_type": "code",
   "execution_count": 57,
   "metadata": {},
   "outputs": [
    {
     "name": "stdout",
     "output_type": "stream",
     "text": [
      "{'request_id': '3692034428-56798e7b-0573-4b5e-afcc-5b68a2d4f09f', 'data': {'time_slots': [{'emails': ['azkar9@hotmail.co.uk'], 'end_time': 1731464100, 'start_time': 1731462300}, {'emails': ['azkar9@hotmail.co.uk'], 'end_time': 1731465900, 'start_time': 1731464100}, {'emails': ['azkar9@hotmail.co.uk'], 'end_time': 1731467700, 'start_time': 1731465900}, {'emails': ['azkar9@hotmail.co.uk'], 'end_time': 1731469500, 'start_time': 1731467700}, {'emails': ['azkar9@hotmail.co.uk'], 'end_time': 1731471300, 'start_time': 1731469500}, {'emails': ['azkar9@hotmail.co.uk'], 'end_time': 1731473100, 'start_time': 1731471300}, {'emails': ['azkar9@hotmail.co.uk'], 'end_time': 1731474900, 'start_time': 1731473100}, {'emails': ['azkar9@hotmail.co.uk'], 'end_time': 1731476700, 'start_time': 1731474900}, {'emails': ['azkar9@hotmail.co.uk'], 'end_time': 1731478500, 'start_time': 1731476700}, {'emails': ['azkar9@hotmail.co.uk'], 'end_time': 1731480300, 'start_time': 1731478500}, {'emails': ['azkar9@hotmail.co.uk'], 'end_time': 1731482100, 'start_time': 1731480300}, {'emails': ['azkar9@hotmail.co.uk'], 'end_time': 1731483900, 'start_time': 1731482100}, {'emails': ['azkar9@hotmail.co.uk'], 'end_time': 1731485700, 'start_time': 1731483900}, {'emails': ['azkar9@hotmail.co.uk'], 'end_time': 1731487500, 'start_time': 1731485700}, {'emails': ['azkar9@hotmail.co.uk'], 'end_time': 1731489300, 'start_time': 1731487500}, {'emails': ['azkar9@hotmail.co.uk'], 'end_time': 1731491100, 'start_time': 1731489300}, {'emails': ['azkar9@hotmail.co.uk'], 'end_time': 1731495600, 'start_time': 1731493800}, {'emails': ['azkar9@hotmail.co.uk'], 'end_time': 1731497400, 'start_time': 1731495600}, {'emails': ['azkar9@hotmail.co.uk'], 'end_time': 1731501000, 'start_time': 1731499200}, {'emails': ['azkar9@hotmail.co.uk'], 'end_time': 1731502800, 'start_time': 1731501000}, {'emails': ['azkar9@hotmail.co.uk'], 'end_time': 1731506400, 'start_time': 1731504600}, {'emails': ['azkar9@hotmail.co.uk'], 'end_time': 1731508200, 'start_time': 1731506400}, {'emails': ['azkar9@hotmail.co.uk'], 'end_time': 1731510000, 'start_time': 1731508200}, {'emails': ['azkar9@hotmail.co.uk'], 'end_time': 1731511800, 'start_time': 1731510000}, {'emails': ['azkar9@hotmail.co.uk'], 'end_time': 1731513600, 'start_time': 1731511800}, {'emails': ['azkar9@hotmail.co.uk'], 'end_time': 1731515400, 'start_time': 1731513600}, {'emails': ['azkar9@hotmail.co.uk'], 'end_time': 1731517200, 'start_time': 1731515400}, {'emails': ['azkar9@hotmail.co.uk'], 'end_time': 1731519000, 'start_time': 1731517200}, {'emails': ['azkar9@hotmail.co.uk'], 'end_time': 1731520800, 'start_time': 1731519000}, {'emails': ['azkar9@hotmail.co.uk'], 'end_time': 1731522600, 'start_time': 1731520800}, {'emails': ['azkar9@hotmail.co.uk'], 'end_time': 1731524400, 'start_time': 1731522600}, {'emails': ['azkar9@hotmail.co.uk'], 'end_time': 1731526200, 'start_time': 1731524400}, {'emails': ['azkar9@hotmail.co.uk'], 'end_time': 1731528000, 'start_time': 1731526200}, {'emails': ['azkar9@hotmail.co.uk'], 'end_time': 1731529800, 'start_time': 1731528000}, {'emails': ['azkar9@hotmail.co.uk'], 'end_time': 1731531600, 'start_time': 1731529800}, {'emails': ['azkar9@hotmail.co.uk'], 'end_time': 1731533400, 'start_time': 1731531600}, {'emails': ['azkar9@hotmail.co.uk'], 'end_time': 1731535200, 'start_time': 1731533400}, {'emails': ['azkar9@hotmail.co.uk'], 'end_time': 1731537000, 'start_time': 1731535200}, {'emails': ['azkar9@hotmail.co.uk'], 'end_time': 1731538800, 'start_time': 1731537000}, {'emails': ['azkar9@hotmail.co.uk'], 'end_time': 1731540600, 'start_time': 1731538800}, {'emails': ['azkar9@hotmail.co.uk'], 'end_time': 1731542400, 'start_time': 1731540600}, {'emails': ['azkar9@hotmail.co.uk'], 'end_time': 1731544200, 'start_time': 1731542400}, {'emails': ['azkar9@hotmail.co.uk'], 'end_time': 1731546000, 'start_time': 1731544200}, {'emails': ['azkar9@hotmail.co.uk'], 'end_time': 1731547800, 'start_time': 1731546000}, {'emails': ['azkar9@hotmail.co.uk'], 'end_time': 1731549600, 'start_time': 1731547800}, {'emails': ['azkar9@hotmail.co.uk'], 'end_time': 1731551400, 'start_time': 1731549600}, {'emails': ['azkar9@hotmail.co.uk'], 'end_time': 1731553200, 'start_time': 1731551400}, {'emails': ['azkar9@hotmail.co.uk'], 'end_time': 1731555000, 'start_time': 1731553200}, {'emails': ['azkar9@hotmail.co.uk'], 'end_time': 1731556800, 'start_time': 1731555000}, {'emails': ['azkar9@hotmail.co.uk'], 'end_time': 1731558600, 'start_time': 1731556800}, {'emails': ['azkar9@hotmail.co.uk'], 'end_time': 1731560400, 'start_time': 1731558600}, {'emails': ['azkar9@hotmail.co.uk'], 'end_time': 1731562200, 'start_time': 1731560400}, {'emails': ['azkar9@hotmail.co.uk'], 'end_time': 1731564000, 'start_time': 1731562200}, {'emails': ['azkar9@hotmail.co.uk'], 'end_time': 1731565800, 'start_time': 1731564000}, {'emails': ['azkar9@hotmail.co.uk'], 'end_time': 1731567600, 'start_time': 1731565800}, {'emails': ['azkar9@hotmail.co.uk'], 'end_time': 1731569400, 'start_time': 1731567600}, {'emails': ['azkar9@hotmail.co.uk'], 'end_time': 1731571200, 'start_time': 1731569400}, {'emails': ['azkar9@hotmail.co.uk'], 'end_time': 1731573000, 'start_time': 1731571200}, {'emails': ['azkar9@hotmail.co.uk'], 'end_time': 1731574800, 'start_time': 1731573000}, {'emails': ['azkar9@hotmail.co.uk'], 'end_time': 1731576600, 'start_time': 1731574800}, {'emails': ['azkar9@hotmail.co.uk'], 'end_time': 1731578400, 'start_time': 1731576600}, {'emails': ['azkar9@hotmail.co.uk'], 'end_time': 1731580200, 'start_time': 1731578400}, {'emails': ['azkar9@hotmail.co.uk'], 'end_time': 1731582000, 'start_time': 1731580200}, {'emails': ['azkar9@hotmail.co.uk'], 'end_time': 1731603600, 'start_time': 1731601800}, {'emails': ['azkar9@hotmail.co.uk'], 'end_time': 1731605400, 'start_time': 1731603600}, {'emails': ['azkar9@hotmail.co.uk'], 'end_time': 1731607200, 'start_time': 1731605400}, {'emails': ['azkar9@hotmail.co.uk'], 'end_time': 1731609000, 'start_time': 1731607200}, {'emails': ['azkar9@hotmail.co.uk'], 'end_time': 1731610800, 'start_time': 1731609000}, {'emails': ['azkar9@hotmail.co.uk'], 'end_time': 1731612600, 'start_time': 1731610800}, {'emails': ['azkar9@hotmail.co.uk'], 'end_time': 1731614400, 'start_time': 1731612600}, {'emails': ['azkar9@hotmail.co.uk'], 'end_time': 1731616200, 'start_time': 1731614400}, {'emails': ['azkar9@hotmail.co.uk'], 'end_time': 1731618000, 'start_time': 1731616200}, {'emails': ['azkar9@hotmail.co.uk'], 'end_time': 1731619800, 'start_time': 1731618000}, {'emails': ['azkar9@hotmail.co.uk'], 'end_time': 1731621600, 'start_time': 1731619800}, {'emails': ['azkar9@hotmail.co.uk'], 'end_time': 1731623400, 'start_time': 1731621600}, {'emails': ['azkar9@hotmail.co.uk'], 'end_time': 1731625200, 'start_time': 1731623400}, {'emails': ['azkar9@hotmail.co.uk'], 'end_time': 1731627000, 'start_time': 1731625200}, {'emails': ['azkar9@hotmail.co.uk'], 'end_time': 1731628800, 'start_time': 1731627000}, {'emails': ['azkar9@hotmail.co.uk'], 'end_time': 1731630600, 'start_time': 1731628800}, {'emails': ['azkar9@hotmail.co.uk'], 'end_time': 1731632400, 'start_time': 1731630600}, {'emails': ['azkar9@hotmail.co.uk'], 'end_time': 1731634200, 'start_time': 1731632400}, {'emails': ['azkar9@hotmail.co.uk'], 'end_time': 1731636000, 'start_time': 1731634200}, {'emails': ['azkar9@hotmail.co.uk'], 'end_time': 1731637800, 'start_time': 1731636000}, {'emails': ['azkar9@hotmail.co.uk'], 'end_time': 1731639600, 'start_time': 1731637800}, {'emails': ['azkar9@hotmail.co.uk'], 'end_time': 1731641400, 'start_time': 1731639600}, {'emails': ['azkar9@hotmail.co.uk'], 'end_time': 1731643200, 'start_time': 1731641400}, {'emails': ['azkar9@hotmail.co.uk'], 'end_time': 1731645000, 'start_time': 1731643200}, {'emails': ['azkar9@hotmail.co.uk'], 'end_time': 1731646800, 'start_time': 1731645000}, {'emails': ['azkar9@hotmail.co.uk'], 'end_time': 1731648600, 'start_time': 1731646800}, {'emails': ['azkar9@hotmail.co.uk'], 'end_time': 1731650400, 'start_time': 1731648600}, {'emails': ['azkar9@hotmail.co.uk'], 'end_time': 1731652200, 'start_time': 1731650400}, {'emails': ['azkar9@hotmail.co.uk'], 'end_time': 1731654000, 'start_time': 1731652200}, {'emails': ['azkar9@hotmail.co.uk'], 'end_time': 1731655800, 'start_time': 1731654000}, {'emails': ['azkar9@hotmail.co.uk'], 'end_time': 1731657600, 'start_time': 1731655800}, {'emails': ['azkar9@hotmail.co.uk'], 'end_time': 1731659400, 'start_time': 1731657600}, {'emails': ['azkar9@hotmail.co.uk'], 'end_time': 1731661200, 'start_time': 1731659400}, {'emails': ['azkar9@hotmail.co.uk'], 'end_time': 1731663000, 'start_time': 1731661200}, {'emails': ['azkar9@hotmail.co.uk'], 'end_time': 1731664800, 'start_time': 1731663000}, {'emails': ['azkar9@hotmail.co.uk'], 'end_time': 1731666600, 'start_time': 1731664800}, {'emails': ['azkar9@hotmail.co.uk'], 'end_time': 1731668400, 'start_time': 1731666600}, {'emails': ['azkar9@hotmail.co.uk'], 'end_time': 1731670200, 'start_time': 1731668400}, {'emails': ['azkar9@hotmail.co.uk'], 'end_time': 1731672000, 'start_time': 1731670200}, {'emails': ['azkar9@hotmail.co.uk'], 'end_time': 1731673800, 'start_time': 1731672000}, {'emails': ['azkar9@hotmail.co.uk'], 'end_time': 1731675600, 'start_time': 1731673800}, {'emails': ['azkar9@hotmail.co.uk'], 'end_time': 1731677400, 'start_time': 1731675600}, {'emails': ['azkar9@hotmail.co.uk'], 'end_time': 1731679200, 'start_time': 1731677400}, {'emails': ['azkar9@hotmail.co.uk'], 'end_time': 1731681000, 'start_time': 1731679200}, {'emails': ['azkar9@hotmail.co.uk'], 'end_time': 1731682800, 'start_time': 1731681000}, {'emails': ['azkar9@hotmail.co.uk'], 'end_time': 1731684600, 'start_time': 1731682800}, {'emails': ['azkar9@hotmail.co.uk'], 'end_time': 1731686400, 'start_time': 1731684600}, {'emails': ['azkar9@hotmail.co.uk'], 'end_time': 1731688200, 'start_time': 1731686400}, {'emails': ['azkar9@hotmail.co.uk'], 'end_time': 1731690000, 'start_time': 1731688200}, {'emails': ['azkar9@hotmail.co.uk'], 'end_time': 1731691800, 'start_time': 1731690000}, {'emails': ['azkar9@hotmail.co.uk'], 'end_time': 1731693600, 'start_time': 1731691800}, {'emails': ['azkar9@hotmail.co.uk'], 'end_time': 1731695400, 'start_time': 1731693600}, {'emails': ['azkar9@hotmail.co.uk'], 'end_time': 1731697200, 'start_time': 1731695400}, {'emails': ['azkar9@hotmail.co.uk'], 'end_time': 1731699000, 'start_time': 1731697200}, {'emails': ['azkar9@hotmail.co.uk'], 'end_time': 1731700800, 'start_time': 1731699000}, {'emails': ['azkar9@hotmail.co.uk'], 'end_time': 1731702600, 'start_time': 1731700800}, {'emails': ['azkar9@hotmail.co.uk'], 'end_time': 1731704400, 'start_time': 1731702600}, {'emails': ['azkar9@hotmail.co.uk'], 'end_time': 1731706200, 'start_time': 1731704400}, {'emails': ['azkar9@hotmail.co.uk'], 'end_time': 1731708000, 'start_time': 1731706200}, {'emails': ['azkar9@hotmail.co.uk'], 'end_time': 1731709800, 'start_time': 1731708000}, {'emails': ['azkar9@hotmail.co.uk'], 'end_time': 1731711600, 'start_time': 1731709800}, {'emails': ['azkar9@hotmail.co.uk'], 'end_time': 1731713400, 'start_time': 1731711600}, {'emails': ['azkar9@hotmail.co.uk'], 'end_time': 1731715200, 'start_time': 1731713400}]}}\n"
     ]
    }
   ],
   "source": [
    "\"\"\" GET SCHEDULING AVAILABILITY \"\"\"\n",
    "\n",
    "import requests\n",
    "\n",
    "url = \"https://api.us.nylas.com/v3/scheduling/availability\"\n",
    "\n",
    "# Parameters\n",
    "params = {\n",
    "    \"start_time\": 1731462263,\n",
    "    \"end_time\": 1731715199,\n",
    "    \"configuration_id\": f\"{request_id}\"  # Replace with your actual config ID\n",
    "}\n",
    "\n",
    "headers = {\n",
    "    \"Accept\": \"application/json, application/gzip\",\n",
    "    \"Content-Type\": \"application/json\"\n",
    "}\n",
    "\n",
    "response = requests.get(url, params=params, headers=headers)\n",
    "\n",
    "# Check if request was successful\n",
    "if response.status_code == 200:\n",
    "    availability_data = response.json()\n",
    "    print(availability_data)\n",
    "else:\n",
    "    print(f\"Error: {response.status_code}\")\n",
    "    print(response.text)"
   ]
  },
  {
   "cell_type": "code",
   "execution_count": 64,
   "metadata": {},
   "outputs": [],
   "source": [
    "from datetime import datetime\n",
    "\n",
    "def format_time_slots(time_slots):\n",
    "    formatted_slots = []\n",
    "    \n",
    "    def get_time_of_day(hour):\n",
    "        if 5 <= hour < 12:\n",
    "            return \"morning\"\n",
    "        elif 12 <= hour < 17:\n",
    "            return \"afternoon\"\n",
    "        elif 17 <= hour < 22:\n",
    "            return \"evening\"\n",
    "        else:\n",
    "            return \"night\"\n",
    "    \n",
    "    for slot in time_slots:\n",
    "        # Convert UNIX timestamps to datetime objects\n",
    "        start_time = datetime.fromtimestamp(slot['start_time'])\n",
    "        end_time = datetime.fromtimestamp(slot['end_time'])\n",
    "        \n",
    "        # Format the times in a human-readable way\n",
    "        formatted_slot = {\n",
    "            'date': start_time.strftime('%A, %B %d, %Y'),\n",
    "            'time': f'{start_time.strftime(\"%I:%M %p\")} - {end_time.strftime(\"%I:%M %p\")}',\n",
    "            'time_of_day': get_time_of_day(start_time.hour),\n",
    "            'emails': slot['emails']\n",
    "        }\n",
    "        formatted_slots.append(formatted_slot)\n",
    "    \n",
    "    return formatted_slots\n",
    "\n",
    "format_time_slots(response.json()['data']['time_slots'])"
   ]
  },
  {
   "cell_type": "code",
   "execution_count": 56,
   "metadata": {},
   "outputs": [
    {
     "name": "stdout",
     "output_type": "stream",
     "text": [
      "1731462263\n"
     ]
    }
   ],
   "source": [
    "import time\n",
    "current_unix = int(time.time())\n",
    "print(current_unix)"
   ]
  },
  {
   "cell_type": "code",
   "execution_count": 49,
   "metadata": {},
   "outputs": [
    {
     "name": "stdout",
     "output_type": "stream",
     "text": [
      "Unix timestamp for 2024-11-15 23:59:59: 1731715199\n"
     ]
    }
   ],
   "source": [
    "from datetime import datetime\n",
    "\n",
    "# Create datetime object for 15th November 2024 at 23:59:59\n",
    "date = datetime(2024, 11, 15, 23, 59, 59)\n",
    "\n",
    "# Convert to Unix timestamp (seconds since epoch)\n",
    "unix_timestamp = int(date.timestamp())\n",
    "\n",
    "print(f\"Unix timestamp for {date}: {unix_timestamp}\")"
   ]
  },
  {
   "cell_type": "code",
   "execution_count": 18,
   "metadata": {},
   "outputs": [],
   "source": []
  },
  {
   "cell_type": "code",
   "execution_count": null,
   "metadata": {},
   "outputs": [],
   "source": [
    "from services.knowledge_base.kb import get_kb_items\n",
    "\n",
    "response = await get_kb_items(\"user_2mmXezcGmjZCf88gT2v2waCBsXv\")"
   ]
  },
  {
   "cell_type": "code",
   "execution_count": null,
   "metadata": {},
   "outputs": [],
   "source": [
    "from itertools import groupby\n",
    "from operator import itemgetter\n",
    "\n",
    "def group_by_root_url(items):\n",
    "    if not isinstance(items, list):\n",
    "        raise TypeError(f\"Expected a list, got {type(items)}\")\n",
    "    \n",
    "    # Sort items by root_url\n",
    "    sorted_items = sorted(items, key=itemgetter('root_url'))\n",
    "    \n",
    "    # Group items and create consolidated records\n",
    "    result = []\n",
    "    for root_url, group in groupby(sorted_items, key=itemgetter('root_url')):\n",
    "        group_list = list(group)\n",
    "        \n",
    "        # Create consolidated record\n",
    "        consolidated = {\n",
    "            'title': root_url,  # Using root_url as title\n",
    "            'root_url': root_url,\n",
    "            'content': [{  # Group of URLs and their fields\n",
    "                'url': item.get('url', ''),\n",
    "                'id': item['id'],\n",
    "                'token_count': item.get('token_count', 0)\n",
    "            } for item in group_list],\n",
    "            'created_at': next(iter(group_list)).get('created_at', ''),  # Take created_at from first item\n",
    "            'data_type': 'web',\n",
    "            'user_id': group_list[0].get('user_id')  # Assuming user_id is consistent within group\n",
    "        }\n",
    "        result.append(consolidated)\n",
    "    \n",
    "    return result\n",
    "\n",
    "grouped = group_by_root_url(response)\n",
    "grouped"
   ]
  },
  {
   "cell_type": "code",
   "execution_count": null,
   "metadata": {},
   "outputs": [],
   "source": [
    "grouped[0]['content']"
   ]
  },
  {
   "cell_type": "code",
   "execution_count": null,
   "metadata": {},
   "outputs": [],
   "source": [
    "from services.chat.chat import similarity_search\n",
    "\n",
    "await similarity_search(\"what is the cost of an oil change\", table_names=[\"user_text_files\"])"
   ]
  },
  {
   "cell_type": "code",
   "execution_count": null,
   "metadata": {},
   "outputs": [],
   "source": []
  }
 ],
 "metadata": {
  "kernelspec": {
   "display_name": "venv",
   "language": "python",
   "name": "python3"
  },
  "language_info": {
   "codemirror_mode": {
    "name": "ipython",
    "version": 3
   },
   "file_extension": ".py",
   "mimetype": "text/x-python",
   "name": "python",
   "nbconvert_exporter": "python",
   "pygments_lexer": "ipython3",
   "version": "3.12.6"
  }
 },
 "nbformat": 4,
 "nbformat_minor": 2
}
