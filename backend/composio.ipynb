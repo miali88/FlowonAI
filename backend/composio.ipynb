{
 "cells": [
  {
   "cell_type": "code",
   "execution_count": 6,
   "metadata": {},
   "outputs": [],
   "source": [
    "from datetime import datetime\n",
    "import requests, json, os\n",
    "from typing import Dict, Annotated, Optional, List, Union\n",
    "from dotenv import load_dotenv\n",
    "load_dotenv()\n",
    "\n",
    "from services.twilio import client\n",
    "from services.cache import get_agent_metadata, get_all_agents\n",
    "from services.chat.chat import similarity_search, get_embedding\n",
    "from services.db.supabase_services import supabase_client\n",
    "supabase = supabase_client()\n",
    "\n",
    "from app.core.config import settings\n",
    "\n",
    "from composio import Composio\n",
    "\n",
    "# Initialize the Composio client\n",
    "client = Composio()"
   ]
  },
  {
   "cell_type": "code",
   "execution_count": null,
   "metadata": {},
   "outputs": [],
   "source": [
    "\"\"\" Get all connected apps and accounts \"\"\"\n",
    "\"\"\" store connection ID to each user_id in supabase \"\"\"\n",
    "\n",
    "\n",
    "# Get the list of integrations (connected apps)\n",
    "integrations = client.integrations.get()\n",
    "print(\"Connected Apps:\")\n",
    "for integration in integrations:\n",
    "    print(f\"• App: {integration.appName}\")\n",
    "    print(f\"  ID: {integration.id}\")\n",
    "\n",
    "# Get the list of connected accounts (existing connections)\n",
    "connected_accounts = client.connected_accounts.get()\n",
    "print(\"\\nExisting Connections:\")\n",
    "for account in connected_accounts:\n",
    "    print(f\"• ID: {account.id}\")\n",
    "    print(f\"  App: {account.appName}\")\n",
    "    print(f\"  Status: {account.status}\")\n"
   ]
  },
  {
   "cell_type": "code",
   "execution_count": null,
   "metadata": {},
   "outputs": [],
   "source": [
    "from services.composio import get_calendar_slots\n",
    "\n",
    "get_calendar_slots(\"user_2mmXezcGmjZCf88gT2v2waCBsXv\")"
   ]
  },
  {
   "cell_type": "code",
   "execution_count": 75,
   "metadata": {},
   "outputs": [],
   "source": [
    "from composio import Composio\n",
    "\n",
    "# Initialize the Composio client\n",
    "composio_client = Composio()\n",
    "\n",
    "# Create a new entity with a custom ID\n",
    "new_entity = composio_client.get_entity(id=\"user_2mmXezcGmjZCf88gT2v2waCBsXv\")\n"
   ]
  },
  {
   "cell_type": "code",
   "execution_count": null,
   "metadata": {},
   "outputs": [],
   "source": [
    "\"\"\" checks if entity already exists \"\"\"\n",
    "\n",
    "existing_entity = composio_client.get_entity(id=\"user_2mmXezcGmjZCf88gT2v2waCBsXv\")\n",
    "existing_connections = existing_entity.get_connections()\n",
    "\n",
    "if existing_connections:\n",
    "    print(\"Entity already exists with connections:\", existing_connections)\n",
    "else:\n",
    "    print(\"Entity is newly created or has no connections\")\n",
    "\n",
    "\n",
    "# # Check for connected accounts for the new entity\n",
    "# try:\n",
    "#     connected_account = new_entity.get_connection(app=\"outlook\")\n",
    "#     print(f\"Connected Outlook account: {connected_account}\")\n",
    "# except Exception as e:\n",
    "#     print(\"No connected Slack account found\")\n",
    "\n",
    "# # Perform actions using the new entity\n",
    "# actions = new_entity.get_tools(app_name=\"github\")\n",
    "\n",
    "existing_connections"
   ]
  },
  {
   "cell_type": "markdown",
   "metadata": {},
   "source": [
    "### Outlook"
   ]
  },
  {
   "cell_type": "code",
   "execution_count": null,
   "metadata": {},
   "outputs": [],
   "source": [
    "\"\"\" this function will be triggered in endpoint /composion/new_connection \"\"\"\n",
    "\"\"\" then to store the connection ID to the user_id in supabase \"\"\"\n",
    "\"\"\" frontend to have button to \"generate auth link\", response from this endpoint will be the redirect url \"\"\"\n",
    "### entity ID will be created for each user. \n",
    "\"\"\" {\"app\": \"outlook\", \"connectedAccountId\" : \"xxx\", \"client_id\" : \"xxx\" } \"\"\"\n",
    "\n",
    "\"\"\"Auth\"\"\"\n",
    "from composio import ComposioToolSet, App\n",
    "from composio import Composio\n",
    "from composio_openai import ComposioToolSet, Action\n",
    "from openai import OpenAI\n",
    "\n",
    "# Initialize the Composio client\n",
    "composio_client = Composio()\n",
    "\n",
    "# # Create a new entity with a custom ID\n",
    "# new_entity = composio_client.get_entity(id=\"user_2mmXezcGmjZCf88gT2v2waCBsXv\")\n",
    "\n",
    "toolset = ComposioToolSet()\n",
    "entity = toolset.get_entity(id=\"user_2mmXezcGmjZCf88gT2v2waCBsXvww\")\n",
    "\n",
    "# request = entity.initiate_connection(App.OUTLOOK)\n",
    "# ### background task save request.connectedAccountId to integrations table in supabase \n",
    "# ### then return the below redirect url to frontend\n",
    "# print(f\"Open this URL to authenticate: {request.redirectUrl}\")\n"
   ]
  },
  {
   "cell_type": "code",
   "execution_count": null,
   "metadata": {},
   "outputs": [],
   "source": [
    "tools = toolset.get_tools(actions=[Action.OUTLOOK_LIST_EVENTS])\n",
    "\n",
    "tools"
   ]
  },
  {
   "cell_type": "code",
   "execution_count": null,
   "metadata": {},
   "outputs": [],
   "source": [
    "tools = toolset.get_tools(apps=[App.OUTLOOK])\n",
    "\n",
    "tools"
   ]
  },
  {
   "cell_type": "code",
   "execution_count": 62,
   "metadata": {},
   "outputs": [],
   "source": [
    "openai_client = OpenAI()\n",
    "\n",
    "today = datetime.now().strftime(\"%Y-%m-%d\")\n",
    "task = f\"get calendar slots for next week, today is {today}\"\n",
    "\n",
    "# Update the tools to include search capability\n",
    "tools = toolset.get_tools(actions=[\n",
    "    Action.OUTLOOK_OUTLOOK_UPDATE_CALENDAR_EVENT])\n",
    "\n",
    "\n",
    "# First, let's search for your database\n",
    "search_response = openai_client.chat.completions.create(\n",
    "    model=\"gpt-4o\",\n",
    "    tools=tools,\n",
    "    messages=[\n",
    "        {\"role\": \"system\", \"content\": \"You are a helpful assistant.\"},\n",
    "        {\"role\": \"user\", \"content\": \"Search for a database called DevOps DB in my Notion workspace\"},\n",
    "    ],\n",
    ")\n",
    "search_result = toolset.handle_tool_calls(search_response)\n",
    "search_result\n"
   ]
  },
  {
   "cell_type": "code",
   "execution_count": null,
   "metadata": {},
   "outputs": [],
   "source": [
    "search_result"
   ]
  },
  {
   "cell_type": "markdown",
   "metadata": {},
   "source": [
    "### Shopify"
   ]
  },
  {
   "cell_type": "code",
   "execution_count": null,
   "metadata": {},
   "outputs": [],
   "source": [
    "\"\"\"Auth\"\"\"\n",
    "\"\"\" shopify not working :(\"\"\"\n",
    "\n",
    "from composio import ComposioToolSet, Composio, App\n",
    "from dotenv import load_dotenv\n",
    "load_dotenv()\n",
    "\n",
    "client = Composio()\n",
    "toolset = ComposioToolSet()\n",
    "entity = toolset.get_entity()\n",
    "request = entity.initiate_connection(App.SHOPIFY, connected_account_params={\"shop\": \"fdi1gh-xg\"})\n",
    "\n",
    "print(f\"Open this URL to authenticate: {request.redirectUrl}\")\n"
   ]
  },
  {
   "cell_type": "code",
   "execution_count": null,
   "metadata": {},
   "outputs": [],
   "source": []
  },
  {
   "cell_type": "markdown",
   "metadata": {},
   "source": [
    "### Notion"
   ]
  },
  {
   "cell_type": "code",
   "execution_count": null,
   "metadata": {},
   "outputs": [],
   "source": [
    "\"\"\"Auth\"\"\"\n",
    "\n",
    "from composio import ComposioToolSet, App\n",
    "\n",
    "toolset = ComposioToolSet(entity_id=\"Jessica\")\n",
    "entity = toolset.get_entity()\n",
    "request = entity.initiate_connection(App.NOTION)\n",
    "\n",
    "print(f\"Open this URL to authenticate: {request.redirectUrl}\")\n"
   ]
  },
  {
   "cell_type": "code",
   "execution_count": 8,
   "metadata": {},
   "outputs": [],
   "source": [
    "from composio_openai import ComposioToolSet, Action\n",
    "from openai import OpenAI\n",
    "\n",
    "openai_client = OpenAI()\n",
    "composio_toolset = ComposioToolSet(entity_id=\"Jessica\")"
   ]
  },
  {
   "cell_type": "code",
   "execution_count": null,
   "metadata": {},
   "outputs": [],
   "source": [
    "today = datetime.now().strftime(\"%Y-%m-%d\")\n",
    "task = \"get the DB id for DevOps DB\"\n",
    "\n",
    "# Update the tools to include search capability\n",
    "tools = composio_toolset.get_tools(actions=[\n",
    "    Action.NOTION_SEARCH_NOTION_PAGE])\n",
    "\n",
    "# First, let's search for your database\n",
    "search_response = openai_client.chat.completions.create(\n",
    "    model=\"gpt-4o\",\n",
    "    tools=tools,\n",
    "    messages=[\n",
    "        {\"role\": \"system\", \"content\": \"You are a helpful assistant.\"},\n",
    "        {\"role\": \"user\", \"content\": \"Search for a database called DevOps DB in my Notion workspace\"},\n",
    "    ],\n",
    ")\n",
    "search_result = composio_toolset.handle_tool_calls(search_response)\n",
    "\n",
    "db_id = search_result[0]['data']['response_data']['results'][0]['id']\n",
    "print(\"DB ID:\", db_id)\n",
    "\n",
    "task = f\"get the page to do's in DB with id {db_id}\"\n",
    "\n",
    "# Update the tools to include search capability\n",
    "tools = composio_toolset.get_tools(actions=[\n",
    "    Action.NOTION_QUERY_DATABASE])\n",
    "\n",
    "search_response = openai_client.chat.completions.create(\n",
    "    model=\"gpt-4o\",\n",
    "    tools=tools,\n",
    "    messages=[\n",
    "        {\"role\": \"system\", \"content\": \"You are a helpful assistant.\"},\n",
    "        {\"role\": \"user\", \"content\": \"Search for a database called DevOps DB in my Notion workspace\"},\n",
    "    ],\n",
    ")\n",
    "search_result = composio_toolset.handle_tool_calls(search_response)\n",
    "\n"
   ]
  },
  {
   "cell_type": "code",
   "execution_count": null,
   "metadata": {},
   "outputs": [],
   "source": [
    "print(search_result)\n"
   ]
  },
  {
   "cell_type": "markdown",
   "metadata": {},
   "source": [
    "### Google Calendar"
   ]
  },
  {
   "cell_type": "code",
   "execution_count": null,
   "metadata": {},
   "outputs": [],
   "source": [
    "from composio_openai import ComposioToolSet, Action\n",
    "from composio import Composio\n",
    "from openai import OpenAI\n",
    "from datetime import datetime \n",
    "\n",
    "from dotenv import load_dotenv\n",
    "load_dotenv()\n",
    "\n",
    "client = Composio()\n",
    "openai_client = OpenAI()\n",
    "composio_toolset = ComposioToolSet(entity_id=\"user_2mmXezcGmjZCf88gT2v2waCBsXv\")\n",
    "\n",
    "GOOGLECALENDAR_CREATE_EVENT: 'Action'\n",
    "GOOGLECALENDAR_DELETE_EVENT: 'Action'\n",
    "GOOGLECALENDAR_DUPLICATE_CALENDAR: 'Action'\n",
    "GOOGLECALENDAR_FIND_EVENT: 'Action'\n",
    "GOOGLECALENDAR_FIND_FREE_SLOTS: 'Action'\n",
    "GOOGLECALENDAR_GET_CALENDAR: 'Action'\n",
    "GOOGLECALENDAR_GET_CURRENT_DATE_TIME: 'Action'\n",
    "GOOGLECALENDAR_LIST_CALENDARS: 'Action'\n",
    "GOOGLECALENDAR_PATCH_CALENDAR: 'Action'\n",
    "GOOGLECALENDAR_QUICK_ADD: 'Action'\n",
    "GOOGLECALENDAR_REMOVE_ATTENDEE: 'Action'\n",
    "GOOGLECALENDAR_UPDATE_EVENT: 'Action'\n",
    "\n",
    "# tools = composio_toolset.get_tools(actions=[Action.GOOGLECALENDAR_LIST_CALENDARS])\n",
    "# task = \"find free slots for next week\"\n",
    "\n",
    "# tools = composio_toolset.get_tools(actions=[Action.GOOGLECALENDAR_GET_CALENDAR])\n",
    "# task = \"fetch calendar for id michael@flowon.ai\"\n",
    "\n",
    "tools = composio_toolset.get_tools(actions=[Action.GOOGLECALENDAR_FIND_FREE_SLOTS])\n",
    "today = datetime.now().strftime(\"%Y-%m-%d\")\n",
    "\n",
    "task = f\"Search for free slots for the next 14 days for id michael@flowon.ai. Today's date is {today}.\"\n",
    "\n",
    "response = openai_client.chat.completions.create(\n",
    "    model=\"gpt-4o\",\n",
    "    tools=tools,\n",
    "    messages=[\n",
    "        {\"role\": \"system\", \"content\": f\"You are a helpful assistant. Today's date is {today}.\"},\n",
    "        {\"role\": \"user\", \"content\": task},\n",
    "    ],\n",
    ")\n",
    "\n",
    "result = composio_toolset.handle_tool_calls(response)"
   ]
  },
  {
   "cell_type": "code",
   "execution_count": null,
   "metadata": {},
   "outputs": [],
   "source": [
    "from services.composio import get_calendar_slots, find_free_slots\n",
    "\n",
    "await get_calendar_slots(\"user_2mmXezcGmjZCf88gT2v2waCBsXv\",\"outlook\")\n",
    "\n"
   ]
  },
  {
   "cell_type": "code",
   "execution_count": 2,
   "metadata": {},
   "outputs": [
    {
     "ename": "NameError",
     "evalue": "name 'composio_toolset' is not defined",
     "output_type": "error",
     "traceback": [
      "\u001b[0;31m---------------------------------------------------------------------------\u001b[0m",
      "\u001b[0;31mNameError\u001b[0m                                 Traceback (most recent call last)",
      "Cell \u001b[0;32mIn[2], line 1\u001b[0m\n\u001b[0;32m----> 1\u001b[0m tools \u001b[38;5;241m=\u001b[39m \u001b[43mcomposio_toolset\u001b[49m\u001b[38;5;241m.\u001b[39mget_tools(actions\u001b[38;5;241m=\u001b[39m[Action\u001b[38;5;241m.\u001b[39mGOOGLECALENDAR_CREATE_EVENT])\n\u001b[1;32m      3\u001b[0m task \u001b[38;5;241m=\u001b[39m \u001b[38;5;124m\"\u001b[39m\u001b[38;5;124mCheckup appointment on Friday, November 29th, 2024 at 2:30 PM\u001b[39m\u001b[38;5;124m'\u001b[39m\u001b[38;5;124mCreate\u001b[39m\u001b[38;5;124m\"\u001b[39m\n\u001b[1;32m      5\u001b[0m today \u001b[38;5;241m=\u001b[39m datetime\u001b[38;5;241m.\u001b[39mnow()\u001b[38;5;241m.\u001b[39mstrftime(\u001b[38;5;124m\"\u001b[39m\u001b[38;5;124m%\u001b[39m\u001b[38;5;124mY-\u001b[39m\u001b[38;5;124m%\u001b[39m\u001b[38;5;124mm-\u001b[39m\u001b[38;5;132;01m%d\u001b[39;00m\u001b[38;5;124m\"\u001b[39m)\n",
      "\u001b[0;31mNameError\u001b[0m: name 'composio_toolset' is not defined"
     ]
    }
   ],
   "source": [
    "\n",
    "tools = composio_toolset.get_tools(actions=[Action.GOOGLECALENDAR_CREATE_EVENT])\n",
    "\n",
    "task = \"Checkup appointment on Friday, November 29th, 2024 at 2:30 PM'Create\"\n",
    "\n",
    "today = datetime.now().strftime(\"%Y-%m-%d\")\n",
    "\n",
    "response = openai_client.chat.completions.create(\n",
    "    model=\"gpt-4-turbo-preview\",\n",
    "    tools=tools,\n",
    "    messages=[\n",
    "        {\"role\": \"system\", \"content\": f\"You are a helpful assistant. Today's date is {today}.\"},\n",
    "        {\"role\": \"user\", \"content\": task},\n",
    "    ],\n",
    ")\n",
    "result = composio_toolset.handle_tool_calls(response)\n",
    "print(result)\n"
   ]
  },
  {
   "cell_type": "code",
   "execution_count": 4,
   "metadata": {},
   "outputs": [],
   "source": [
    "from services.composio import book_appointment_composio\n",
    "import logging\n",
    "\n",
    "logger = logging.getLogger(__name__)\n"
   ]
  },
  {
   "cell_type": "code",
   "execution_count": 13,
   "metadata": {},
   "outputs": [
    {
     "name": "stderr",
     "output_type": "stream",
     "text": [
      "[2024-11-27 22:17:04,192][INFO] Logging is set to INFO, use `logging_level` argument or `COMPOSIO_LOGGING_LEVEL` change this\n"
     ]
    },
    {
     "name": "stdout",
     "output_type": "stream",
     "text": [
      "func book_appointment_composio: booking\n"
     ]
    },
    {
     "name": "stderr",
     "output_type": "stream",
     "text": [
      "[2024-11-27 22:17:07,242][INFO] Executing `GOOGLECALENDAR_CREATE_EVENT` with params={'summary': 'Checkup appointment', 'start_datetime': '2024-11-29T14:30:00', 'event_duration': '1h', 'calendar_id': 'primary'} and metadata={} connected_account_id=None\n",
      "[2024-11-27 22:17:08,924][INFO] Got response={'successfull': True, 'data': {'response_data': {'kind': 'calendar#event', 'etag': '\"3465491657466000\"', 'id': 'l5i36jcuk7ulavd19grp9ktap4', 'status': 'confirmed', 'htmlLink': 'https://www.google.com/calendar/event?eid=bDVpMzZqY3VrN3VsYXZkMTln...\n"
     ]
    },
    {
     "data": {
      "text/plain": [
       "[{'successfull': True,\n",
       "  'data': {'response_data': {'kind': 'calendar#event',\n",
       "    'etag': '\"3465491657466000\"',\n",
       "    'id': 'l5i36jcuk7ulavd19grp9ktap4',\n",
       "    'status': 'confirmed',\n",
       "    'htmlLink': 'https://www.google.com/calendar/event?eid=bDVpMzZqY3VrN3VsYXZkMTlncnA5a3RhcDQgbWljaGFlbEBmbG93b24uYWk',\n",
       "    'created': '2024-11-27T22:17:08.000Z',\n",
       "    'updated': '2024-11-27T22:17:08.733Z',\n",
       "    'summary': 'Checkup appointment',\n",
       "    'creator': {'email': 'michael@flowon.ai', 'self': True},\n",
       "    'organizer': {'email': 'michael@flowon.ai', 'self': True},\n",
       "    'start': {'dateTime': '2024-11-29T14:30:00Z', 'timeZone': 'UTC'},\n",
       "    'end': {'dateTime': '2024-11-29T15:30:00Z', 'timeZone': 'UTC'},\n",
       "    'iCalUID': 'l5i36jcuk7ulavd19grp9ktap4@google.com',\n",
       "    'sequence': 0,\n",
       "    'reminders': {'useDefault': True},\n",
       "    'eventType': 'default'}},\n",
       "  'error': None}]"
      ]
     },
     "execution_count": 13,
     "metadata": {},
     "output_type": "execute_result"
    }
   ],
   "source": [
    "async def book_appointment_composio(appointment_details: str, user_id: str) -> str:\n",
    "    logger.info(f\"Starting appointment booking for user_id: {user_id}\")\n",
    "    print(f\"func book_appointment_composio: booking\")\n",
    "\n",
    "    entity_id = user_id\n",
    "    openai_client = OpenAI()\n",
    "    today = datetime.now().strftime(\"%Y-%m-%d\")\n",
    "    current_time = datetime.now().strftime(\"%H:%M\")\n",
    "\n",
    "    logger.debug(f\"Initializing ComposioToolSet for entity_id: {entity_id}\")\n",
    "    composio_toolset = ComposioToolSet(entity_id=entity_id)\n",
    "\n",
    "    logger.debug(\"Getting calendar tools\")\n",
    "    tools = composio_toolset.get_tools(actions=[Action.GOOGLECALENDAR_CREATE_EVENT])\n",
    "\n",
    "    task = f\"Book an appointment on the user's calendar with the following details: {appointment_details}. Today's date is {today}. Current time is {current_time}.\"\n",
    "    logger.debug(f\"Created task: {task}\")\n",
    "\n",
    "    try:\n",
    "        logger.debug(\"Making OpenAI API call\")\n",
    "        response = openai_client.chat.completions.create(\n",
    "            model=\"gpt-4o\",\n",
    "            tools=tools,\n",
    "            messages=[\n",
    "                {\"role\": \"system\", \"content\": f\"You are a helpful assistant helping to manage the user's calendar. Today's date is {today}. Current time is {current_time}.\"},\n",
    "                {\"role\": \"user\", \"content\": task},\n",
    "            ],\n",
    "        )\n",
    "        logger.debug(\"OpenAI API call successful\")\n",
    "        \n",
    "        logger.debug(\"Handling tool calls\")\n",
    "        result = composio_toolset.handle_tool_calls(response)\n",
    "        \n",
    "        if result[0]['successfull'] == 'True':\n",
    "            logger.info(\"Event created successfully\")\n",
    "            print(\"Event created successfully\")\n",
    "            return \"Appointment booked successfully.\"\n",
    "        else:\n",
    "            logger.error(f\"Event creation failed: {result[0]['error']}\")\n",
    "            print(\"Event creation failed\")\n",
    "            print(result[0]['error'])\n",
    "            return \"Appointment booking failed.\"\n",
    "    except Exception as e:\n",
    "        logger.error(f\"Unexpected error during appointment booking: {str(e)}\")\n",
    "        return \"Appointment booking failed due to an unexpected error.\"\n",
    "\n",
    "results = await book_appointment_composio(\"Checkup appointment on Friday, November 29th, 2024 at 2:30 PM\", \"user_2mmXezcGmjZCf88gT2v2waCBsXv\")\n",
    "results"
   ]
  },
  {
   "cell_type": "code",
   "execution_count": 17,
   "metadata": {},
   "outputs": [
    {
     "data": {
      "text/plain": [
       "True"
      ]
     },
     "execution_count": 17,
     "metadata": {},
     "output_type": "execute_result"
    }
   ],
   "source": [
    "results[0]['successfull']"
   ]
  }
 ],
 "metadata": {
  "kernelspec": {
   "display_name": "venv",
   "language": "python",
   "name": "python3"
  },
  "language_info": {
   "codemirror_mode": {
    "name": "ipython",
    "version": 3
   },
   "file_extension": ".py",
   "mimetype": "text/x-python",
   "name": "python",
   "nbconvert_exporter": "python",
   "pygments_lexer": "ipython3",
   "version": "3.12.7"
  }
 },
 "nbformat": 4,
 "nbformat_minor": 2
}
