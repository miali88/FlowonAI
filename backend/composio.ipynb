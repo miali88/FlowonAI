{
 "cells": [
  {
   "cell_type": "code",
   "execution_count": 1,
   "metadata": {},
   "outputs": [],
   "source": [
    "from datetime import datetime\n",
    "import requests, json, os\n",
    "from typing import Dict, Annotated, Optional, List, Union\n",
    "from dotenv import load_dotenv\n",
    "load_dotenv()\n",
    "\n",
    "from services.twilio import client\n",
    "from services.cache import get_agent_metadata, get_all_agents\n",
    "from services.chat.chat import similarity_search, get_embedding\n",
    "from services.db.supabase_services import supabase_client\n",
    "supabase = supabase_client()\n",
    "\n",
    "from app.core.config import settings\n",
    "\n",
    "from composio import Composio\n",
    "\n",
    "# Initialize the Composio client\n",
    "client = Composio()"
   ]
  },
  {
   "cell_type": "code",
   "execution_count": null,
   "metadata": {},
   "outputs": [],
   "source": [
    "\"\"\" Get all connected apps and accounts \"\"\"\n",
    "\"\"\" store connection ID to each user_id in supabase \"\"\"\n",
    "\n",
    "\n",
    "# Get the list of integrations (connected apps)\n",
    "integrations = client.integrations.get()\n",
    "print(\"Connected Apps:\")\n",
    "for integration in integrations:\n",
    "    print(f\"• App: {integration.appName}\")\n",
    "    print(f\"  ID: {integration.id}\")\n",
    "\n",
    "# Get the list of connected accounts (existing connections)\n",
    "connected_accounts = client.connected_accounts.get()\n",
    "print(\"\\nExisting Connections:\")\n",
    "for account in connected_accounts:\n",
    "    print(f\"• ID: {account.id}\")\n",
    "    print(f\"  App: {account.appName}\")\n",
    "    print(f\"  Status: {account.status}\")\n"
   ]
  },
  {
   "cell_type": "code",
   "execution_count": null,
   "metadata": {},
   "outputs": [],
   "source": [
    "from services.composio import get_calendar_slots\n",
    "\n",
    "get_calendar_slots(\"user_2mmXezcGmjZCf88gT2v2waCBsXv\")"
   ]
  },
  {
   "cell_type": "code",
   "execution_count": 75,
   "metadata": {},
   "outputs": [],
   "source": [
    "from composio import Composio\n",
    "\n",
    "# Initialize the Composio client\n",
    "composio_client = Composio()\n",
    "\n",
    "# Create a new entity with a custom ID\n",
    "new_entity = composio_client.get_entity(id=\"user_2mmXezcGmjZCf88gT2v2waCBsXv\")\n"
   ]
  },
  {
   "cell_type": "code",
   "execution_count": null,
   "metadata": {},
   "outputs": [],
   "source": [
    "\"\"\" checks if entity already exists \"\"\"\n",
    "\n",
    "existing_entity = composio_client.get_entity(id=\"user_2mmXezcGmjZCf88gT2v2waCBsXv\")\n",
    "existing_connections = existing_entity.get_connections()\n",
    "\n",
    "if existing_connections:\n",
    "    print(\"Entity already exists with connections:\", existing_connections)\n",
    "else:\n",
    "    print(\"Entity is newly created or has no connections\")\n",
    "\n",
    "\n",
    "# # Check for connected accounts for the new entity\n",
    "# try:\n",
    "#     connected_account = new_entity.get_connection(app=\"outlook\")\n",
    "#     print(f\"Connected Outlook account: {connected_account}\")\n",
    "# except Exception as e:\n",
    "#     print(\"No connected Slack account found\")\n",
    "\n",
    "# # Perform actions using the new entity\n",
    "# actions = new_entity.get_tools(app_name=\"github\")\n",
    "\n",
    "existing_connections"
   ]
  },
  {
   "cell_type": "markdown",
   "metadata": {},
   "source": [
    "### Calendar Management"
   ]
  },
  {
   "cell_type": "code",
   "execution_count": null,
   "metadata": {},
   "outputs": [],
   "source": [
    "\"\"\" this function will be triggered in endpoint /composion/new_connection \"\"\"\n",
    "\"\"\" then to store the connection ID to the user_id in supabase \"\"\"\n",
    "\"\"\" frontend to have button to \"generate auth link\", response from this endpoint will be the redirect url \"\"\"\n",
    "### entity ID will be created for each user. \n",
    "\"\"\" {\"app\": \"outlook\", \"connectedAccountId\" : \"xxx\", \"client_id\" : \"xxx\" } \"\"\"\n",
    "\n",
    "\"\"\"Auth\"\"\"\n",
    "from composio import ComposioToolSet, App\n",
    "from composio import Composio\n",
    "from composio_openai import ComposioToolSet, Action\n",
    "from openai import OpenAI\n",
    "\n",
    "# Initialize the Composio client\n",
    "composio_client = Composio()\n",
    "\n",
    "# # Create a new entity with a custom ID\n",
    "# new_entity = composio_client.get_entity(id=\"user_2mmXezcGmjZCf88gT2v2waCBsXv\")\n",
    "\n",
    "toolset = ComposioToolSet()\n",
    "entity = toolset.get_entity(id=\"user_2mmXezcGmjZCf88gT2v2waCBsXvww\")\n",
    "\n",
    "# request = entity.initiate_connection(App.OUTLOOK)\n",
    "# ### background task save request.connectedAccountId to integrations table in supabase \n",
    "# ### then return the below redirect url to frontend\n",
    "# print(f\"Open this URL to authenticate: {request.redirectUrl}\")\n"
   ]
  },
  {
   "cell_type": "code",
   "execution_count": null,
   "metadata": {},
   "outputs": [],
   "source": [
    "tools = toolset.get_tools(actions=[Action.OUTLOOK_LIST_EVENTS])\n",
    "\n",
    "tools"
   ]
  },
  {
   "cell_type": "code",
   "execution_count": null,
   "metadata": {},
   "outputs": [],
   "source": [
    "tools = toolset.get_tools(apps=[App.OUTLOOK])\n",
    "\n",
    "tools"
   ]
  },
  {
   "cell_type": "code",
   "execution_count": 62,
   "metadata": {},
   "outputs": [],
   "source": [
    "openai_client = OpenAI()\n",
    "\n",
    "today = datetime.now().strftime(\"%Y-%m-%d\")\n",
    "task = f\"get calendar slots for next week, today is {today}\"\n",
    "\n",
    "# Update the tools to include search capability\n",
    "tools = toolset.get_tools(actions=[\n",
    "    Action.OUTLOOK_OUTLOOK_UPDATE_CALENDAR_EVENT])\n",
    "\n",
    "\n",
    "# First, let's search for your database\n",
    "search_response = openai_client.chat.completions.create(\n",
    "    model=\"gpt-4o\",\n",
    "    tools=tools,\n",
    "    messages=[\n",
    "        {\"role\": \"system\", \"content\": \"You are a helpful assistant.\"},\n",
    "        {\"role\": \"user\", \"content\": \"Search for a database called DevOps DB in my Notion workspace\"},\n",
    "    ],\n",
    ")\n",
    "search_result = toolset.handle_tool_calls(search_response)\n",
    "search_result\n"
   ]
  },
  {
   "cell_type": "code",
   "execution_count": null,
   "metadata": {},
   "outputs": [],
   "source": [
    "search_result"
   ]
  },
  {
   "cell_type": "markdown",
   "metadata": {},
   "source": [
    "### Shopify"
   ]
  },
  {
   "cell_type": "code",
   "execution_count": null,
   "metadata": {},
   "outputs": [],
   "source": [
    "\"\"\"Auth\"\"\"\n",
    "\"\"\" shopify not working :(\"\"\"\n",
    "\n",
    "from composio import ComposioToolSet, App\n",
    "\n",
    "toolset = ComposioToolSet()\n",
    "entity = toolset.get_entity()\n",
    "request = entity.initiate_connection(App.SHOPIFY)\n",
    "\n",
    "print(f\"Open this URL to authenticate: {request.redirectUrl}\")\n"
   ]
  },
  {
   "cell_type": "code",
   "execution_count": null,
   "metadata": {},
   "outputs": [],
   "source": []
  },
  {
   "cell_type": "markdown",
   "metadata": {},
   "source": [
    "### Notion"
   ]
  },
  {
   "cell_type": "code",
   "execution_count": null,
   "metadata": {},
   "outputs": [],
   "source": [
    "\"\"\"Auth\"\"\"\n",
    "\n",
    "from composio import ComposioToolSet, App\n",
    "\n",
    "toolset = ComposioToolSet(entity_id=\"Jessica\")\n",
    "entity = toolset.get_entity()\n",
    "request = entity.initiate_connection(App.NOTION)\n",
    "\n",
    "print(f\"Open this URL to authenticate: {request.redirectUrl}\")\n"
   ]
  },
  {
   "cell_type": "code",
   "execution_count": null,
   "metadata": {},
   "outputs": [],
   "source": [
    "from composio_openai import ComposioToolSet, Action\n",
    "from openai import OpenAI\n",
    "\n",
    "openai_client = OpenAI()\n",
    "composio_toolset = ComposioToolSet(entity_id=\"Jessica\")"
   ]
  },
  {
   "cell_type": "code",
   "execution_count": null,
   "metadata": {},
   "outputs": [],
   "source": [
    "today = datetime.now().strftime(\"%Y-%m-%d\")\n",
    "task = \"get the DB id for DevOps DB\"\n",
    "\n",
    "# Update the tools to include search capability\n",
    "tools = composio_toolset.get_tools(actions=[\n",
    "    Action.NOTION_SEARCH_NOTION_PAGE])\n",
    "\n",
    "# First, let's search for your database\n",
    "search_response = openai_client.chat.completions.create(\n",
    "    model=\"gpt-4o\",\n",
    "    tools=tools,\n",
    "    messages=[\n",
    "        {\"role\": \"system\", \"content\": \"You are a helpful assistant.\"},\n",
    "        {\"role\": \"user\", \"content\": \"Search for a database called DevOps DB in my Notion workspace\"},\n",
    "    ],\n",
    ")\n",
    "search_result = composio_toolset.handle_tool_calls(search_response)\n",
    "\n",
    "db_id = search_result[0]['data']['response_data']['results'][0]['id']\n",
    "print(\"DB ID:\", db_id)\n",
    "\n",
    "task = f\"get the page to do's in DB with id {db_id}\"\n",
    "\n",
    "# Update the tools to include search capability\n",
    "tools = composio_toolset.get_tools(actions=[\n",
    "    Action.NOTION_QUERY_DATABASE])\n",
    "\n",
    "search_response = openai_client.chat.completions.create(\n",
    "    model=\"gpt-4o\",\n",
    "    tools=tools,\n",
    "    messages=[\n",
    "        {\"role\": \"system\", \"content\": \"You are a helpful assistant.\"},\n",
    "        {\"role\": \"user\", \"content\": \"Search for a database called DevOps DB in my Notion workspace\"},\n",
    "    ],\n",
    ")\n",
    "search_result = composio_toolset.handle_tool_calls(search_response)\n",
    "\n"
   ]
  },
  {
   "cell_type": "code",
   "execution_count": null,
   "metadata": {},
   "outputs": [],
   "source": [
    "print(search_result)\n"
   ]
  },
  {
   "cell_type": "markdown",
   "metadata": {},
   "source": [
    "### Google Calendar"
   ]
  },
  {
   "cell_type": "code",
   "execution_count": 2,
   "metadata": {},
   "outputs": [
    {
     "name": "stderr",
     "output_type": "stream",
     "text": [
      "[2024-11-25 20:11:49,245][INFO] Logging is set to INFO, use `logging_level` argument or `COMPOSIO_LOGGING_LEVEL` change this\n",
      "[2024-11-25 20:11:55,485][INFO] Executing `GOOGLECALENDAR_FIND_FREE_SLOTS` with params={'time_min': '2024,11,25,00,00,00', 'time_max': '2024,12,09,00,00,00', 'items': ['michael@flowon.ai'], 'timezone': 'UTC'} and metadata={} connected_account_id=None\n",
      "[2024-11-25 20:11:57,094][INFO] Got response={'successfull': True, 'data': {'response_data': {'kind': 'calendar#freeBusy', 'timeMin': '2024-11-25T00:00:00.000Z', 'timeMax': '2024-12-09T00:00:00.000Z', 'calendars': {'michael@flowon.ai': {'busy': [{'start': '2024-11-25T12:30:00Z', 'end': '...\n"
     ]
    }
   ],
   "source": [
    "from composio_openai import ComposioToolSet, Action\n",
    "from openai import OpenAI\n",
    "\n",
    "openai_client = OpenAI()\n",
    "composio_toolset = ComposioToolSet(entity_id=\"user_2mmXezcGmjZCf88gT2v2waCBsXv\")\n",
    "\n",
    "\n",
    "GOOGLECALENDAR_CREATE_EVENT: 'Action'\n",
    "GOOGLECALENDAR_DELETE_EVENT: 'Action'\n",
    "GOOGLECALENDAR_DUPLICATE_CALENDAR: 'Action'\n",
    "GOOGLECALENDAR_FIND_EVENT: 'Action'\n",
    "GOOGLECALENDAR_FIND_FREE_SLOTS: 'Action'\n",
    "GOOGLECALENDAR_GET_CALENDAR: 'Action'\n",
    "GOOGLECALENDAR_GET_CURRENT_DATE_TIME: 'Action'\n",
    "GOOGLECALENDAR_LIST_CALENDARS: 'Action'\n",
    "GOOGLECALENDAR_PATCH_CALENDAR: 'Action'\n",
    "GOOGLECALENDAR_QUICK_ADD: 'Action'\n",
    "GOOGLECALENDAR_REMOVE_ATTENDEE: 'Action'\n",
    "GOOGLECALENDAR_UPDATE_EVENT: 'Action'\n",
    "\n",
    "# tools = composio_toolset.get_tools(actions=[Action.GOOGLECALENDAR_LIST_CALENDARS])\n",
    "# task = \"find free slots for next week\"\n",
    "\n",
    "\n",
    "# tools = composio_toolset.get_tools(actions=[Action.GOOGLECALENDAR_GET_CALENDAR])\n",
    "# task = \"fetch calendar for id michael@flowon.ai\"\n",
    "\n",
    "tools = composio_toolset.get_tools(actions=[Action.GOOGLECALENDAR_FIND_FREE_SLOTS])\n",
    "today = datetime.now().strftime(\"%Y-%m-%d\")\n",
    "\n",
    "task = f\"Search for free slots for the next 14 days for id michael@flowon.ai. Today's date is {today}.\"\n",
    "\n",
    "response = openai_client.chat.completions.create(\n",
    "    model=\"gpt-4o\",\n",
    "    tools=tools,\n",
    "    messages=[\n",
    "        {\"role\": \"system\", \"content\": f\"You are a helpful assistant. Today's date is {today}.\"},\n",
    "        {\"role\": \"user\", \"content\": task},\n",
    "    ],\n",
    ")\n",
    "result = composio_toolset.handle_tool_calls(response)"
   ]
  },
  {
   "cell_type": "code",
   "execution_count": 6,
   "metadata": {},
   "outputs": [
    {
     "name": "stderr",
     "output_type": "stream",
     "text": [
      "[2024-11-25 20:25:32,156][INFO] Logging is set to INFO, use `logging_level` argument or `COMPOSIO_LOGGING_LEVEL` change this\n"
     ]
    },
    {
     "name": "stderr",
     "output_type": "stream",
     "text": [
      "[2024-11-25 20:25:35,038][INFO] Executing `GOOGLECALENDAR_FIND_FREE_SLOTS` with params={'time_min': '2024,11,25,20,25,00', 'time_max': '2024,12,09,20,25,00', 'items': ['michael@flowon.ai'], 'timezone': 'UTC'} and metadata={} connected_account_id=None\n",
      "[2024-11-25 20:25:36,694][INFO] Got response={'successfull': True, 'data': {'response_data': {'kind': 'calendar#freeBusy', 'timeMin': '2024-11-25T20:25:00.000Z', 'timeMax': '2024-12-09T20:25:00.000Z', 'calendars': {'michael@flowon.ai': {'busy': [{'start': '2024-11-26T14:00:00Z', 'end': '...\n"
     ]
    },
    {
     "data": {
      "text/plain": [
       "[{'start': '2024-11-26T09:00:00+00:00', 'end': '2024-11-26T09:30:00+00:00'},\n",
       " {'start': '2024-11-26T09:30:00+00:00', 'end': '2024-11-26T10:00:00+00:00'},\n",
       " {'start': '2024-11-26T10:00:00+00:00', 'end': '2024-11-26T10:30:00+00:00'},\n",
       " {'start': '2024-11-26T10:30:00+00:00', 'end': '2024-11-26T11:00:00+00:00'},\n",
       " {'start': '2024-11-26T11:00:00+00:00', 'end': '2024-11-26T11:30:00+00:00'},\n",
       " {'start': '2024-11-26T11:30:00+00:00', 'end': '2024-11-26T12:00:00+00:00'},\n",
       " {'start': '2024-11-26T12:00:00+00:00', 'end': '2024-11-26T12:30:00+00:00'},\n",
       " {'start': '2024-11-26T12:30:00+00:00', 'end': '2024-11-26T13:00:00+00:00'}]"
      ]
     },
     "execution_count": 6,
     "metadata": {},
     "output_type": "execute_result"
    }
   ],
   "source": [
    "from services.composio import get_calendar_slots\n",
    "\n",
    "await get_calendar_slots(\"user_2mmXezcGmjZCf88gT2v2waCBsXv\",\"outlook\")"
   ]
  },
  {
   "cell_type": "code",
   "execution_count": 3,
   "metadata": {},
   "outputs": [
    {
     "name": "stdout",
     "output_type": "stream",
     "text": [
      "Available: 2024-11-26T09:00:00+00:00 - 2024-11-26T09:30:00+00:00\n",
      "Available: 2024-11-26T09:30:00+00:00 - 2024-11-26T10:00:00+00:00\n",
      "Available: 2024-11-26T10:00:00+00:00 - 2024-11-26T10:30:00+00:00\n",
      "Available: 2024-11-26T10:30:00+00:00 - 2024-11-26T11:00:00+00:00\n",
      "Available: 2024-11-26T11:00:00+00:00 - 2024-11-26T11:30:00+00:00\n",
      "Available: 2024-11-26T11:30:00+00:00 - 2024-11-26T12:00:00+00:00\n",
      "Available: 2024-11-26T12:00:00+00:00 - 2024-11-26T12:30:00+00:00\n",
      "Available: 2024-11-26T12:30:00+00:00 - 2024-11-26T13:00:00+00:00\n"
     ]
    }
   ],
   "source": [
    "from datetime import datetime, timedelta\n",
    "import pytz\n",
    "\n",
    "def find_free_slots(calendar_data, num_slots=8, duration_minutes=30):\n",
    "    busy_slots = calendar_data\n",
    "    \n",
    "    # Convert to datetime objects and sort\n",
    "    busy_slots = [(datetime.fromisoformat(slot['start'].replace('Z', '+00:00')),\n",
    "                   datetime.fromisoformat(slot['end'].replace('Z', '+00:00')))\n",
    "                  for slot in busy_slots]\n",
    "    busy_slots.sort()\n",
    "    \n",
    "    # Start from current time\n",
    "    current_time = datetime.now(pytz.UTC)\n",
    "    # Round up to the next half hour\n",
    "    current_time = current_time + timedelta(minutes=(30 - current_time.minute % 30))\n",
    "    \n",
    "    free_slots = []\n",
    "    # Look ahead for 5 business days\n",
    "    days_to_check = 5\n",
    "    current_day = current_time.date()\n",
    "    \n",
    "    while len(free_slots) < num_slots and days_to_check > 0:\n",
    "        # Set day start to 9 AM\n",
    "        day_start = datetime.combine(current_day, datetime.min.time().replace(hour=9), tzinfo=pytz.UTC)\n",
    "        day_end = datetime.combine(current_day, datetime.min.time().replace(hour=17), tzinfo=pytz.UTC)\n",
    "        \n",
    "        # If it's today, start from current time\n",
    "        if current_day == current_time.date():\n",
    "            day_start = max(day_start, current_time)\n",
    "        \n",
    "        # Get busy slots for this day\n",
    "        day_busy_slots = [slot for slot in busy_slots \n",
    "                         if slot[0].date() == current_day]\n",
    "        \n",
    "        slot_start = day_start\n",
    "        \n",
    "        # If there are busy slots on this day\n",
    "        if day_busy_slots:\n",
    "            for busy_start, busy_end in day_busy_slots:\n",
    "                # Check for free time before busy slot\n",
    "                while slot_start + timedelta(minutes=duration_minutes) <= busy_start and slot_start + timedelta(minutes=duration_minutes) <= day_end:\n",
    "                    free_slots.append({\n",
    "                        'start': slot_start.isoformat(),\n",
    "                        'end': (slot_start + timedelta(minutes=duration_minutes)).isoformat()\n",
    "                    })\n",
    "                    slot_start += timedelta(minutes=duration_minutes)\n",
    "                    if len(free_slots) >= num_slots:\n",
    "                        return free_slots\n",
    "                \n",
    "                # Move start time to after the busy slot\n",
    "                slot_start = max(slot_start, busy_end)\n",
    "        \n",
    "        # Check remaining time until end of business day\n",
    "        while slot_start + timedelta(minutes=duration_minutes) <= day_end:\n",
    "            free_slots.append({\n",
    "                'start': slot_start.isoformat(),\n",
    "                'end': (slot_start + timedelta(minutes=duration_minutes)).isoformat()\n",
    "            })\n",
    "            slot_start += timedelta(minutes=duration_minutes)\n",
    "            if len(free_slots) >= num_slots:\n",
    "                return free_slots\n",
    "        \n",
    "        # Move to next day\n",
    "        current_day += timedelta(days=1)\n",
    "        days_to_check -= 1\n",
    "    \n",
    "    return free_slots\n",
    "\n",
    "# Example usage:\n",
    "calendar_data = result[0]['data']['response_data']['calendars']['michael@flowon.ai']['busy']\n",
    "\n",
    "free_slots = find_free_slots(calendar_data)\n",
    "for slot in free_slots:\n",
    "    print(f\"Available: {slot['start']} - {slot['end']}\")"
   ]
  },
  {
   "cell_type": "code",
   "execution_count": null,
   "metadata": {},
   "outputs": [],
   "source": [
    "def parse_calendar_slots(result):\n",
    "    # Extract the calendar data\n",
    "    calendar_data = result[0]['data']['response_data']['calendars']\n",
    "    email = list(calendar_data.keys())[0]\n",
    "    busy_slots = calendar_data[email]['busy']\n",
    "    \n",
    "    # Convert busy slots to free slots\n",
    "    time_min = result[0]['data']['response_data']['timeMin']\n",
    "    time_max = result[0]['data']['response_data']['timeMax']\n",
    "    \n",
    "    # Convert to datetime objects\n",
    "    start_day = datetime.strptime(time_min, '%Y-%m-%dT%H:%M:%S.%fZ')\n",
    "    end_day = datetime.strptime(time_max, '%Y-%m-%dT%H:%M:%S.%fZ')\n",
    "    \n",
    "    # Create a list of busy periods\n",
    "    busy_periods = []\n",
    "    for slot in busy_slots:\n",
    "        start = datetime.strptime(slot['start'], '%Y-%m-%dT%H:%M:%SZ')\n",
    "        end = datetime.strptime(slot['end'], '%Y-%m-%dT%H:%M:%SZ')\n",
    "        busy_periods.append((start, end))\n",
    "    \n",
    "    # Format the schedule in a human-readable way\n",
    "    schedule_summary = f\"Schedule for {email} on {start_day.strftime('%Y-%m-%d')}:\\n\\n\"\n",
    "    schedule_summary += \"Busy periods:\\n\"\n",
    "    for start, end in busy_periods:\n",
    "        schedule_summary += f\"- {start.strftime('%H:%M')} to {end.strftime('%H:%M')}\\n\"\n",
    "    \n",
    "    return schedule_summary\n",
    "\n",
    "# Use the function\n",
    "schedule = parse_calendar_slots(result)\n",
    "print(schedule)"
   ]
  },
  {
   "cell_type": "code",
   "execution_count": null,
   "metadata": {},
   "outputs": [],
   "source": [
    "\n",
    "tools = composio_toolset.get_tools(actions=[Action.GOOGLECALENDAR_CREATE_EVENT])\n",
    "\n",
    "task = \"Create a 1 hour meeting event at 5:30PM tomorrow regarding OpenAI Integration\"\n",
    "\n",
    "today = datetime.now().strftime(\"%Y-%m-%d\")\n",
    "\n",
    "response = openai_client.chat.completions.create(\n",
    "    model=\"gpt-4-turbo-preview\",\n",
    "    tools=tools,\n",
    "    messages=[\n",
    "        {\"role\": \"system\", \"content\": f\"You are a helpful assistant. Today's date is {today}.\"},\n",
    "        {\"role\": \"user\", \"content\": task},\n",
    "    ],\n",
    ")\n",
    "result = composio_toolset.handle_tool_calls(response)\n",
    "print(result)\n"
   ]
  }
 ],
 "metadata": {
  "kernelspec": {
   "display_name": "venv",
   "language": "python",
   "name": "python3"
  },
  "language_info": {
   "codemirror_mode": {
    "name": "ipython",
    "version": 3
   },
   "file_extension": ".py",
   "mimetype": "text/x-python",
   "name": "python",
   "nbconvert_exporter": "python",
   "pygments_lexer": "ipython3",
   "version": "3.12.7"
  }
 },
 "nbformat": 4,
 "nbformat_minor": 2
}
