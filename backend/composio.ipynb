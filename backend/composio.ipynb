{
 "cells": [
  {
   "cell_type": "code",
   "execution_count": 2,
   "metadata": {},
   "outputs": [],
   "source": [
    "from datetime import datetime\n",
    "import requests, json, os\n",
    "from typing import Dict, Annotated, Optional, List, Union\n",
    "from dotenv import load_dotenv\n",
    "load_dotenv()\n",
    "\n",
    "from services.twilio import client\n",
    "from services.cache import get_agent_metadata, get_all_agents\n",
    "from services.chat.chat import similarity_search, get_embedding\n",
    "from services.db.supabase_services import supabase_client\n",
    "supabase = supabase_client()\n",
    "\n",
    "from app.core.config import settings\n",
    "\n",
    "from composio import Composio\n",
    "\n",
    "# Initialize the Composio client\n",
    "client = Composio()"
   ]
  },
  {
   "cell_type": "code",
   "execution_count": null,
   "metadata": {},
   "outputs": [],
   "source": [
    "\"\"\" Get all connected apps and accounts \"\"\"\n",
    "\"\"\" store connection ID to each user_id in supabase \"\"\"\n",
    "\n",
    "\n",
    "# Get the list of integrations (connected apps)\n",
    "integrations = client.integrations.get()\n",
    "print(\"Connected Apps:\")\n",
    "for integration in integrations:\n",
    "    print(f\"• App: {integration.appName}\")\n",
    "    print(f\"  ID: {integration.id}\")\n",
    "\n",
    "# Get the list of connected accounts (existing connections)\n",
    "connected_accounts = client.connected_accounts.get()\n",
    "print(\"\\nExisting Connections:\")\n",
    "for account in connected_accounts:\n",
    "    print(f\"• ID: {account.id}\")\n",
    "    print(f\"  App: {account.appName}\")\n",
    "    print(f\"  Status: {account.status}\")\n"
   ]
  },
  {
   "cell_type": "code",
   "execution_count": null,
   "metadata": {},
   "outputs": [],
   "source": [
    "from services.composio import get_calendar_slots\n",
    "\n",
    "get_calendar_slots(\"user_2mmXezcGmjZCf88gT2v2waCBsXv\")"
   ]
  },
  {
   "cell_type": "code",
   "execution_count": 75,
   "metadata": {},
   "outputs": [],
   "source": [
    "from composio import Composio\n",
    "\n",
    "# Initialize the Composio client\n",
    "composio_client = Composio()\n",
    "\n",
    "# Create a new entity with a custom ID\n",
    "new_entity = composio_client.get_entity(id=\"user_2mmXezcGmjZCf88gT2v2waCBsXv\")\n"
   ]
  },
  {
   "cell_type": "code",
   "execution_count": null,
   "metadata": {},
   "outputs": [],
   "source": [
    "\"\"\" checks if entity already exists \"\"\"\n",
    "\n",
    "existing_entity = composio_client.get_entity(id=\"user_2mmXezcGmjZCf88gT2v2waCBsXv\")\n",
    "existing_connections = existing_entity.get_connections()\n",
    "\n",
    "if existing_connections:\n",
    "    print(\"Entity already exists with connections:\", existing_connections)\n",
    "else:\n",
    "    print(\"Entity is newly created or has no connections\")\n",
    "\n",
    "\n",
    "# # Check for connected accounts for the new entity\n",
    "# try:\n",
    "#     connected_account = new_entity.get_connection(app=\"outlook\")\n",
    "#     print(f\"Connected Outlook account: {connected_account}\")\n",
    "# except Exception as e:\n",
    "#     print(\"No connected Slack account found\")\n",
    "\n",
    "# # Perform actions using the new entity\n",
    "# actions = new_entity.get_tools(app_name=\"github\")\n",
    "\n",
    "existing_connections"
   ]
  },
  {
   "cell_type": "markdown",
   "metadata": {},
   "source": [
    "### Outlook"
   ]
  },
  {
   "cell_type": "code",
   "execution_count": null,
   "metadata": {},
   "outputs": [],
   "source": [
    "\"\"\" this function will be triggered in endpoint /composion/new_connection \"\"\"\n",
    "\"\"\" then to store the connection ID to the user_id in supabase \"\"\"\n",
    "\"\"\" frontend to have button to \"generate auth link\", response from this endpoint will be the redirect url \"\"\"\n",
    "### entity ID will be created for each user. \n",
    "\"\"\" {\"app\": \"outlook\", \"connectedAccountId\" : \"xxx\", \"client_id\" : \"xxx\" } \"\"\"\n",
    "\n",
    "\"\"\"Auth\"\"\"\n",
    "from composio import ComposioToolSet, App\n",
    "from composio import Composio\n",
    "from composio_openai import ComposioToolSet, Action\n",
    "from openai import OpenAI\n",
    "\n",
    "# Initialize the Composio client\n",
    "composio_client = Composio()\n",
    "\n",
    "# # Create a new entity with a custom ID\n",
    "# new_entity = composio_client.get_entity(id=\"user_2mmXezcGmjZCf88gT2v2waCBsXv\")\n",
    "\n",
    "toolset = ComposioToolSet()\n",
    "entity = toolset.get_entity(id=\"user_2mmXezcGmjZCf88gT2v2waCBsXvww\")\n",
    "\n",
    "# request = entity.initiate_connection(App.OUTLOOK)\n",
    "# ### background task save request.connectedAccountId to integrations table in supabase \n",
    "# ### then return the below redirect url to frontend\n",
    "# print(f\"Open this URL to authenticate: {request.redirectUrl}\")\n"
   ]
  },
  {
   "cell_type": "code",
   "execution_count": null,
   "metadata": {},
   "outputs": [],
   "source": [
    "tools = toolset.get_tools(actions=[Action.OUTLOOK_LIST_EVENTS])\n",
    "\n",
    "tools"
   ]
  },
  {
   "cell_type": "code",
   "execution_count": null,
   "metadata": {},
   "outputs": [],
   "source": [
    "tools = toolset.get_tools(apps=[App.OUTLOOK])\n",
    "\n",
    "tools"
   ]
  },
  {
   "cell_type": "code",
   "execution_count": 62,
   "metadata": {},
   "outputs": [],
   "source": [
    "openai_client = OpenAI()\n",
    "\n",
    "today = datetime.now().strftime(\"%Y-%m-%d\")\n",
    "task = f\"get calendar slots for next week, today is {today}\"\n",
    "\n",
    "# Update the tools to include search capability\n",
    "tools = toolset.get_tools(actions=[\n",
    "    Action.OUTLOOK_OUTLOOK_UPDATE_CALENDAR_EVENT])\n",
    "\n",
    "\n",
    "# First, let's search for your database\n",
    "search_response = openai_client.chat.completions.create(\n",
    "    model=\"gpt-4o\",\n",
    "    tools=tools,\n",
    "    messages=[\n",
    "        {\"role\": \"system\", \"content\": \"You are a helpful assistant.\"},\n",
    "        {\"role\": \"user\", \"content\": \"Search for a database called DevOps DB in my Notion workspace\"},\n",
    "    ],\n",
    ")\n",
    "search_result = toolset.handle_tool_calls(search_response)\n",
    "search_result\n"
   ]
  },
  {
   "cell_type": "code",
   "execution_count": null,
   "metadata": {},
   "outputs": [],
   "source": [
    "search_result"
   ]
  },
  {
   "cell_type": "markdown",
   "metadata": {},
   "source": [
    "### Shopify"
   ]
  },
  {
   "cell_type": "code",
   "execution_count": 7,
   "metadata": {},
   "outputs": [
    {
     "name": "stderr",
     "output_type": "stream",
     "text": [
      "[2024-11-27 01:04:00,016][INFO] Logging is set to INFO, use `logging_level` argument or `COMPOSIO_LOGGING_LEVEL` change this\n"
     ]
    },
    {
     "name": "stdout",
     "output_type": "stream",
     "text": [
      "Open this URL to authenticate: https://fdi1gh-xg.myshopify.com/admin/oauth/authorize?client_id=7c7a26e7515b114c6f992a99318c0e4c&redirect_uri=https%3A%2F%2Fbackend.composio.dev%2Fapi%2Fv1%2Fauth-apps%2Fadd&scope=read_products%2Cwrite_products%2Cread_orders%2Cwrite_orders&access_mode=per-user&state=production_eyJhbGciOiJIUzI1NiIsInR5cCI6IkpXVCJ9.eyJjb25uZWN0aW9uSWQiOiJjMWExZmM3YS0wYzBkLTQwMzctYjkwOC00ZjQ5NzA1YmI1ZjciLCJpbnRlZ3JhdGlvbklkIjoiOGVhMjdkZjQtNDYyYy00ODY0LThlZTMtMTk3NDExOGJhMmRkIiwiYXBwTmFtZSI6InNob3BpZnkiLCJjbGllbnRJbmZvIjp7InByb2plY3RJZCI6IjAxMjcxNDU5LTg2M2YtNDc3MC1hOGEzLTE2NmFjYjc4MWYzNyIsIm1lbWJlcklkIjoiMmJkMjYwNWQtMmI5OC00MGU4LWJjNTYtZjhkNjZhMTU2OWVjIn0sImlhdCI6MTczMjY2OTQ0MX0.nvalCqNugOwpx2cyZ4GRJV9p0OJ75_8KXjoq2JnIPXc&code_challenge=k__YnLG-iuiomi5-scC8f7aD3875krwWXiTkB1h0df8&code_challenge_method=S256\n"
     ]
    }
   ],
   "source": [
    "\"\"\"Auth\"\"\"\n",
    "\"\"\" shopify not working :(\"\"\"\n",
    "\n",
    "from composio import ComposioToolSet, Composio, App\n",
    "from dotenv import load_dotenv\n",
    "load_dotenv()\n",
    "\n",
    "client = Composio()\n",
    "toolset = ComposioToolSet()\n",
    "entity = toolset.get_entity()\n",
    "request = entity.initiate_connection(App.SHOPIFY, connected_account_params={\"shop\": \"fdi1gh-xg\"})\n",
    "\n",
    "print(f\"Open this URL to authenticate: {request.redirectUrl}\")\n"
   ]
  },
  {
   "cell_type": "code",
   "execution_count": null,
   "metadata": {},
   "outputs": [],
   "source": []
  },
  {
   "cell_type": "markdown",
   "metadata": {},
   "source": [
    "### Notion"
   ]
  },
  {
   "cell_type": "code",
   "execution_count": null,
   "metadata": {},
   "outputs": [],
   "source": [
    "\"\"\"Auth\"\"\"\n",
    "\n",
    "from composio import ComposioToolSet, App\n",
    "\n",
    "toolset = ComposioToolSet(entity_id=\"Jessica\")\n",
    "entity = toolset.get_entity()\n",
    "request = entity.initiate_connection(App.NOTION)\n",
    "\n",
    "print(f\"Open this URL to authenticate: {request.redirectUrl}\")\n"
   ]
  },
  {
   "cell_type": "code",
   "execution_count": null,
   "metadata": {},
   "outputs": [],
   "source": [
    "from composio_openai import ComposioToolSet, Action\n",
    "from openai import OpenAI\n",
    "\n",
    "openai_client = OpenAI()\n",
    "composio_toolset = ComposioToolSet(entity_id=\"Jessica\")"
   ]
  },
  {
   "cell_type": "code",
   "execution_count": null,
   "metadata": {},
   "outputs": [],
   "source": [
    "today = datetime.now().strftime(\"%Y-%m-%d\")\n",
    "task = \"get the DB id for DevOps DB\"\n",
    "\n",
    "# Update the tools to include search capability\n",
    "tools = composio_toolset.get_tools(actions=[\n",
    "    Action.NOTION_SEARCH_NOTION_PAGE])\n",
    "\n",
    "# First, let's search for your database\n",
    "search_response = openai_client.chat.completions.create(\n",
    "    model=\"gpt-4o\",\n",
    "    tools=tools,\n",
    "    messages=[\n",
    "        {\"role\": \"system\", \"content\": \"You are a helpful assistant.\"},\n",
    "        {\"role\": \"user\", \"content\": \"Search for a database called DevOps DB in my Notion workspace\"},\n",
    "    ],\n",
    ")\n",
    "search_result = composio_toolset.handle_tool_calls(search_response)\n",
    "\n",
    "db_id = search_result[0]['data']['response_data']['results'][0]['id']\n",
    "print(\"DB ID:\", db_id)\n",
    "\n",
    "task = f\"get the page to do's in DB with id {db_id}\"\n",
    "\n",
    "# Update the tools to include search capability\n",
    "tools = composio_toolset.get_tools(actions=[\n",
    "    Action.NOTION_QUERY_DATABASE])\n",
    "\n",
    "search_response = openai_client.chat.completions.create(\n",
    "    model=\"gpt-4o\",\n",
    "    tools=tools,\n",
    "    messages=[\n",
    "        {\"role\": \"system\", \"content\": \"You are a helpful assistant.\"},\n",
    "        {\"role\": \"user\", \"content\": \"Search for a database called DevOps DB in my Notion workspace\"},\n",
    "    ],\n",
    ")\n",
    "search_result = composio_toolset.handle_tool_calls(search_response)\n",
    "\n"
   ]
  },
  {
   "cell_type": "code",
   "execution_count": null,
   "metadata": {},
   "outputs": [],
   "source": [
    "print(search_result)\n"
   ]
  },
  {
   "cell_type": "markdown",
   "metadata": {},
   "source": [
    "### Google Calendar"
   ]
  },
  {
   "cell_type": "code",
   "execution_count": 1,
   "metadata": {},
   "outputs": [
    {
     "name": "stderr",
     "output_type": "stream",
     "text": [
      "[2024-11-27 02:08:25,698][INFO] Logging is set to INFO, use `logging_level` argument or `COMPOSIO_LOGGING_LEVEL` change this\n",
      "[2024-11-27 02:08:29,331][INFO] Executing `GOOGLECALENDAR_FIND_FREE_SLOTS` with params={'time_min': '2024,11,27,00,00,00', 'time_max': '2024,12,11,23,59,59', 'items': ['michael@flowon.ai']} and metadata={} connected_account_id=None\n",
      "[2024-11-27 02:08:31,030][INFO] Got response={'successfull': True, 'data': {'response_data': {'kind': 'calendar#freeBusy', 'timeMin': '2024-11-27T00:00:00.000Z', 'timeMax': '2024-12-11T23:59:59.000Z', 'calendars': {'michael@flowon.ai': {'busy': [{'start': '2024-11-27T12:00:00Z', 'end': '...\n"
     ]
    }
   ],
   "source": [
    "from composio_openai import ComposioToolSet, Action\n",
    "from composio import Composio\n",
    "from openai import OpenAI\n",
    "from datetime import datetime \n",
    "\n",
    "from dotenv import load_dotenv\n",
    "load_dotenv()\n",
    "\n",
    "client = Composio()\n",
    "openai_client = OpenAI()\n",
    "composio_toolset = ComposioToolSet(entity_id=\"user_2mmXezcGmjZCf88gT2v2waCBsXv\")\n",
    "\n",
    "GOOGLECALENDAR_CREATE_EVENT: 'Action'\n",
    "GOOGLECALENDAR_DELETE_EVENT: 'Action'\n",
    "GOOGLECALENDAR_DUPLICATE_CALENDAR: 'Action'\n",
    "GOOGLECALENDAR_FIND_EVENT: 'Action'\n",
    "GOOGLECALENDAR_FIND_FREE_SLOTS: 'Action'\n",
    "GOOGLECALENDAR_GET_CALENDAR: 'Action'\n",
    "GOOGLECALENDAR_GET_CURRENT_DATE_TIME: 'Action'\n",
    "GOOGLECALENDAR_LIST_CALENDARS: 'Action'\n",
    "GOOGLECALENDAR_PATCH_CALENDAR: 'Action'\n",
    "GOOGLECALENDAR_QUICK_ADD: 'Action'\n",
    "GOOGLECALENDAR_REMOVE_ATTENDEE: 'Action'\n",
    "GOOGLECALENDAR_UPDATE_EVENT: 'Action'\n",
    "\n",
    "# tools = composio_toolset.get_tools(actions=[Action.GOOGLECALENDAR_LIST_CALENDARS])\n",
    "# task = \"find free slots for next week\"\n",
    "\n",
    "# tools = composio_toolset.get_tools(actions=[Action.GOOGLECALENDAR_GET_CALENDAR])\n",
    "# task = \"fetch calendar for id michael@flowon.ai\"\n",
    "\n",
    "tools = composio_toolset.get_tools(actions=[Action.GOOGLECALENDAR_FIND_FREE_SLOTS])\n",
    "today = datetime.now().strftime(\"%Y-%m-%d\")\n",
    "\n",
    "task = f\"Search for free slots for the next 14 days for id michael@flowon.ai. Today's date is {today}.\"\n",
    "\n",
    "response = openai_client.chat.completions.create(\n",
    "    model=\"gpt-4o\",\n",
    "    tools=tools,\n",
    "    messages=[\n",
    "        {\"role\": \"system\", \"content\": f\"You are a helpful assistant. Today's date is {today}.\"},\n",
    "        {\"role\": \"user\", \"content\": task},\n",
    "    ],\n",
    ")\n",
    "\n",
    "result = composio_toolset.handle_tool_calls(response)"
   ]
  },
  {
   "cell_type": "code",
   "execution_count": 2,
   "metadata": {},
   "outputs": [
    {
     "name": "stderr",
     "output_type": "stream",
     "text": [
      "[2024-11-27 02:08:31,046][INFO] Logging is set to INFO, use `logging_level` argument or `COMPOSIO_LOGGING_LEVEL` change this\n"
     ]
    },
    {
     "name": "stdout",
     "output_type": "stream",
     "text": [
      "Getting calendar slots..\n"
     ]
    },
    {
     "name": "stderr",
     "output_type": "stream",
     "text": [
      "[2024-11-27 02:08:33,630][INFO] Executing `GOOGLECALENDAR_FIND_FREE_SLOTS` with params={'time_min': '2024,11,27,02,08,00', 'time_max': '2024,12,11,02,08,00', 'items': ['michael@flowon.ai']} and metadata={} connected_account_id=None\n",
      "[2024-11-27 02:08:35,024][INFO] Got response={'successfull': True, 'data': {'response_data': {'kind': 'calendar#freeBusy', 'timeMin': '2024-11-27T02:08:00.000Z', 'timeMax': '2024-12-11T02:08:00.000Z', 'calendars': {'michael@flowon.ai': {'busy': [{'start': '2024-11-27T12:00:00Z', 'end': '...\n"
     ]
    },
    {
     "data": {
      "text/plain": [
       "{'formatted': {'27th Wednesday November 2024': ['09:00 AM',\n",
       "   '09:30 AM',\n",
       "   '10:00 AM',\n",
       "   '10:30 AM',\n",
       "   '11:00 AM',\n",
       "   '11:30 AM',\n",
       "   '01:30 PM',\n",
       "   '02:00 PM',\n",
       "   '02:30 PM',\n",
       "   '03:30 PM',\n",
       "   '04:00 PM',\n",
       "   '04:30 PM'],\n",
       "  '28th Thursday November 2024': ['09:00 AM'],\n",
       "  '29th Friday November 2024': ['09:00 AM',\n",
       "   '09:30 AM',\n",
       "   '10:00 AM',\n",
       "   '10:30 AM',\n",
       "   '11:00 AM',\n",
       "   '11:30 AM',\n",
       "   '12:00 PM',\n",
       "   '12:30 PM',\n",
       "   '01:00 PM',\n",
       "   '01:30 PM',\n",
       "   '02:00 PM',\n",
       "   '02:30 PM',\n",
       "   '03:00 PM',\n",
       "   '03:30 PM',\n",
       "   '04:00 PM',\n",
       "   '04:30 PM'],\n",
       "  '30th Saturday November 2024': ['09:00 AM', '09:30 AM', '10:00 AM']}}"
      ]
     },
     "execution_count": 2,
     "metadata": {},
     "output_type": "execute_result"
    }
   ],
   "source": [
    "from services.composio import get_calendar_slots, find_free_slots\n",
    "\n",
    "await get_calendar_slots(\"user_2mmXezcGmjZCf88gT2v2waCBsXv\",\"outlook\")\n",
    "\n"
   ]
  },
  {
   "cell_type": "code",
   "execution_count": 4,
   "metadata": {},
   "outputs": [
    {
     "name": "stderr",
     "output_type": "stream",
     "text": [
      "[2024-11-27 02:05:14,398][INFO] Executing `GOOGLECALENDAR_CREATE_EVENT` with params={'start_datetime': '2024-11-28T17:30:00', 'event_duration': '1h', 'summary': 'OpenAI Integration Meeting', 'create_meeting_room': True} and metadata={} connected_account_id=None\n",
      "[2024-11-27 02:05:16,412][INFO] Got response={'successfull': True, 'data': {'response_data': {'kind': 'calendar#event', 'etag': '\"3465346231906000\"', 'id': 'b452do6bfcqo7qibjhnut5sfk0', 'status': 'confirmed', 'htmlLink': 'https://www.google.com/calendar/event?eid=YjQ1MmRvNmJmY3FvN3FpYmpo...\n"
     ]
    },
    {
     "name": "stdout",
     "output_type": "stream",
     "text": [
      "[{'successfull': True, 'data': {'response_data': {'kind': 'calendar#event', 'etag': '\"3465346231906000\"', 'id': 'b452do6bfcqo7qibjhnut5sfk0', 'status': 'confirmed', 'htmlLink': 'https://www.google.com/calendar/event?eid=YjQ1MmRvNmJmY3FvN3FpYmpobnV0NXNmazAgbWljaGFlbEBmbG93b24uYWk', 'created': '2024-11-27T02:05:15.000Z', 'updated': '2024-11-27T02:05:15.953Z', 'summary': 'OpenAI Integration Meeting', 'creator': {'email': 'michael@flowon.ai', 'self': True}, 'organizer': {'email': 'michael@flowon.ai', 'self': True}, 'start': {'dateTime': '2024-11-28T17:30:00Z', 'timeZone': 'UTC'}, 'end': {'dateTime': '2024-11-28T18:30:00Z', 'timeZone': 'UTC'}, 'iCalUID': 'b452do6bfcqo7qibjhnut5sfk0@google.com', 'sequence': 0, 'hangoutLink': 'https://meet.google.com/zgt-jkfo-hmj', 'conferenceData': {'createRequest': {'requestId': '6006688a68e84e34960623ff564e5667', 'conferenceSolutionKey': {'type': 'hangoutsMeet'}, 'status': {'statusCode': 'success'}}, 'entryPoints': [{'entryPointType': 'video', 'uri': 'https://meet.google.com/zgt-jkfo-hmj', 'label': 'meet.google.com/zgt-jkfo-hmj'}, {'entryPointType': 'more', 'uri': 'https://tel.meet/zgt-jkfo-hmj?pin=3521421155986', 'pin': '3521421155986'}, {'regionCode': 'US', 'entryPointType': 'phone', 'uri': 'tel:+1-478-292-3710', 'label': '+1 478-292-3710', 'pin': '282990249'}], 'conferenceSolution': {'key': {'type': 'hangoutsMeet'}, 'name': 'Google Meet', 'iconUri': 'https://fonts.gstatic.com/s/i/productlogos/meet_2020q4/v6/web-512dp/logo_meet_2020q4_color_2x_web_512dp.png'}, 'conferenceId': 'zgt-jkfo-hmj'}, 'reminders': {'useDefault': True}, 'eventType': 'default'}}, 'error': None}]\n"
     ]
    }
   ],
   "source": [
    "\n",
    "tools = composio_toolset.get_tools(actions=[Action.GOOGLECALENDAR_CREATE_EVENT])\n",
    "\n",
    "task = \"Create a 1 hour meeting event at 5:30PM tomorrow regarding OpenAI Integration\"\n",
    "\n",
    "today = datetime.now().strftime(\"%Y-%m-%d\")\n",
    "\n",
    "response = openai_client.chat.completions.create(\n",
    "    model=\"gpt-4-turbo-preview\",\n",
    "    tools=tools,\n",
    "    messages=[\n",
    "        {\"role\": \"system\", \"content\": f\"You are a helpful assistant. Today's date is {today}.\"},\n",
    "        {\"role\": \"user\", \"content\": task},\n",
    "    ],\n",
    ")\n",
    "result = composio_toolset.handle_tool_calls(response)\n",
    "print(result)\n"
   ]
  }
 ],
 "metadata": {
  "kernelspec": {
   "display_name": "venv",
   "language": "python",
   "name": "python3"
  },
  "language_info": {
   "codemirror_mode": {
    "name": "ipython",
    "version": 3
   },
   "file_extension": ".py",
   "mimetype": "text/x-python",
   "name": "python",
   "nbconvert_exporter": "python",
   "pygments_lexer": "ipython3",
   "version": "3.12.7"
  }
 },
 "nbformat": 4,
 "nbformat_minor": 2
}
