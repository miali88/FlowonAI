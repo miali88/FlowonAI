{
 "cells": [
  {
   "cell_type": "code",
   "execution_count": 6,
   "metadata": {},
   "outputs": [],
   "source": [
    "from datetime import datetime\n",
    "import requests, json, os\n",
    "from typing import Dict, Annotated, Optional, List, Union\n",
    "from dotenv import load_dotenv\n",
    "load_dotenv()\n",
    "\n",
    "from services.twilio import client\n",
    "from services.cache import get_agent_metadata, get_all_agents\n",
    "from services.chat.chat import similarity_search, get_embedding\n",
    "from services.db.supabase_services import supabase_client\n",
    "supabase = supabase_client()\n",
    "\n",
    "from app.core.config import settings"
   ]
  },
  {
   "cell_type": "markdown",
   "metadata": {},
   "source": [
    "### Auth"
   ]
  },
  {
   "cell_type": "code",
   "execution_count": 2,
   "metadata": {},
   "outputs": [
    {
     "name": "stderr",
     "output_type": "stream",
     "text": [
      "[2024-11-23 04:31:41,237][INFO] Logging is set to INFO, use `logging_level` argument or `COMPOSIO_LOGGING_LEVEL` change this\n"
     ]
    },
    {
     "name": "stdout",
     "output_type": "stream",
     "text": [
      "Open this URL to authenticate: https://api.notion.com/v1/oauth/authorize?client_id=17eb9b75-7ad0-4fc1-b01d-12bb09271484&redirect_uri=https%3A%2F%2Fbackend.composio.dev%2Fapi%2Fv1%2Fauth-apps%2Fadd&scope=&response_type=code&owner=user&state=production_eyJhbGciOiJIUzI1NiIsInR5cCI6IkpXVCJ9.eyJjb25uZWN0aW9uSWQiOiJjM2Q0MmIwOC1kMGJiLTRkMjUtOTBhNS01MDQyODFkMjBlMGIiLCJpbnRlZ3JhdGlvbklkIjoiZjk3MjE3MzctYWNjOC00MmY5LWFlMTgtZjk5NzM3MGFiZjQ3IiwiYXBwTmFtZSI6Im5vdGlvbiIsImNsaWVudEluZm8iOnsiY2xpZW50SWQiOiIwMTI3MTQ1OS04NjNmLTQ3NzAtYThhMy0xNjZhY2I3ODFmMzciLCJtZW1iZXJJZCI6IjJiZDI2MDVkLTJiOTgtNDBlOC1iYzU2LWY4ZDY2YTE1NjllYyJ9LCJpYXQiOjE3MzIzMzYzMDJ9.kT9d1rvKVDIFuU8b3VhMGyJRPi1wLCF2pg_XukZ7s78&code_challenge=cbF96qJ_f_MgSrGdoC-43i5ObxfQXi9TNCcmV5qBqJk&code_challenge_method=S256\n"
     ]
    }
   ],
   "source": [
    "from composio import ComposioToolSet, App\n",
    "\n",
    "toolset = ComposioToolSet(entity_id=\"Jessica\")\n",
    "entity = toolset.get_entity()\n",
    "request = entity.initiate_connection(App.NOTION)\n",
    "\n",
    "print(f\"Open this URL to authenticate: {request.redirectUrl}\")\n"
   ]
  },
  {
   "cell_type": "code",
   "execution_count": 3,
   "metadata": {},
   "outputs": [
    {
     "name": "stderr",
     "output_type": "stream",
     "text": [
      "[2024-11-23 04:32:28,947][INFO] Logging is set to INFO, use `logging_level` argument or `COMPOSIO_LOGGING_LEVEL` change this\n"
     ]
    }
   ],
   "source": [
    "from composio_openai import ComposioToolSet, Action\n",
    "from openai import OpenAI\n",
    "\n",
    "openai_client = OpenAI()\n",
    "composio_toolset = ComposioToolSet(entity_id=\"Jessica\")\n"
   ]
  },
  {
   "cell_type": "markdown",
   "metadata": {},
   "source": [
    "### Notion"
   ]
  },
  {
   "cell_type": "code",
   "execution_count": 16,
   "metadata": {},
   "outputs": [
    {
     "name": "stderr",
     "output_type": "stream",
     "text": [
      "[2024-11-23 04:57:43,155][INFO] Executing `NOTION_SEARCH_NOTION_PAGE` with params={'query': 'DevOps DB', 'filter_value': 'database'} and metadata={} connected_account_id=None\n",
      "[2024-11-23 04:57:46,528][INFO] Got response={'successfull': True, 'data': {'response_data': {'object': 'list', 'results': [{'object': 'database', 'id': '11b53e39-0487-804b-bca4-dd524767939b', 'cover': {'type': 'external', 'external': {'url': 'https://www.notion.so/images/page-cover/nasa...\n"
     ]
    },
    {
     "name": "stdout",
     "output_type": "stream",
     "text": [
      "DB ID: 11b53e39-0487-804b-bca4-dd524767939b\n"
     ]
    }
   ],
   "source": [
    "today = datetime.now().strftime(\"%Y-%m-%d\")\n",
    "task = \"get the DB id for DevOps DB\"\n",
    "\n",
    "# Update the tools to include search capability\n",
    "tools = composio_toolset.get_tools(actions=[\n",
    "    Action.NOTION_SEARCH_NOTION_PAGE])\n",
    "\n",
    "# First, let's search for your database\n",
    "search_response = openai_client.chat.completions.create(\n",
    "    model=\"gpt-4o\",\n",
    "    tools=tools,\n",
    "    messages=[\n",
    "        {\"role\": \"system\", \"content\": \"You are a helpful assistant.\"},\n",
    "        {\"role\": \"user\", \"content\": \"Search for a database called DevOps DB in my Notion workspace\"},\n",
    "    ],\n",
    ")\n",
    "search_result = composio_toolset.handle_tool_calls(search_response)\n",
    "\n",
    "db_id = search_result[0]['data']['response_data']['results'][0]['id']\n",
    "print(\"DB ID:\", db_id)\n",
    "\n",
    "task = f\"get the page to do's in DB with id {db_id}\"\n",
    "\n",
    "# Update the tools to include search capability\n",
    "tools = composio_toolset.get_tools(actions=[\n",
    "    Action.NOTION_QUERY_DATABASE])\n",
    "\n",
    "search_response = openai_client.chat.completions.create(\n",
    "    model=\"gpt-4o\",\n",
    "    tools=tools,\n",
    "    messages=[\n",
    "        {\"role\": \"system\", \"content\": \"You are a helpful assistant.\"},\n",
    "        {\"role\": \"user\", \"content\": \"Search for a database called DevOps DB in my Notion workspace\"},\n",
    "    ],\n",
    ")\n",
    "search_result = composio_toolset.handle_tool_calls(search_response)\n",
    "\n"
   ]
  },
  {
   "cell_type": "code",
   "execution_count": 17,
   "metadata": {},
   "outputs": [
    {
     "name": "stdout",
     "output_type": "stream",
     "text": [
      "[]\n"
     ]
    }
   ],
   "source": [
    "print(search_result)\n"
   ]
  },
  {
   "cell_type": "markdown",
   "metadata": {},
   "source": [
    "### Google Calendar"
   ]
  },
  {
   "cell_type": "code",
   "execution_count": 5,
   "metadata": {},
   "outputs": [
    {
     "name": "stderr",
     "output_type": "stream",
     "text": [
      "[2024-11-23 04:40:44,386][INFO] Executing `GOOGLECALENDAR_CREATE_EVENT` with params={'calendar_id': 'primary', 'create_meeting_room': True, 'event_duration': '1h', 'start_datetime': '2024-11-24T17:30:00', 'summary': 'OpenAI Integration Meeting'} and metadata={} connected_account_id=None\n",
      "[2024-11-23 04:40:46,334][INFO] Got response={'successfull': True, 'data': {'response_data': {'kind': 'calendar#event', 'etag': '\"3464673691676000\"', 'id': 'i62bupprdrf2veopdjo7l7629k', 'status': 'confirmed', 'htmlLink': 'https://www.google.com/calendar/event?eid=aTYyYnVwcHJkcmYydmVvcGRq...\n"
     ]
    },
    {
     "name": "stdout",
     "output_type": "stream",
     "text": [
      "[{'successfull': True, 'data': {'response_data': {'kind': 'calendar#event', 'etag': '\"3464673691676000\"', 'id': 'i62bupprdrf2veopdjo7l7629k', 'status': 'confirmed', 'htmlLink': 'https://www.google.com/calendar/event?eid=aTYyYnVwcHJkcmYydmVvcGRqbzdsNzYyOWsgbWljaGFlbEBmbG93b24uYWk', 'created': '2024-11-23T04:40:45.000Z', 'updated': '2024-11-23T04:40:45.838Z', 'summary': 'OpenAI Integration Meeting', 'creator': {'email': 'michael@flowon.ai', 'self': True}, 'organizer': {'email': 'michael@flowon.ai', 'self': True}, 'start': {'dateTime': '2024-11-24T17:30:00Z', 'timeZone': 'UTC'}, 'end': {'dateTime': '2024-11-24T18:30:00Z', 'timeZone': 'UTC'}, 'iCalUID': 'i62bupprdrf2veopdjo7l7629k@google.com', 'sequence': 0, 'hangoutLink': 'https://meet.google.com/egu-qfzk-xcg', 'conferenceData': {'createRequest': {'requestId': '0a06f1a31bcb4b8fb75d8144fc6848fb', 'conferenceSolutionKey': {'type': 'hangoutsMeet'}, 'status': {'statusCode': 'success'}}, 'entryPoints': [{'entryPointType': 'video', 'uri': 'https://meet.google.com/egu-qfzk-xcg', 'label': 'meet.google.com/egu-qfzk-xcg'}, {'entryPointType': 'more', 'uri': 'https://tel.meet/egu-qfzk-xcg?pin=1947799691406', 'pin': '1947799691406'}, {'regionCode': 'US', 'entryPointType': 'phone', 'uri': 'tel:+1-786-886-2505', 'label': '+1 786-886-2505', 'pin': '107624680'}], 'conferenceSolution': {'key': {'type': 'hangoutsMeet'}, 'name': 'Google Meet', 'iconUri': 'https://fonts.gstatic.com/s/i/productlogos/meet_2020q4/v6/web-512dp/logo_meet_2020q4_color_2x_web_512dp.png'}, 'conferenceId': 'egu-qfzk-xcg'}, 'reminders': {'useDefault': True}, 'eventType': 'default'}}, 'error': None}]\n"
     ]
    }
   ],
   "source": [
    "\n",
    "tools = composio_toolset.get_tools(actions=[Action.GOOGLECALENDAR_CREATE_EVENT])\n",
    "\n",
    "task = \"Create a 1 hour meeting event at 5:30PM tomorrow regarding OpenAI Integration\"\n",
    "\n",
    "today = datetime.now().strftime(\"%Y-%m-%d\")\n",
    "\n",
    "response = openai_client.chat.completions.create(\n",
    "    model=\"gpt-4-turbo-preview\",\n",
    "    tools=tools,\n",
    "    messages=[\n",
    "        {\"role\": \"system\", \"content\": f\"You are a helpful assistant. Today's date is {today}.\"},\n",
    "        {\"role\": \"user\", \"content\": task},\n",
    "    ],\n",
    ")\n",
    "result = composio_toolset.handle_tool_calls(response)\n",
    "print(result)\n"
   ]
  }
 ],
 "metadata": {
  "kernelspec": {
   "display_name": "venv",
   "language": "python",
   "name": "python3"
  },
  "language_info": {
   "codemirror_mode": {
    "name": "ipython",
    "version": 3
   },
   "file_extension": ".py",
   "mimetype": "text/x-python",
   "name": "python",
   "nbconvert_exporter": "python",
   "pygments_lexer": "ipython3",
   "version": "3.12.7"
  }
 },
 "nbformat": 4,
 "nbformat_minor": 2
}
