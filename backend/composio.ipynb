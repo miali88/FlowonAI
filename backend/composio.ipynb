{
 "cells": [
  {
   "cell_type": "code",
   "execution_count": 1,
   "metadata": {},
   "outputs": [],
   "source": [
    "from datetime import datetime\n",
    "import requests, json, os\n",
    "from typing import Dict, Annotated, Optional, List, Union\n",
    "from dotenv import load_dotenv\n",
    "load_dotenv()\n",
    "\n",
    "from services.twilio import client\n",
    "from services.cache import get_agent_metadata, get_all_agents\n",
    "from services.chat.chat import similarity_search, get_embedding\n",
    "from services.db.supabase_services import supabase_client\n",
    "supabase = supabase_client()\n",
    "\n",
    "from app.core.config import settings"
   ]
  },
  {
   "cell_type": "code",
   "execution_count": null,
   "metadata": {},
   "outputs": [],
   "source": [
    "\"\"\" Get all connected apps and accounts \"\"\"\n",
    "\"\"\" store connection ID to each user_id in supabase \"\"\"\n",
    "from composio import Composio\n",
    "\n",
    "# Initialize the Composio client\n",
    "client = Composio()\n",
    "\n",
    "# Get the list of integrations (connected apps)\n",
    "integrations = client.integrations.get()\n",
    "print(\"Connected Apps:\")\n",
    "for integration in integrations:\n",
    "    print(f\"• App: {integration.appName}\")\n",
    "    print(f\"  ID: {integration.id}\")\n",
    "\n",
    "# Get the list of connected accounts (existing connections)\n",
    "connected_accounts = client.connected_accounts.get()\n",
    "print(\"\\nExisting Connections:\")\n",
    "for account in connected_accounts:\n",
    "    print(f\"• ID: {account.id}\")\n",
    "    print(f\"  App: {account.appName}\")\n",
    "    print(f\"  Status: {account.status}\")\n"
   ]
  },
  {
   "cell_type": "code",
   "execution_count": 40,
   "metadata": {},
   "outputs": [],
   "source": [
    "from composio import Composio\n",
    "\n",
    "# Initialize the Composio client\n",
    "composio_client = Composio()\n",
    "\n",
    "# Create a new entity with a custom ID\n",
    "new_entity = composio_client.get_entity(id=\"user_2mmXezcGmjZCf88gT2v2waCBsXv\")\n"
   ]
  },
  {
   "cell_type": "code",
   "execution_count": 39,
   "metadata": {},
   "outputs": [
    {
     "name": "stdout",
     "output_type": "stream",
     "text": [
      "Entity already exists with connections: [ConnectedAccountModel(id='7ede5a6d-acf7-4b6d-9426-13dc1a4616d3', status='ACTIVE', createdAt='2024-11-24T02:13:42.541Z', updatedAt='2024-11-24T02:13:52.288Z', appUniqueId='notion', appName='notion', integrationId='f9721737-acc8-42f9-ae18-f997370abf47', connectionParams=AuthConnectionParamsModel(scope=None, base_url='********', client_id='********', token_type='bearer', access_token='********', client_secret='********', consumer_id=None, consumer_secret=None, headers=None, queryParams=None), clientUniqueUserId='user_2mmXezcGmjZCf88gT2v2waCBsXv', entityId=None)]\n"
     ]
    }
   ],
   "source": [
    "\"\"\" checks if entity already exists \"\"\"\n",
    "\n",
    "existing_entity = composio_client.get_entity(id=\"user_2mmXezcGmjZCf88gT2v2waCBsXv\")\n",
    "existing_connections = existing_entity.get_connections()\n",
    "\n",
    "if existing_connections:\n",
    "    print(\"Entity already exists with connections:\", existing_connections)\n",
    "else:\n",
    "    print(\"Entity is newly created or has no connections\")\n",
    "\n",
    "\n",
    "# # Check for connected accounts for the new entity\n",
    "# try:\n",
    "#     connected_account = new_entity.get_connection(app=\"outlook\")\n",
    "#     print(f\"Connected Outlook account: {connected_account}\")\n",
    "# except Exception as e:\n",
    "#     print(\"No connected Slack account found\")\n",
    "\n",
    "# # Perform actions using the new entity\n",
    "# actions = new_entity.get_tools(app_name=\"github\")\n",
    "\n"
   ]
  },
  {
   "cell_type": "markdown",
   "metadata": {},
   "source": [
    "### Outlook"
   ]
  },
  {
   "cell_type": "code",
   "execution_count": 43,
   "metadata": {},
   "outputs": [
    {
     "name": "stderr",
     "output_type": "stream",
     "text": [
      "[2024-11-24 02:43:10,788][INFO] Logging is set to INFO, use `logging_level` argument or `COMPOSIO_LOGGING_LEVEL` change this\n"
     ]
    }
   ],
   "source": [
    "\"\"\" this function will be triggered in endpoint /composion/new_connection \"\"\"\n",
    "\"\"\" then to store the connection ID to the user_id in supabase \"\"\"\n",
    "\"\"\" frontend to have button to \"generate auth link\", response from this endpoint will be the redirect url \"\"\"\n",
    "### entity ID will be created for each user. \n",
    "\"\"\" {\"app\": \"outlook\", \"connectedAccountId\" : \"xxx\", \"client_id\" : \"xxx\" } \"\"\"\n",
    "\n",
    "\"\"\"Auth\"\"\"\n",
    "from composio import ComposioToolSet, App\n",
    "from composio import Composio\n",
    "\n",
    "# Initialize the Composio client\n",
    "composio_client = Composio()\n",
    "\n",
    "# # Create a new entity with a custom ID\n",
    "# new_entity = composio_client.get_entity(id=\"user_2mmXezcGmjZCf88gT2v2waCBsXv\")\n",
    "\n",
    "\n",
    "toolset = ComposioToolSet()\n",
    "entity = toolset.get_entity(id=\"user_2mmXezcGmjZCf88gT2v2waCBsXvww\")\n",
    "\n",
    "\n",
    "\n",
    "# request = entity.initiate_connection(App.OUTLOOK)\n",
    "# ### background task save request.connectedAccountId to integrations table in supabase \n",
    "# ### then return the below redirect url to frontend\n",
    "# print(f\"Open this URL to authenticate: {request.redirectUrl}\")\n"
   ]
  },
  {
   "cell_type": "code",
   "execution_count": 44,
   "metadata": {},
   "outputs": [
    {
     "data": {
      "text/plain": [
       "ConnectionRequestModel(connectionStatus='INITIATED', connectedAccountId='e9f2ecdf-24d9-4e32-a13e-ca539ae1fe9a', redirectUrl='https://login.microsoftonline.com/common/oauth2/v2.0/authorize?client_id=05a98fa5-dad5-44ea-ad93-d190ee828ee1&redirect_uri=https%3A%2F%2Fbackend.composio.dev%2Fapi%2Fv1%2Fauth-apps%2Fadd&scope=Calendars.Read+Calendars.ReadWrite+Contacts.ReadWrite+Mail.Read+Mail.ReadWrite+Mail.Send+offline_access+User.Read&response_type=code&response_mode=query&prompt=consent&state=production_eyJhbGciOiJIUzI1NiIsInR5cCI6IkpXVCJ9.eyJjb25uZWN0aW9uSWQiOiJlOWYyZWNkZi0yNGQ5LTRlMzItYTEzZS1jYTUzOWFlMWZlOWEiLCJpbnRlZ3JhdGlvbklkIjoiZjcwNzkzYmEtYjJlYS00N2MyLTgwNDQtYjQ5NTBjNWQ1ZTYxIiwiYXBwTmFtZSI6Im91dGxvb2siLCJjbGllbnRJbmZvIjp7ImNsaWVudElkIjoiMDEyNzE0NTktODYzZi00NzcwLWE4YTMtMTY2YWNiNzgxZjM3IiwibWVtYmVySWQiOiIyYmQyNjA1ZC0yYjk4LTQwZTgtYmM1Ni1mOGQ2NmExNTY5ZWMifSwiaWF0IjoxNzMyNDE2MTk1fQ.PFX8jg5uz3gupkth2-96pPn3vjZPTvuak2hWvXJeuLA&code_challenge=yB9VhMj4niW-8HL7LyBL5h8PCn3YM98Ln0PpDBF9AGg&code_challenge_method=S256')"
      ]
     },
     "execution_count": 44,
     "metadata": {},
     "output_type": "execute_result"
    }
   ],
   "source": [
    "entity.initiate_connection(App.OUTLOOK)"
   ]
  },
  {
   "cell_type": "code",
   "execution_count": 20,
   "metadata": {},
   "outputs": [
    {
     "name": "stdout",
     "output_type": "stream",
     "text": [
      "05a98fa5-dad5-44ea-ad93-d190ee828ee1\n"
     ]
    }
   ],
   "source": [
    "from urllib.parse import urlparse, parse_qs\n",
    "\n",
    "url = request.redirectUrl\n",
    "parsed_url = urlparse(url)\n",
    "query_params = parse_qs(parsed_url.query)\n",
    "client_id = query_params.get('client_id', [None])[0]\n",
    "\n",
    "request.connectedAccountId "
   ]
  },
  {
   "cell_type": "code",
   "execution_count": null,
   "metadata": {},
   "outputs": [],
   "source": []
  },
  {
   "cell_type": "markdown",
   "metadata": {},
   "source": [
    "### Shopify"
   ]
  },
  {
   "cell_type": "code",
   "execution_count": null,
   "metadata": {},
   "outputs": [],
   "source": [
    "\"\"\"Auth\"\"\"\n",
    "\"\"\" shopify not working :(\"\"\"\n",
    "\n",
    "from composio import ComposioToolSet, App\n",
    "\n",
    "toolset = ComposioToolSet()\n",
    "entity = toolset.get_entity()\n",
    "request = entity.initiate_connection(App.SHOPIFY)\n",
    "\n",
    "print(f\"Open this URL to authenticate: {request.redirectUrl}\")\n"
   ]
  },
  {
   "cell_type": "code",
   "execution_count": null,
   "metadata": {},
   "outputs": [],
   "source": []
  },
  {
   "cell_type": "markdown",
   "metadata": {},
   "source": [
    "### Notion"
   ]
  },
  {
   "cell_type": "code",
   "execution_count": 38,
   "metadata": {},
   "outputs": [
    {
     "name": "stderr",
     "output_type": "stream",
     "text": [
      "[2024-11-24 02:13:41,224][INFO] Logging is set to INFO, use `logging_level` argument or `COMPOSIO_LOGGING_LEVEL` change this\n"
     ]
    },
    {
     "name": "stdout",
     "output_type": "stream",
     "text": [
      "Open this URL to authenticate: https://api.notion.com/v1/oauth/authorize?client_id=17eb9b75-7ad0-4fc1-b01d-12bb09271484&redirect_uri=https%3A%2F%2Fbackend.composio.dev%2Fapi%2Fv1%2Fauth-apps%2Fadd&scope=&response_type=code&owner=user&state=production_eyJhbGciOiJIUzI1NiIsInR5cCI6IkpXVCJ9.eyJjb25uZWN0aW9uSWQiOiI3ZWRlNWE2ZC1hY2Y3LTRiNmQtOTQyNi0xM2RjMWE0NjE2ZDMiLCJpbnRlZ3JhdGlvbklkIjoiZjk3MjE3MzctYWNjOC00MmY5LWFlMTgtZjk5NzM3MGFiZjQ3IiwiYXBwTmFtZSI6Im5vdGlvbiIsImNsaWVudEluZm8iOnsiY2xpZW50SWQiOiIwMTI3MTQ1OS04NjNmLTQ3NzAtYThhMy0xNjZhY2I3ODFmMzciLCJtZW1iZXJJZCI6IjJiZDI2MDVkLTJiOTgtNDBlOC1iYzU2LWY4ZDY2YTE1NjllYyJ9LCJpYXQiOjE3MzI0MTQ0MjJ9.MGqznQrMQaONYyL-xMbFLE1bizfNc9Eh-76rEhpMWSU&code_challenge=QK1DSIfYRAQgkR_gpLfvqZFPbZFJnSAh1V5qR-ml2YE&code_challenge_method=S256\n"
     ]
    }
   ],
   "source": [
    "\"\"\"Auth\"\"\"\n",
    "\n",
    "from composio import ComposioToolSet, App\n",
    "\n",
    "toolset = ComposioToolSet(entity_id=\"Jessica\")\n",
    "entity = toolset.get_entity()\n",
    "request = entity.initiate_connection(App.NOTION)\n",
    "\n",
    "print(f\"Open this URL to authenticate: {request.redirectUrl}\")\n"
   ]
  },
  {
   "cell_type": "code",
   "execution_count": 3,
   "metadata": {},
   "outputs": [
    {
     "name": "stderr",
     "output_type": "stream",
     "text": [
      "[2024-11-23 04:32:28,947][INFO] Logging is set to INFO, use `logging_level` argument or `COMPOSIO_LOGGING_LEVEL` change this\n"
     ]
    }
   ],
   "source": [
    "from composio_openai import ComposioToolSet, Action\n",
    "from openai import OpenAI\n",
    "\n",
    "openai_client = OpenAI()\n",
    "composio_toolset = ComposioToolSet(entity_id=\"Jessica\")\n"
   ]
  },
  {
   "cell_type": "code",
   "execution_count": 16,
   "metadata": {},
   "outputs": [
    {
     "name": "stderr",
     "output_type": "stream",
     "text": [
      "[2024-11-23 04:57:43,155][INFO] Executing `NOTION_SEARCH_NOTION_PAGE` with params={'query': 'DevOps DB', 'filter_value': 'database'} and metadata={} connected_account_id=None\n",
      "[2024-11-23 04:57:46,528][INFO] Got response={'successfull': True, 'data': {'response_data': {'object': 'list', 'results': [{'object': 'database', 'id': '11b53e39-0487-804b-bca4-dd524767939b', 'cover': {'type': 'external', 'external': {'url': 'https://www.notion.so/images/page-cover/nasa...\n"
     ]
    },
    {
     "name": "stdout",
     "output_type": "stream",
     "text": [
      "DB ID: 11b53e39-0487-804b-bca4-dd524767939b\n"
     ]
    }
   ],
   "source": [
    "today = datetime.now().strftime(\"%Y-%m-%d\")\n",
    "task = \"get the DB id for DevOps DB\"\n",
    "\n",
    "# Update the tools to include search capability\n",
    "tools = composio_toolset.get_tools(actions=[\n",
    "    Action.NOTION_SEARCH_NOTION_PAGE])\n",
    "\n",
    "# First, let's search for your database\n",
    "search_response = openai_client.chat.completions.create(\n",
    "    model=\"gpt-4o\",\n",
    "    tools=tools,\n",
    "    messages=[\n",
    "        {\"role\": \"system\", \"content\": \"You are a helpful assistant.\"},\n",
    "        {\"role\": \"user\", \"content\": \"Search for a database called DevOps DB in my Notion workspace\"},\n",
    "    ],\n",
    ")\n",
    "search_result = composio_toolset.handle_tool_calls(search_response)\n",
    "\n",
    "db_id = search_result[0]['data']['response_data']['results'][0]['id']\n",
    "print(\"DB ID:\", db_id)\n",
    "\n",
    "task = f\"get the page to do's in DB with id {db_id}\"\n",
    "\n",
    "# Update the tools to include search capability\n",
    "tools = composio_toolset.get_tools(actions=[\n",
    "    Action.NOTION_QUERY_DATABASE])\n",
    "\n",
    "search_response = openai_client.chat.completions.create(\n",
    "    model=\"gpt-4o\",\n",
    "    tools=tools,\n",
    "    messages=[\n",
    "        {\"role\": \"system\", \"content\": \"You are a helpful assistant.\"},\n",
    "        {\"role\": \"user\", \"content\": \"Search for a database called DevOps DB in my Notion workspace\"},\n",
    "    ],\n",
    ")\n",
    "search_result = composio_toolset.handle_tool_calls(search_response)\n",
    "\n"
   ]
  },
  {
   "cell_type": "code",
   "execution_count": 17,
   "metadata": {},
   "outputs": [
    {
     "name": "stdout",
     "output_type": "stream",
     "text": [
      "[]\n"
     ]
    }
   ],
   "source": [
    "print(search_result)\n"
   ]
  },
  {
   "cell_type": "markdown",
   "metadata": {},
   "source": [
    "### Google Calendar"
   ]
  },
  {
   "cell_type": "code",
   "execution_count": 5,
   "metadata": {},
   "outputs": [
    {
     "name": "stderr",
     "output_type": "stream",
     "text": [
      "[2024-11-23 04:40:44,386][INFO] Executing `GOOGLECALENDAR_CREATE_EVENT` with params={'calendar_id': 'primary', 'create_meeting_room': True, 'event_duration': '1h', 'start_datetime': '2024-11-24T17:30:00', 'summary': 'OpenAI Integration Meeting'} and metadata={} connected_account_id=None\n",
      "[2024-11-23 04:40:46,334][INFO] Got response={'successfull': True, 'data': {'response_data': {'kind': 'calendar#event', 'etag': '\"3464673691676000\"', 'id': 'i62bupprdrf2veopdjo7l7629k', 'status': 'confirmed', 'htmlLink': 'https://www.google.com/calendar/event?eid=aTYyYnVwcHJkcmYydmVvcGRq...\n"
     ]
    },
    {
     "name": "stdout",
     "output_type": "stream",
     "text": [
      "[{'successfull': True, 'data': {'response_data': {'kind': 'calendar#event', 'etag': '\"3464673691676000\"', 'id': 'i62bupprdrf2veopdjo7l7629k', 'status': 'confirmed', 'htmlLink': 'https://www.google.com/calendar/event?eid=aTYyYnVwcHJkcmYydmVvcGRqbzdsNzYyOWsgbWljaGFlbEBmbG93b24uYWk', 'created': '2024-11-23T04:40:45.000Z', 'updated': '2024-11-23T04:40:45.838Z', 'summary': 'OpenAI Integration Meeting', 'creator': {'email': 'michael@flowon.ai', 'self': True}, 'organizer': {'email': 'michael@flowon.ai', 'self': True}, 'start': {'dateTime': '2024-11-24T17:30:00Z', 'timeZone': 'UTC'}, 'end': {'dateTime': '2024-11-24T18:30:00Z', 'timeZone': 'UTC'}, 'iCalUID': 'i62bupprdrf2veopdjo7l7629k@google.com', 'sequence': 0, 'hangoutLink': 'https://meet.google.com/egu-qfzk-xcg', 'conferenceData': {'createRequest': {'requestId': '0a06f1a31bcb4b8fb75d8144fc6848fb', 'conferenceSolutionKey': {'type': 'hangoutsMeet'}, 'status': {'statusCode': 'success'}}, 'entryPoints': [{'entryPointType': 'video', 'uri': 'https://meet.google.com/egu-qfzk-xcg', 'label': 'meet.google.com/egu-qfzk-xcg'}, {'entryPointType': 'more', 'uri': 'https://tel.meet/egu-qfzk-xcg?pin=1947799691406', 'pin': '1947799691406'}, {'regionCode': 'US', 'entryPointType': 'phone', 'uri': 'tel:+1-786-886-2505', 'label': '+1 786-886-2505', 'pin': '107624680'}], 'conferenceSolution': {'key': {'type': 'hangoutsMeet'}, 'name': 'Google Meet', 'iconUri': 'https://fonts.gstatic.com/s/i/productlogos/meet_2020q4/v6/web-512dp/logo_meet_2020q4_color_2x_web_512dp.png'}, 'conferenceId': 'egu-qfzk-xcg'}, 'reminders': {'useDefault': True}, 'eventType': 'default'}}, 'error': None}]\n"
     ]
    }
   ],
   "source": [
    "\n",
    "tools = composio_toolset.get_tools(actions=[Action.GOOGLECALENDAR_CREATE_EVENT])\n",
    "\n",
    "task = \"Create a 1 hour meeting event at 5:30PM tomorrow regarding OpenAI Integration\"\n",
    "\n",
    "today = datetime.now().strftime(\"%Y-%m-%d\")\n",
    "\n",
    "response = openai_client.chat.completions.create(\n",
    "    model=\"gpt-4-turbo-preview\",\n",
    "    tools=tools,\n",
    "    messages=[\n",
    "        {\"role\": \"system\", \"content\": f\"You are a helpful assistant. Today's date is {today}.\"},\n",
    "        {\"role\": \"user\", \"content\": task},\n",
    "    ],\n",
    ")\n",
    "result = composio_toolset.handle_tool_calls(response)\n",
    "print(result)\n"
   ]
  }
 ],
 "metadata": {
  "kernelspec": {
   "display_name": "venv",
   "language": "python",
   "name": "python3"
  },
  "language_info": {
   "codemirror_mode": {
    "name": "ipython",
    "version": 3
   },
   "file_extension": ".py",
   "mimetype": "text/x-python",
   "name": "python",
   "nbconvert_exporter": "python",
   "pygments_lexer": "ipython3",
   "version": "3.12.7"
  }
 },
 "nbformat": 4,
 "nbformat_minor": 2
}
