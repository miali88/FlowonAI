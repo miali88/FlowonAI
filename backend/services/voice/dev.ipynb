{
 "cells": [
  {
   "cell_type": "code",
   "execution_count": 1,
   "metadata": {},
   "outputs": [],
   "source": [
    "base_url = \"https://api.greptile.com/v2/\"\n",
    "\n",
    "github = \"https://github.com/miali88/livekit_sdk\""
   ]
  },
  {
   "cell_type": "code",
   "execution_count": 7,
   "metadata": {},
   "outputs": [
    {
     "name": "stdout",
     "output_type": "stream",
     "text": [
      "sk-proj-4pViIUkmHbjE6CADLkyXT3BlbkFJyfi5SrX4nA68c5tPjlvK\n"
     ]
    }
   ],
   "source": [
    "print(greptile_api_key)"
   ]
  },
  {
   "cell_type": "code",
   "execution_count": 9,
   "metadata": {},
   "outputs": [
    {
     "name": "stdout",
     "output_type": "stream",
     "text": [
      "{'error': 'Invalid API key'}\n"
     ]
    }
   ],
   "source": [
    "import requests\n",
    "import os \n",
    "import sys \n",
    "from dotenv import load_dotenv\n",
    "\n",
    "load_dotenv()\n",
    "\n",
    "greptile_api_key = os.getenv(\"GREPTILE_API_KEY\")\n",
    "github_token = os.getenv(\"GITHUB_TOKEN\")\n",
    "\n",
    "url = 'https://api.greptile.com/v2/repositories'\n",
    "headers = {\n",
    "    'Authorization': f'Bearer {greptile_api_key}',\n",
    "    'X-Github-Token': github_token,\n",
    "    'Content-Type': 'application/json'\n",
    "}\n",
    "payload = {\n",
    "    \"remote\": \"github\",\n",
    "    \"repository\": \"miali88/livekit_sdk\",\n",
    "    \"branch\": \"main\"\n",
    "}\n",
    "\n",
    "response = requests.post(url, json=payload, headers=headers)\n",
    "print(response.json())\n"
   ]
  }
 ],
 "metadata": {
  "kernelspec": {
   "display_name": "venv",
   "language": "python",
   "name": "python3"
  },
  "language_info": {
   "codemirror_mode": {
    "name": "ipython",
    "version": 3
   },
   "file_extension": ".py",
   "mimetype": "text/x-python",
   "name": "python",
   "nbconvert_exporter": "python",
   "pygments_lexer": "ipython3",
   "version": "3.12.6"
  }
 },
 "nbformat": 4,
 "nbformat_minor": 2
}
