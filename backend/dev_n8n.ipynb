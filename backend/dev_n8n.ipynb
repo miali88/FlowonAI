{
 "cells": [
  {
   "cell_type": "markdown",
   "metadata": {},
   "source": [
    "#### API playground:\n",
    "- http://localhost:5678/api/v1/docs/\n",
    "\n",
    "#### webhook node to trigger a workflow:\n",
    "- https://docs.n8n.io/integrations/builtin/core-nodes/n8n-nodes-base.webhook/"
   ]
  },
  {
   "cell_type": "code",
   "execution_count": 9,
   "metadata": {},
   "outputs": [
    {
     "name": "stdout",
     "output_type": "stream",
     "text": [
      "{'createdAt': '2025-02-03T00:38:10.535Z', 'updatedAt': '2025-02-03T00:38:14.000Z', 'id': 'O4qPXKNUO8TOeBix', 'name': 'pipedrive', 'active': False, 'nodes': [{'parameters': {}, 'type': 'n8n-nodes-base.manualTrigger', 'typeVersion': 1, 'position': [0, 0], 'id': '0e3d263e-cff3-4a09-ba46-1d0d4002c048', 'name': 'When clicking ‘Test workflow’'}, {'parameters': {'resource': 'person', 'additionalFields': {}}, 'type': 'n8n-nodes-base.pipedrive', 'typeVersion': 1, 'position': [220, 0], 'id': '09be5b6c-e442-4666-975c-f2db7ac7799d', 'name': 'Pipedrive'}], 'connections': {'When clicking ‘Test workflow’': {'main': [[{'node': 'Pipedrive', 'type': 'main', 'index': 0}]]}}, 'settings': {'executionOrder': 'v1'}, 'staticData': None, 'meta': None, 'pinData': {}, 'versionId': 'e0a381da-15be-492e-a991-cf56c7d5254e', 'triggerCount': 0, 'shared': [{'createdAt': '2025-02-03T00:38:10.540Z', 'updatedAt': '2025-02-03T00:38:10.540Z', 'role': 'workflow:owner', 'workflowId': 'O4qPXKNUO8TOeBix', 'projectId': '3wPvbK5s9fR1u1T1', 'project': {'createdAt': '2025-02-02T23:47:00.956Z', 'updatedAt': '2025-02-03T00:12:03.987Z', 'id': '3wPvbK5s9fR1u1T1', 'name': 'Michael Ali <michael@flowon.ai>', 'type': 'personal', 'icon': None, 'projectRelations': [{'createdAt': '2025-02-02T23:47:00.957Z', 'updatedAt': '2025-02-02T23:47:00.957Z', 'role': 'project:personalOwner', 'userId': 'afd0ccb2-d204-4087-88f4-97dd758b9e98', 'projectId': '3wPvbK5s9fR1u1T1', 'user': {'createdAt': '2025-02-02T23:47:00.580Z', 'updatedAt': '2025-02-03T00:12:07.000Z', 'id': 'afd0ccb2-d204-4087-88f4-97dd758b9e98', 'email': 'michael@flowon.ai', 'firstName': 'Michael', 'lastName': 'Ali', 'personalizationAnswers': {'version': 'v4', 'personalization_survey_submitted_at': '2025-02-03T00:12:07.187Z', 'personalization_survey_n8n_version': '1.77.0'}, 'settings': {'userActivated': False}, 'role': 'global:owner', 'disabled': False, 'mfaEnabled': False, 'isPending': False, 'isOwner': True}}]}}], 'tags': []}\n"
     ]
    }
   ],
   "source": [
    "import os \n",
    "from dotenv import load_dotenv\n",
    "import requests\n",
    "\n",
    "load_dotenv()\n",
    "\n",
    "n8n_api_key = os.getenv('N8N_API_KEY')\n",
    "pipedrive_api_key = os.getenv('PIPEDRIVE_API_KEY')\n",
    "\n",
    "workflow_id = \"O4qPXKNUO8TOeBix\"\n",
    "\n",
    "# Fix 1: Use f-string to properly format the URL with the workflow_id\n",
    "url = f\"http://localhost:5678/api/v1/workflows/{workflow_id}\"\n",
    "\n",
    "headers = {\n",
    "    \"accept\": \"application/json\",\n",
    "    \"X-N8N-API-KEY\": n8n_api_key\n",
    "}\n",
    "\n",
    "response = requests.get(url, headers=headers)\n",
    "\n",
    "print(response.json())"
   ]
  },
  {
   "cell_type": "code",
   "execution_count": 10,
   "metadata": {},
   "outputs": [
    {
     "data": {
      "text/plain": [
       "{'createdAt': '2025-02-03T00:38:10.535Z',\n",
       " 'updatedAt': '2025-02-03T00:38:14.000Z',\n",
       " 'id': 'O4qPXKNUO8TOeBix',\n",
       " 'name': 'pipedrive',\n",
       " 'active': False,\n",
       " 'nodes': [{'parameters': {},\n",
       "   'type': 'n8n-nodes-base.manualTrigger',\n",
       "   'typeVersion': 1,\n",
       "   'position': [0, 0],\n",
       "   'id': '0e3d263e-cff3-4a09-ba46-1d0d4002c048',\n",
       "   'name': 'When clicking ‘Test workflow’'},\n",
       "  {'parameters': {'resource': 'person', 'additionalFields': {}},\n",
       "   'type': 'n8n-nodes-base.pipedrive',\n",
       "   'typeVersion': 1,\n",
       "   'position': [220, 0],\n",
       "   'id': '09be5b6c-e442-4666-975c-f2db7ac7799d',\n",
       "   'name': 'Pipedrive'}],\n",
       " 'connections': {'When clicking ‘Test workflow’': {'main': [[{'node': 'Pipedrive',\n",
       "      'type': 'main',\n",
       "      'index': 0}]]}},\n",
       " 'settings': {'executionOrder': 'v1'},\n",
       " 'staticData': None,\n",
       " 'meta': None,\n",
       " 'pinData': {},\n",
       " 'versionId': 'e0a381da-15be-492e-a991-cf56c7d5254e',\n",
       " 'triggerCount': 0,\n",
       " 'shared': [{'createdAt': '2025-02-03T00:38:10.540Z',\n",
       "   'updatedAt': '2025-02-03T00:38:10.540Z',\n",
       "   'role': 'workflow:owner',\n",
       "   'workflowId': 'O4qPXKNUO8TOeBix',\n",
       "   'projectId': '3wPvbK5s9fR1u1T1',\n",
       "   'project': {'createdAt': '2025-02-02T23:47:00.956Z',\n",
       "    'updatedAt': '2025-02-03T00:12:03.987Z',\n",
       "    'id': '3wPvbK5s9fR1u1T1',\n",
       "    'name': 'Michael Ali <michael@flowon.ai>',\n",
       "    'type': 'personal',\n",
       "    'icon': None,\n",
       "    'projectRelations': [{'createdAt': '2025-02-02T23:47:00.957Z',\n",
       "      'updatedAt': '2025-02-02T23:47:00.957Z',\n",
       "      'role': 'project:personalOwner',\n",
       "      'userId': 'afd0ccb2-d204-4087-88f4-97dd758b9e98',\n",
       "      'projectId': '3wPvbK5s9fR1u1T1',\n",
       "      'user': {'createdAt': '2025-02-02T23:47:00.580Z',\n",
       "       'updatedAt': '2025-02-03T00:12:07.000Z',\n",
       "       'id': 'afd0ccb2-d204-4087-88f4-97dd758b9e98',\n",
       "       'email': 'michael@flowon.ai',\n",
       "       'firstName': 'Michael',\n",
       "       'lastName': 'Ali',\n",
       "       'personalizationAnswers': {'version': 'v4',\n",
       "        'personalization_survey_submitted_at': '2025-02-03T00:12:07.187Z',\n",
       "        'personalization_survey_n8n_version': '1.77.0'},\n",
       "       'settings': {'userActivated': False},\n",
       "       'role': 'global:owner',\n",
       "       'disabled': False,\n",
       "       'mfaEnabled': False,\n",
       "       'isPending': False,\n",
       "       'isOwner': True}}]}}],\n",
       " 'tags': []}"
      ]
     },
     "execution_count": 10,
     "metadata": {},
     "output_type": "execute_result"
    }
   ],
   "source": [
    "response.json()"
   ]
  },
  {
   "cell_type": "code",
   "execution_count": null,
   "metadata": {},
   "outputs": [],
   "source": []
  }
 ],
 "metadata": {
  "kernelspec": {
   "display_name": "venv",
   "language": "python",
   "name": "python3"
  },
  "language_info": {
   "codemirror_mode": {
    "name": "ipython",
    "version": 3
   },
   "file_extension": ".py",
   "mimetype": "text/x-python",
   "name": "python",
   "nbconvert_exporter": "python",
   "pygments_lexer": "ipython3",
   "version": "3.12.8"
  }
 },
 "nbformat": 4,
 "nbformat_minor": 2
}
