{
 "cells": [
  {
   "cell_type": "markdown",
   "metadata": {},
   "source": [
    "#### API playground:\n",
    "- http://localhost:5678/api/v1/docs/\n",
    "\n",
    "#### webhook node to trigger a workflow:\n",
    "- https://docs.n8n.io/integrations/builtin/core-nodes/n8n-nodes-base.webhook/"
   ]
  },
  {
   "cell_type": "code",
   "execution_count": 11,
   "metadata": {},
   "outputs": [
    {
     "name": "stdout",
     "output_type": "stream",
     "text": [
      "{'createdAt': '2025-02-03T02:01:59.909Z', 'updatedAt': '2025-02-03T14:50:47.000Z', 'id': 'b4q9ERjZL74pYmJz', 'name': 'Demo: My first AI Agent in n8n', 'active': False, 'nodes': [{'parameters': {'operation': 'getAll', 'calendar': {'__rl': True, 'mode': 'list'}, 'returnAll': True, 'options': {'timeMin': \"={{ $fromAI('after', 'The earliest datetime we want to look for events for') }}\", 'timeMax': \"={{ $fromAI('before', 'The latest datetime we want to look for events for') }}\", 'singleEvents': True, 'query': \"={{ $fromAI('query', 'The search query to look for in the calendar. Leave empty if no search query is needed') }}\"}}, 'id': '0d7e4666-bc0e-489a-9e8f-a5ef191f4954', 'name': 'Google Calendar', 'type': 'n8n-nodes-base.googleCalendarTool', 'typeVersion': 1.2, 'position': [880, 220], 'credentials': {'googleCalendarOAuth2Api': {'id': 'ddoQPcz4ZuywwTGu', 'name': 'Google Calendar account'}}}, {'parameters': {'options': {}}, 'id': '5b410409-5b0b-47bd-b413-5b9b1000a063', 'name': 'When chat message received', 'type': '@n8n/n8n-nodes-langchain.chatTrigger', 'typeVersion': 1.1, 'position': [360, 20], 'webhookId': 'a889d2ae-2159-402f-b326-5f61e90f602e'}, {'parameters': {'options': {'systemMessage': \"=You're a helpful assistant that the user to answer questions about their calendar.\\n\\nToday is {{ $now.format('cccc') }} the {{ $now.format('yyyy-MM-dd HH:mm') }}.\"}}, 'id': '29963449-1dc1-487d-96f2-7ff0a5c3cd97', 'name': 'AI Agent', 'type': '@n8n/n8n-nodes-langchain.agent', 'typeVersion': 1.7, 'position': [560, 20]}, {'parameters': {'content': '## 👋 Welcome to n8n!\\nThis example shows how to build an AI Agent that interacts with your \\ncalendar.\\n\\n### 1. Connect your accounts\\n- Set up your [OpenAI credentials](https://docs.n8n.io/integrations/builtin/credentials/openai/?utm_source=n8n_app&utm_medium=credential_settings&utm_campaign=create_new_credentials_modal) in the `OpenAI Model` node \\n- Connect your Google account in the `Google Calendar` node credentials section\\n\\n### 2. Ready to test it?\\nClick Chat below and start asking questions! For example you can try `What meetings do I have today?`', 'height': 389, 'width': 319, 'color': 6}, 'id': 'eae35513-07c2-4de2-a795-a153b6934c1b', 'name': 'Sticky Note', 'type': 'n8n-nodes-base.stickyNote', 'typeVersion': 1, 'position': [0, 0]}, {'parameters': {'content': \"\\n\\n\\n\\n\\n\\n\\n\\n\\n\\n\\n\\nDon't have **Google Calendar**? Simply exchange this with the **Microsoft Outlook** or other tools\", 'height': 253, 'width': 226, 'color': 7}, 'id': '68b59889-7aca-49fd-a49b-d86fa6239b96', 'name': 'Sticky Note1', 'type': 'n8n-nodes-base.stickyNote', 'typeVersion': 1, 'position': [900, 280]}, {'parameters': {'options': {}}, 'id': 'cbaedf86-9153-4778-b893-a7e50d3e04ba', 'name': 'OpenAI Model', 'type': '@n8n/n8n-nodes-langchain.lmChatOpenAi', 'typeVersion': 1, 'position': [520, 220], 'credentials': {'openAiApi': {'id': 'Z1ZiGWv6ZI0hyD3t', 'name': 'OpenAi account'}}}, {'parameters': {}, 'id': '75481370-bade-4d90-a878-3a3b0201edcc', 'name': 'Memory', 'type': '@n8n/n8n-nodes-langchain.memoryBufferWindow', 'typeVersion': 1.3, 'position': [680, 220]}, {'parameters': {'content': '### Want to learn more?\\nWant to learn more about AI and how to apply it best in n8n? Have a look at our [new tutorial series on YouTube](https://www.youtube.com/watch?v=yzvLfHb0nqE&lc).', 'height': 100, 'width': 317, 'color': 6}, 'id': '907552eb-6e0f-472e-9d90-4513a67a31db', 'name': 'Sticky Note3', 'type': 'n8n-nodes-base.stickyNote', 'typeVersion': 1, 'position': [0, 400]}], 'connections': {'Google Calendar': {'ai_tool': [[{'node': 'AI Agent', 'type': 'ai_tool', 'index': 0}]]}, 'When chat message received': {'main': [[{'node': 'AI Agent', 'type': 'main', 'index': 0}]]}, 'OpenAI Model': {'ai_languageModel': [[{'node': 'AI Agent', 'type': 'ai_languageModel', 'index': 0}]]}, 'Memory': {'ai_memory': [[{'node': 'AI Agent', 'type': 'ai_memory', 'index': 0}]]}}, 'settings': {'executionOrder': 'v1'}, 'staticData': None, 'meta': {'templateCredsSetupCompleted': True}, 'pinData': {}, 'versionId': 'd5d00377-5804-4f31-ad5e-eaaeb167c5d6', 'triggerCount': 0, 'shared': [{'createdAt': '2025-02-03T02:01:59.913Z', 'updatedAt': '2025-02-03T02:01:59.913Z', 'role': 'workflow:owner', 'workflowId': 'b4q9ERjZL74pYmJz', 'projectId': '3wPvbK5s9fR1u1T1', 'project': {'createdAt': '2025-02-02T23:47:00.956Z', 'updatedAt': '2025-02-03T00:12:03.987Z', 'id': '3wPvbK5s9fR1u1T1', 'name': 'Michael Ali <michael@flowon.ai>', 'type': 'personal', 'icon': None, 'projectRelations': [{'createdAt': '2025-02-02T23:47:00.957Z', 'updatedAt': '2025-02-02T23:47:00.957Z', 'role': 'project:personalOwner', 'userId': 'afd0ccb2-d204-4087-88f4-97dd758b9e98', 'projectId': '3wPvbK5s9fR1u1T1', 'user': {'createdAt': '2025-02-02T23:47:00.580Z', 'updatedAt': '2025-02-03T02:02:00.238Z', 'id': 'afd0ccb2-d204-4087-88f4-97dd758b9e98', 'email': 'michael@flowon.ai', 'firstName': 'Michael', 'lastName': 'Ali', 'personalizationAnswers': {'version': 'v4', 'personalization_survey_submitted_at': '2025-02-03T00:12:07.187Z', 'personalization_survey_n8n_version': '1.77.0'}, 'settings': {'userActivated': False, 'easyAIWorkflowOnboarded': True}, 'role': 'global:owner', 'disabled': False, 'mfaEnabled': False, 'isPending': False, 'isOwner': True}}]}}], 'tags': []}\n"
     ]
    }
   ],
   "source": [
    "import os \n",
    "from dotenv import load_dotenv\n",
    "import requests\n",
    "\n",
    "load_dotenv()\n",
    "\n",
    "n8n_api_key = os.getenv('N8N_API_KEY')\n",
    "pipedrive_api_key = os.getenv('PIPEDRIVE_API_KEY')\n",
    "\n",
    "workflow_id = \"b4q9ERjZL74pYmJz\"\n",
    "\n",
    "# Fix 1: Use f-string to properly format the URL with the workflow_id\n",
    "url = f\"http://localhost:5678/api/v1/workflows/{workflow_id}\"\n",
    "\n",
    "headers = {\n",
    "    \"accept\": \"application/json\",\n",
    "    \"X-N8N-API-KEY\": n8n_api_key\n",
    "}\n",
    "\n",
    "response = requests.get(url, headers=headers)\n",
    "\n",
    "print(response.json())"
   ]
  },
  {
   "cell_type": "code",
   "execution_count": 12,
   "metadata": {},
   "outputs": [
    {
     "data": {
      "text/plain": [
       "{'createdAt': '2025-02-03T02:01:59.909Z',\n",
       " 'updatedAt': '2025-02-03T14:50:47.000Z',\n",
       " 'id': 'b4q9ERjZL74pYmJz',\n",
       " 'name': 'Demo: My first AI Agent in n8n',\n",
       " 'active': False,\n",
       " 'nodes': [{'parameters': {'operation': 'getAll',\n",
       "    'calendar': {'__rl': True, 'mode': 'list'},\n",
       "    'returnAll': True,\n",
       "    'options': {'timeMin': \"={{ $fromAI('after', 'The earliest datetime we want to look for events for') }}\",\n",
       "     'timeMax': \"={{ $fromAI('before', 'The latest datetime we want to look for events for') }}\",\n",
       "     'singleEvents': True,\n",
       "     'query': \"={{ $fromAI('query', 'The search query to look for in the calendar. Leave empty if no search query is needed') }}\"}},\n",
       "   'id': '0d7e4666-bc0e-489a-9e8f-a5ef191f4954',\n",
       "   'name': 'Google Calendar',\n",
       "   'type': 'n8n-nodes-base.googleCalendarTool',\n",
       "   'typeVersion': 1.2,\n",
       "   'position': [880, 220],\n",
       "   'credentials': {'googleCalendarOAuth2Api': {'id': 'ddoQPcz4ZuywwTGu',\n",
       "     'name': 'Google Calendar account'}}},\n",
       "  {'parameters': {'options': {}},\n",
       "   'id': '5b410409-5b0b-47bd-b413-5b9b1000a063',\n",
       "   'name': 'When chat message received',\n",
       "   'type': '@n8n/n8n-nodes-langchain.chatTrigger',\n",
       "   'typeVersion': 1.1,\n",
       "   'position': [360, 20],\n",
       "   'webhookId': 'a889d2ae-2159-402f-b326-5f61e90f602e'},\n",
       "  {'parameters': {'options': {'systemMessage': \"=You're a helpful assistant that the user to answer questions about their calendar.\\n\\nToday is {{ $now.format('cccc') }} the {{ $now.format('yyyy-MM-dd HH:mm') }}.\"}},\n",
       "   'id': '29963449-1dc1-487d-96f2-7ff0a5c3cd97',\n",
       "   'name': 'AI Agent',\n",
       "   'type': '@n8n/n8n-nodes-langchain.agent',\n",
       "   'typeVersion': 1.7,\n",
       "   'position': [560, 20]},\n",
       "  {'parameters': {'content': '## 👋 Welcome to n8n!\\nThis example shows how to build an AI Agent that interacts with your \\ncalendar.\\n\\n### 1. Connect your accounts\\n- Set up your [OpenAI credentials](https://docs.n8n.io/integrations/builtin/credentials/openai/?utm_source=n8n_app&utm_medium=credential_settings&utm_campaign=create_new_credentials_modal) in the `OpenAI Model` node \\n- Connect your Google account in the `Google Calendar` node credentials section\\n\\n### 2. Ready to test it?\\nClick Chat below and start asking questions! For example you can try `What meetings do I have today?`',\n",
       "    'height': 389,\n",
       "    'width': 319,\n",
       "    'color': 6},\n",
       "   'id': 'eae35513-07c2-4de2-a795-a153b6934c1b',\n",
       "   'name': 'Sticky Note',\n",
       "   'type': 'n8n-nodes-base.stickyNote',\n",
       "   'typeVersion': 1,\n",
       "   'position': [0, 0]},\n",
       "  {'parameters': {'content': \"\\n\\n\\n\\n\\n\\n\\n\\n\\n\\n\\n\\nDon't have **Google Calendar**? Simply exchange this with the **Microsoft Outlook** or other tools\",\n",
       "    'height': 253,\n",
       "    'width': 226,\n",
       "    'color': 7},\n",
       "   'id': '68b59889-7aca-49fd-a49b-d86fa6239b96',\n",
       "   'name': 'Sticky Note1',\n",
       "   'type': 'n8n-nodes-base.stickyNote',\n",
       "   'typeVersion': 1,\n",
       "   'position': [900, 280]},\n",
       "  {'parameters': {'options': {}},\n",
       "   'id': 'cbaedf86-9153-4778-b893-a7e50d3e04ba',\n",
       "   'name': 'OpenAI Model',\n",
       "   'type': '@n8n/n8n-nodes-langchain.lmChatOpenAi',\n",
       "   'typeVersion': 1,\n",
       "   'position': [520, 220],\n",
       "   'credentials': {'openAiApi': {'id': 'Z1ZiGWv6ZI0hyD3t',\n",
       "     'name': 'OpenAi account'}}},\n",
       "  {'parameters': {},\n",
       "   'id': '75481370-bade-4d90-a878-3a3b0201edcc',\n",
       "   'name': 'Memory',\n",
       "   'type': '@n8n/n8n-nodes-langchain.memoryBufferWindow',\n",
       "   'typeVersion': 1.3,\n",
       "   'position': [680, 220]},\n",
       "  {'parameters': {'content': '### Want to learn more?\\nWant to learn more about AI and how to apply it best in n8n? Have a look at our [new tutorial series on YouTube](https://www.youtube.com/watch?v=yzvLfHb0nqE&lc).',\n",
       "    'height': 100,\n",
       "    'width': 317,\n",
       "    'color': 6},\n",
       "   'id': '907552eb-6e0f-472e-9d90-4513a67a31db',\n",
       "   'name': 'Sticky Note3',\n",
       "   'type': 'n8n-nodes-base.stickyNote',\n",
       "   'typeVersion': 1,\n",
       "   'position': [0, 400]}],\n",
       " 'connections': {'Google Calendar': {'ai_tool': [[{'node': 'AI Agent',\n",
       "      'type': 'ai_tool',\n",
       "      'index': 0}]]},\n",
       "  'When chat message received': {'main': [[{'node': 'AI Agent',\n",
       "      'type': 'main',\n",
       "      'index': 0}]]},\n",
       "  'OpenAI Model': {'ai_languageModel': [[{'node': 'AI Agent',\n",
       "      'type': 'ai_languageModel',\n",
       "      'index': 0}]]},\n",
       "  'Memory': {'ai_memory': [[{'node': 'AI Agent',\n",
       "      'type': 'ai_memory',\n",
       "      'index': 0}]]}},\n",
       " 'settings': {'executionOrder': 'v1'},\n",
       " 'staticData': None,\n",
       " 'meta': {'templateCredsSetupCompleted': True},\n",
       " 'pinData': {},\n",
       " 'versionId': 'd5d00377-5804-4f31-ad5e-eaaeb167c5d6',\n",
       " 'triggerCount': 0,\n",
       " 'shared': [{'createdAt': '2025-02-03T02:01:59.913Z',\n",
       "   'updatedAt': '2025-02-03T02:01:59.913Z',\n",
       "   'role': 'workflow:owner',\n",
       "   'workflowId': 'b4q9ERjZL74pYmJz',\n",
       "   'projectId': '3wPvbK5s9fR1u1T1',\n",
       "   'project': {'createdAt': '2025-02-02T23:47:00.956Z',\n",
       "    'updatedAt': '2025-02-03T00:12:03.987Z',\n",
       "    'id': '3wPvbK5s9fR1u1T1',\n",
       "    'name': 'Michael Ali <michael@flowon.ai>',\n",
       "    'type': 'personal',\n",
       "    'icon': None,\n",
       "    'projectRelations': [{'createdAt': '2025-02-02T23:47:00.957Z',\n",
       "      'updatedAt': '2025-02-02T23:47:00.957Z',\n",
       "      'role': 'project:personalOwner',\n",
       "      'userId': 'afd0ccb2-d204-4087-88f4-97dd758b9e98',\n",
       "      'projectId': '3wPvbK5s9fR1u1T1',\n",
       "      'user': {'createdAt': '2025-02-02T23:47:00.580Z',\n",
       "       'updatedAt': '2025-02-03T02:02:00.238Z',\n",
       "       'id': 'afd0ccb2-d204-4087-88f4-97dd758b9e98',\n",
       "       'email': 'michael@flowon.ai',\n",
       "       'firstName': 'Michael',\n",
       "       'lastName': 'Ali',\n",
       "       'personalizationAnswers': {'version': 'v4',\n",
       "        'personalization_survey_submitted_at': '2025-02-03T00:12:07.187Z',\n",
       "        'personalization_survey_n8n_version': '1.77.0'},\n",
       "       'settings': {'userActivated': False, 'easyAIWorkflowOnboarded': True},\n",
       "       'role': 'global:owner',\n",
       "       'disabled': False,\n",
       "       'mfaEnabled': False,\n",
       "       'isPending': False,\n",
       "       'isOwner': True}}]}}],\n",
       " 'tags': []}"
      ]
     },
     "execution_count": 12,
     "metadata": {},
     "output_type": "execute_result"
    }
   ],
   "source": [
    "response.json()"
   ]
  },
  {
   "cell_type": "code",
   "execution_count": 6,
   "metadata": {},
   "outputs": [
    {
     "name": "stdout",
     "output_type": "stream",
     "text": [
      "{'name': 'user_xyz_openai_api_key', 'type': 'openAiApi', 'id': '5569Rhng03wdMDDp', 'createdAt': '2025-02-03T15:11:38.239Z', 'updatedAt': '2025-02-03T15:11:38.239Z', 'isManaged': False}\n"
     ]
    }
   ],
   "source": [
    "import os \n",
    "from dotenv import load_dotenv\n",
    "import requests\n",
    "\n",
    "load_dotenv()\n",
    "\n",
    "n8n_api_key = os.getenv('N8N_API_KEY')\n",
    "\n",
    "url = \"http://localhost:5678/api/v1/credentials\"\n",
    "\n",
    "headers = {\n",
    "    \"accept\": \"application/json\",\n",
    "    \"content-type\": \"application/json\",  # Added content-type header\n",
    "    \"X-N8N-API-KEY\": n8n_api_key\n",
    "}\n",
    "\n",
    "body = {\n",
    "    \"name\": \"user_xyz_openai_api_key\",\n",
    "    \"type\": \"openAiApi\",\n",
    "    \"data\": {\n",
    "        \"apiKey\": \"ada612vad6fa5df4adf5a5dsf4389adsf76da7s\"\n",
    "    }\n",
    "}\n",
    "\n",
    "# Added json parameter to the POST request\n",
    "response = requests.post(url, headers=headers, json=body)\n",
    "\n",
    "print(response.json())"
   ]
  },
  {
   "cell_type": "code",
   "execution_count": 13,
   "metadata": {},
   "outputs": [
    {
     "name": "stdout",
     "output_type": "stream",
     "text": [
      "Error: 404 Client Error: Not Found for url: http://localhost:5678/rest/auth/login\n"
     ]
    }
   ],
   "source": [
    "import requests\n",
    "\n",
    "def get_credentials_with_auth(base_url: str, email: str, password: str):\n",
    "    # 1. First authenticate and get session cookie\n",
    "    auth_url = f\"{base_url}/auth/login\"\n",
    "    session = requests.Session()\n",
    "    \n",
    "    login_data = {\n",
    "        \"email\": email,\n",
    "        \"password\": password\n",
    "    }\n",
    "    \n",
    "    # Login to get session\n",
    "    auth_response = session.post(auth_url, json=login_data)\n",
    "    auth_response.raise_for_status()\n",
    "    \n",
    "    # 2. Now use the authenticated session to get credentials\n",
    "    creds_url = f\"{base_url}/credentials\"\n",
    "    params = {\n",
    "        \"includeData\": True,\n",
    "        \"includeScopes\": True\n",
    "    }\n",
    "    \n",
    "    response = session.get(creds_url, params=params)\n",
    "    response.raise_for_status()\n",
    "    return response.json()\n",
    "\n",
    "# Example usage\n",
    "base_url = \"http://localhost:5678/rest\"\n",
    "email = \"michael@flowon.ai\"\n",
    "password = \"FuJkM7SjUFWk6iD\"\n",
    "\n",
    "try:\n",
    "    credentials = get_credentials_with_auth(base_url, email, password)\n",
    "    print(credentials)\n",
    "except requests.exceptions.RequestException as e:\n",
    "    print(f\"Error: {e}\")"
   ]
  },
  {
   "cell_type": "markdown",
   "metadata": {},
   "source": [
    "### Store credential ids in your database. Flowon can take the credential, and then include in the workflow. i.e:\n",
    "\n",
    "   'credentials': {'openAiApi': {'id': 'Z1ZiGWv6ZI0hyD3t',\n",
    "     'name': 'OpenAi account'}}},"
   ]
  },
  {
   "cell_type": "markdown",
   "metadata": {},
   "source": []
  }
 ],
 "metadata": {
  "kernelspec": {
   "display_name": "venv",
   "language": "python",
   "name": "python3"
  },
  "language_info": {
   "codemirror_mode": {
    "name": "ipython",
    "version": 3
   },
   "file_extension": ".py",
   "mimetype": "text/x-python",
   "name": "python",
   "nbconvert_exporter": "python",
   "pygments_lexer": "ipython3",
   "version": "3.12.8"
  }
 },
 "nbformat": 4,
 "nbformat_minor": 2
}
