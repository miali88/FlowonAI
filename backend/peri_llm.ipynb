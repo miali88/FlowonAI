{
 "cells": [
  {
   "cell_type": "code",
   "execution_count": 1,
   "metadata": {},
   "outputs": [],
   "source": [
    "# # Install with pip install firecrawl-py\n",
    "from firecrawl import FirecrawlApp\n",
    "import requests\n",
    "import json\n",
    "import os \n",
    "from tiktoken import encoding_for_model\n",
    "from supabase import create_client, Client\n",
    "from dotenv import load_dotenv  \n",
    "\n",
    "load_dotenv()\n",
    "\n",
    "FIRECRAWL_API = os.getenv(\"FIRECRAWL_API_KEY\")\n",
    "app = FirecrawlApp(api_key=FIRECRAWL_API)\n",
    "\n",
    "async def count_tokens(text, model=\"gpt-4o\"):\n",
    "    encoder = encoding_for_model(model)\n",
    "    tokens = encoder.encode(text)\n",
    "    return len(tokens)\n",
    "\n",
    "JINA_API_KEY = os.getenv('JINA_API_KEY')\n",
    "async def get_embedding(text):\n",
    "    \"\"\" JINA EMBEDDINGS \"\"\"\n",
    "    url = 'https://api.jina.ai/v1/embeddings'\n",
    "    headers = {\n",
    "        'Content-Type': 'application/json',\n",
    "        'Authorization': f'Bearer {JINA_API_KEY}'\n",
    "    }\n",
    "\n",
    "    data = {\n",
    "        \"model\": \"jina-embeddings-v3\",\n",
    "        \"task\": \"retrieval.passage\",\n",
    "        \"dimensions\": 1024,\n",
    "        \"late_chunking\": False,\n",
    "        \"embedding_type\": \"float\",\n",
    "        \"input\": text\n",
    "    }\n",
    "    response = requests.post(url, headers=headers, data=json.dumps(data))\n",
    "    return response.json()#['data'][0]['embedding']\n",
    "\n",
    "async def sliding_window_chunking(text, max_window_size=900, overlap=200):\n",
    "    encoder = encoding_for_model(\"gpt-4o\")  # Use the same model as in count_tokens\n",
    "    tokens = encoder.encode(text)\n",
    "    chunks = []\n",
    "    start = 0\n",
    "    while start < len(tokens):\n",
    "        end = start + max_window_size\n",
    "        chunk_tokens = tokens[start:end]\n",
    "        chunk = encoder.decode(chunk_tokens)\n",
    "        chunks.append(chunk)\n",
    "        start += max_window_size - overlap\n",
    "    return chunks\n",
    "\n",
    "SUPABASE_URL = os.getenv(\"SUPABASE_URL\")\n",
    "SUPABASE_SERVICE_ROLE_KEY = os.getenv(\"SUPABASE_SERVICE_ROLE_KEY\")\n",
    "SUPABASE_ANON_KEY = os.getenv(\"SUPABASE_KEY\")\n",
    "\n",
    "supabase: Client = create_client(SUPABASE_URL, SUPABASE_SERVICE_ROLE_KEY)\n",
    "\n",
    "# map_result = app.map_url('periperi.co.uk/', params={\n",
    "# \t'includeSubdomains': True\n",
    "# })\n",
    "\n",
    "async def insert_to_db(data):\n",
    "    print(\"inserting to db\")\n",
    "    supabase.table('user_web_data').insert(data).execute()\n",
    "\n"
   ]
  },
  {
   "cell_type": "code",
   "execution_count": 2,
   "metadata": {},
   "outputs": [],
   "source": [
    "peri_sites = [\"https://www.periperi.co.uk\",\n",
    " \"https://www.periperi.co.uk/gallery\",\n",
    " \"https://www.periperi.co.uk/party-organisers\",\n",
    " \"https://www.periperi.co.uk/marquee-management\",\n",
    " \"https://www.periperi.co.uk/event-production\",\n",
    " \"https://www.periperi.co.uk/venue-hire\",\n",
    " \"https://www.periperi.co.uk/wedding-planners\",\n",
    " \"https://www.periperi.co.uk/events-planners\",\n",
    " \"https://www.periperi.co.uk/event-caterers\",\n",
    " \"https://www.periperi.co.uk/party-planner\",\n",
    " \"https://www.periperi.co.uk/marquee-hire\",\n",
    " \"https://www.periperi.co.uk/corporate-events\",\n",
    " \"https://www.periperi.co.uk/private-festival-organiser\",\n",
    " \"https://www.periperi.co.uk/event-caterers/cocktails\",\n",
    " \"https://www.periperi.co.uk/event-planning-brochure\",\n",
    " \"https://www.periperi.co.uk/sitemap\",\n",
    " \"https://www.periperi.co.uk/event-production/event-logistics\",\n",
    " \"https://www.periperi.co.uk/marquee-hire/corporate-marquee\",\n",
    " \"https://www.periperi.co.uk/venue-hire/london-venues\",\n",
    " \"https://www.periperi.co.uk/marquee-hire/marquee-wedding\",\n",
    " \"https://www.periperi.co.uk/event-production/event-theming\",\n",
    " \"https://www.periperi.co.uk/event-caterers/party-caterers\",\n",
    " \"https://www.periperi.co.uk/corporate-events/conference-organisers\",\n",
    " \"https://www.periperi.co.uk/event-production/event-av\",\n",
    " \"https://www.periperi.co.uk/venue-hire/venue-search\",\n",
    " \"https://www.periperi.co.uk/party-planner/party-organiser\",\n",
    " \"https://www.periperi.co.uk/event-production/event-styling\",\n",
    " \"https://www.periperi.co.uk/venue-hire/marquee-venues\",\n",
    " \"https://www.periperi.co.uk/wedding-planners/wedding-catering\",\n",
    " \"https://www.periperi.co.uk/event-caterers/creative-catering\",\n",
    " \"https://www.periperi.co.uk/party-planner/party-planners\",\n",
    " \"https://www.periperi.co.uk/venue-hire/unique-venues\",\n",
    " \"https://www.periperi.co.uk/wedding-planners/wedding-planning\",\n",
    " \"https://www.periperi.co.uk/events-planners/event-organisers\",\n",
    " \"https://www.periperi.co.uk/corporate-events/awards-organiser\",\n",
    " \"https://www.periperi.co.uk/event-caterers/bespoke-catering\",\n",
    " \"https://www.periperi.co.uk/venue-hire/venue-finder\",\n",
    " \"https://www.periperi.co.uk/party-planner/party-venues\",\n",
    " \"https://www.periperi.co.uk/event-production/festival-organiser\",\n",
    " \"https://www.periperi.co.uk/wedding-planners/wedding-planner\",\n",
    " \"https://www.periperi.co.uk/event-caterers/event-catering\",\n",
    " \"https://www.periperi.co.uk/wedding-planners/wedding-organiser\",\n",
    " \"https://www.periperi.co.uk/marquee-hire/hire-marquee\",\n",
    " \"https://www.periperi.co.uk/events-planners/event-planner\",\n",
    " \"https://www.periperi.co.uk/party-planner/themed-events\",\n",
    " \"https://www.periperi.co.uk/event-production/production-company\",\n",
    " \"https://www.periperi.co.uk/party-planner/party-marquee\",\n",
    " \"https://www.periperi.co.uk/events-planners/events-planner-london\",\"https://www.periperi.co.uk/gallery/party-planner-uk-gallery\",\"https://www.periperi.co.uk/wedding-planners/wedding-marquee-hire\",\"https://www.periperi.co.uk/party-planner/party-planner-london\",\"https://www.periperi.co.uk/events-planners/corporate-event-planner\",\"https://www.periperi.co.uk/party-planner/birthday-party-planner\",\"https://www.periperi.co.uk/marquee-hire/luxury-marquee-hire\",\"https://www.periperi.co.uk/corporate-events/christmas-party-planner\",\"https://www.periperi.co.uk/events-planners/party-planner-uk\",\"https://www.periperi.co.uk/corporate-events/corporate-marquee-hire\",\"https://www.periperi.co.uk/wedding-planners/wedding-planner-london\",\"https://www.periperi.co.uk/events-planners/party-organiser-uk\",\"https://www.periperi.co.uk/marquee-hire/marquee-for-hire\",\"https://www.periperi.co.uk/corporate-events/corporate-event-companies\",\"https://www.periperi.co.uk/event-production/event-planning-company\",\"https://www.periperi.co.uk/marquee-hire/party-marquee-hire\",\"https://www.periperi.co.uk/event-caterers/high-end-caterers\",\"https://www.periperi.co.uk/corporate-events/charity-event-organiser\",\"https://www.periperi.co.uk/marquee-hire/marquee-hire-london\",\"https://www.periperi.co.uk/event-caterers/event-caterers-london\",\"https://www.periperi.co.uk/venue-hire/international-venue-finder\",\"https://www.periperi.co.uk/event-production/event-organisers-uk\",\"https://www.periperi.co.uk/party-planner/luxury-party-planner\",\"https://www.periperi.co.uk/event-caterers/bespoke-catering-london\",\"https://www.periperi.co.uk/event-inspiration\",\"https://www.periperi.co.uk/our-services\",\"https://www.periperi.co.uk/gallery/marquees\",\"https://www.periperi.co.uk/gallery/catering\",\"https://www.periperi.co.uk/our-insurance\",\"https://www.periperi.co.uk/gallery/weddings\",\"https://www.periperi.co.uk/narnia-themed-corporate-event-case-study\",\"https://www.periperi.co.uk/sx-launch\",\"https://www.periperi.co.uk/gallery/event-production\",\"https://www.periperi.co.uk/corporate-events/testimonials\",\"https://www.periperi.co.uk/health-safety-analysis\",\"https://www.periperi.co.uk/join-our-team\",\"https://www.periperi.co.uk/gallery/corporate-events\",\"https://www.periperi.co.uk/terms-and-conditions\",\"https://www.periperi.co.uk/external-contractor-management\",\"https://www.periperi.co.uk/rubec-house-2024\",\"https://www.periperi.co.uk/event-inspiration/page/2\",\"https://www.periperi.co.uk/clearscore-corporate-event-showcase\",\"https://www.periperi.co.uk/bar-alcohol-licensing-management\",\"https://www.periperi.co.uk/country-wedding-case-study\",\"https://www.periperi.co.uk/event-inspiration/page/3\",\"https://www.periperi.co.uk/greatest-showman-circus-theme\",\"https://www.periperi.co.uk/venue-hire/corporate-venues\",\"https://www.periperi.co.uk/our-proposals-planning-documents\",\"https://www.periperi.co.uk/our-price-fees-guide\",\"https://www.periperi.co.uk/power-electrical-equipment-management\",\"https://www.periperi.co.uk/catering-catering-equipment-management\",\"https://www.periperi.co.uk/greatest-show-themed-event\",\"https://www.periperi.co.uk/oktoberfest-themed-marquee-case-study\",\"https://www.periperi.co.uk/wedding-planners/wedding-planners-london\",\"https://www.periperi.co.uk/event-inspiration/category/party-inspiration\",\"https://www.periperi.co.uk/claridges-charity-dinner-case-study\",\"https://www.periperi.co.uk/event-inspiration/category/wedding-inspiration\",\"https://www.periperi.co.uk/support-from-our-event-team\",\"https://www.periperi.co.uk/bespoke-nightclub-marquee-on-a-slope\",\"https://www.periperi.co.uk/pdf/periperi-event-manager.pdf\",\"https://www.periperi.co.uk/themed-corporate-marquee-with-paddy-mcguinness\",\"https://www.periperi.co.uk/event-management-equipment-safety-kit-hire\",\"https://www.periperi.co.uk/pdf/periperi-trainee-event-manager.pdf\",\"https://www.periperi.co.uk/angela-hartnett-private-banquet-menu-design-case-study\",\"https://www.periperi.co.uk/in-depth-guide-to-what-is-included-in-our-event-management-fee\",\"https://www.periperi.co.uk/wp-content/uploads/2019/02/Peri-Peri-Public-Liability-Prof-Indemnity-2018.pdf\",\"https://www.periperi.co.uk/wp-content/uploads/2019/02/Peri-Peri-Public-Liability-Cert-2018.pdf\"]"
   ]
  },
  {
   "cell_type": "code",
   "execution_count": 3,
   "metadata": {},
   "outputs": [],
   "source": [
    "# sb_insert = {\n",
    "#     \"url\": \"\",\n",
    "#     \"header\": \"\",\n",
    "#     \"content\": \"\",\n",
    "#     \"token_count\": 0,\n",
    "#     \"jina_embedding\": \"\",\n",
    "#     \"user_id\": \"user_2mmXezcGmjZCf88gT2v2waCBsXv\"\n",
    "# }\n",
    "\n",
    "# go = False\n",
    "# for site in peri_sites:\n",
    "#     if site == \"https://www.periperi.co.uk/clearscore-corporate-event-showcase\":\n",
    "#         go = True\n",
    "#     print(site)\n",
    "    \n",
    "#     if go:\n",
    "#         try:\n",
    "#             response = app.scrape_url(url=site, params={\n",
    "#                 'formats': [ 'markdown' ],\n",
    "#                 'waitFor': 1000\n",
    "#             })\n",
    "\n",
    "#             content = [item for item in response['markdown'].split('\\n\\n') if not item.startswith('[![]')]\n",
    "#             content = \"\\n\\n\".join(content)\n",
    "#             header = \"## Title: \" + response['metadata']['title'] + \" ## Description: \" + response['metadata']['description']\n",
    "#             chunks = await sliding_window_chunking(content)\n",
    "\n",
    "#             for chunk in chunks: \n",
    "#                 print(f\"processing chunk {chunks.index(chunk)} of {len(chunks)}\")\n",
    "#                 sb_insert['url'] = site\n",
    "#                 sb_insert['header'] = header\n",
    "#                 sb_insert['content'] = chunk\n",
    "#                 chunk = header + chunk\n",
    "#                 jina_response = await get_embedding(chunk)\n",
    "#                 sb_insert['jina_embedding'] = jina_response['data'][0]['embedding']\n",
    "#                 sb_insert['token_count'] = jina_response['usage']['total_tokens']\n",
    "\n",
    "#                 await insert_to_db(sb_insert)\n",
    "#         except KeyError as e:\n",
    "#             print(f\"KeyError occurred for site {site}: {str(e)}\")\n",
    "#             continue\n"
   ]
  },
  {
   "cell_type": "code",
   "execution_count": 6,
   "metadata": {},
   "outputs": [
    {
     "name": "stdout",
     "output_type": "stream",
     "text": [
      "Number of records: 253\n"
     ]
    }
   ],
   "source": [
    "async def get_user_web_data(user_id):\n",
    "    response = supabase.table('user_web_data') \\\n",
    "        .select('*') \\\n",
    "        .eq('user_id', user_id) \\\n",
    "        .execute()\n",
    "    \n",
    "    return response.data\n",
    "\n",
    "# Usage\n",
    "user_id = \"user_2mmXezcGmjZCf88gT2v2waCBsXv\"\n",
    "user_web_data = await get_user_web_data(user_id)\n",
    "\n",
    "headers = [] \n",
    "for head in user_web_data:\n",
    "    headers.append(head['header'])\n",
    "\n",
    "# Create a set from the headers list to remove duplicates\n",
    "unique_headers = set(headers)\n",
    "\n",
    "# Convert the set back to a list\n",
    "unique_headers_list = list(unique_headers)"
   ]
  },
  {
   "cell_type": "code",
   "execution_count": 9,
   "metadata": {},
   "outputs": [
    {
     "name": "stdout",
     "output_type": "stream",
     "text": [
      "Total token count: 3259\n"
     ]
    }
   ],
   "source": [
    "unique_headers_list\n",
    "# Join the list elements into a single string\n",
    "unique_headers_string = \" \".join(unique_headers_list)\n",
    "# You can now use this string with the count_tokens function\n",
    "token_count = await count_tokens(unique_headers_string)\n",
    "print(f\"Total token count: {token_count}\")\n",
    "\n"
   ]
  },
  {
   "cell_type": "code",
   "execution_count": 11,
   "metadata": {},
   "outputs": [],
   "source": []
  },
  {
   "cell_type": "code",
   "execution_count": 22,
   "metadata": {},
   "outputs": [
    {
     "name": "stdout",
     "output_type": "stream",
     "text": [
      "\n",
      "\n",
      "\n",
      " =-[=-[=-[=-[=-[ \n",
      "\n",
      "\n",
      "\n",
      "messages: [{'role': 'user', 'content': \"## Title: Birthday Party Planner - Birthday party planners for major celebrations. ## Description: We provides bespoke birthday party planner services for all major celebrations - from elegant 40th, 50th & 60th events to extravagant 18th & 21st parties. ## Title: Wedding planning & wedding catering - award winning gourmet food design ## Description: Our Wedding planning team produce exquisite wedding catering - from gourmet seven course banquets to luxury canapés receptions, and global fusion catering. ## Title: Party Marquee Hire - Spectacular versatile marquees for your events. ## Description: Party Marquee Hire - Spectacular versatile marquees for your events. We specialise in building incredible event spaces using our stunning party marquees. ## Title: Event caterers London - exceptional events, exquisite catering ## Description: Event caterers London - we provide exceptional events & amazing catering services. We offer a full event solution, providing canapes, bowl food & banquets ## Title: Luxury party planner - providing performers, acts & entertainment ## Description: From international performing artists to themed stilt walkers with bespoke costumes, our luxury party planner team can provide amazing acts & entertainment. ## Title: Event Logistics - Delivering events on time & on budget ## Description: Event Logistics - Our experienced production team deliver events - whatever the weather; whatever the environment, whatever the site conditions. ## Title: Bespoke Cocktails - Sensational gourmet cocktails for the best cocktail party ## Description: Bespoke Cocktails - Sensational gourmet cocktails for the best cocktail party. We create cocktails with passion, theatre and exquisite looks & taste ## Title: Party Planner UK Gallery - All the visuals from our latest events – Peri Peri ## Description: Party Planner UK Gallery - Photographs and eventscapes from private parties and events. Visuals from our expert party planner team. ## Title: Christmas Party Planner - Professional corporate event specialists. ## Description: The best Christmas party planner. We produce epic seasonal parties - from venue sourcing to final delivery. We provide a complete Christmas party solution. ## Title: Unique venue hire - Incredible venues and epic locations for the perfect event ## Description: Venue Hire - We provide detailed venue finding services, with years of experience organising the world's best events, we have an unsurpassed venue database. ## Title: Wedding Planning Professionals - supplying exceptional wedding production services. ## Description: Wedding Planning Professionals - supplying exceptional wedding production services. Creating gorgeous, wedding environments for your celebrations. ## Title: Luxury wedding designer - Leading wedding planner, marquees, venues & more. ## Description: Call now to make an enquiry and discover how our award winning wedding planner services and formidable wedding design team can help you plan your big day. ## Title: Creating your dream themed hire marquee - lavish interiors, props & decor. ## Description: We work with you to create your dream event environment - we use amazing bars, wonderful sets, props & furniture to build your perfect hire marquee. ## Title: Festival Organiser - We organise amazing private festivals ## Description: Festival Organiser - we provide complete festival solutions for events in London and throughout the UK. We supply marquees, stages & acts for bespoke events ## Title: Event & Party Caterers - exquisite canapés and bowl food, elegantly displayed ## Description: Event & Party Caterers - we provide exquisite canapés & bowl food, using polite efficient staff and visually stunning displays to create your perfect event. ## Title: Luxury Marquee Hire services - Creating the perfect space for your event ## Description: Luxury Marquee Hire services - Creating the perfect space for your event. With years of experience, we design and build your perfect event environment. ## Title: Gourmet Event Caterers - Exceptional bespoke catering services for your next event. ## Description: Gourmet Event Caterers - Exceptional bespoke catering services for your event. We specialise in providing creative fine dining experiences for your guests. ## Title: Event Planning - professional event management & total event solutions ## Description: Peri Peri provides complete event planning solutions - specialising in bespoke party planning, marquees, wedding planning & corporate events ## Title: High end caterers - we provide celebrity chefs, tv personalities and exceptional event catering services ## Description: We are high end caterers, specialising in booking celebrity chefs, who create designer menus and also deliver stunning gourmet catering at your event. ## Title: Event Planning Company - expert event production professionals ## Description: Event Planning Company - event production experts, professional audio-visual services, stage management, themed props and bespoke production specialists. ## Title: Bespoke Catering - Exqusite event food, beautifully presented staff, themed bars and personalised displays. Everything for the perfect event. ## Description: Bespoke Catering - Leading supplier of world class event services. We supply elegant canapés, delicious bowl food and incredible banquets. ## Title: Narnia Themed Corporate Event - Winter Wonderland Gala Dinner ## Description: Narnia Themed Corporate Event - A breathtaking winter wonderland event with winter theming, bespoke Narnia props & snow-filled ballroom ## Title: Luxury Wedding Planners - The complete wedding planning service. ## Description: The ultimate wedding planners - we create stunning luxury weddings. We specialise in creating weddings of exceptional quality through the UK and abroad. ## Title: Marquee Design - Luxury marquee hire & complete design solutions for your event ## Description: Marquee Design - Luxury marquee hire & complete design solutions for your event. We offer a one-stop shop for your marquee requirements. ## Title: International venue finder - we source epic international venues for your special event. ## Description: We provide a bespoke international venue finding service - whatever your event, we have the perfect sun-drenched location for you. ## Title: Production Company - outstanding events & production design, ## Description: Production Company - We provide a complete production design service. Our experienced team of event professionals will deliver your event in style. ## Title: Peri Peri: Party Planners - testimonials and references about our party planners. See what our clients say about our party planner services. Exceptional party planners, throughout London & the UK ## Description: Peri Peri: Party Planners - testimonials and references about our party planners. See what our clients say about our party planner services. ## Title: Event catering - elegantly delivered gourmet banquet menus. We are sit-down dinner experts ## Description: Amazing Banquet Menus - we provide exceptional gourmet event catering. Our chefs create classical menus designed to perfectly suit your specific tastes. ## Title: Event organisers UK - exceptional events and full production services ## Description: Event organisers UK - we provide complete events. We produce all types of event production services, décor, theming, lighting, & audio visual services ## Title: Bespoke wedding design - Exceptional wedding planner London specialists ## Description: Bespoke wedding design - Exceptional wedding planner London specialists. We work all over the UK and abroad producing absolutely stunning weddings. ## Title: Party Venue Hire - Sourcing the finest party venues for your event ## Description: Peri Peri works alongside many of the UK's finest party venues - from palaces to hotels, and from disused warehoused to greenfield sites. ## Title: Wedding Venues - We source stunning wedding venues throughout the UK and abroad ## Description: Stunning wedding venues - we leave no stone unturned when finding your dream wedding location. We provide, castles, hotels & modern spaces for your big day ## Title: Party planner UK - A guide to our fees and services ## Description: Party Planner UK - A detailed guide to our event planning fees and services. We organise corporate events, private parties and luxury weddings ## Title: Event Styling - immaculate interiors, beautfully designed, magically produced ## Description: Event Styling - we provide amazing bars, dancefloors & furnishings to create the perfect event environment - whatever your event, we create the WOW-factor. ## Title: Corporate Marquee Hire - Versatile, modern structures for any occasion. ## Description: Corporate Marquee Hire - We build tailor-made marquee packages for business events and corporate hospitality. Branding and unique structure specialists. ## Title: Peri Peri - Event management party planner & event planning brochure ## Description: Peri Peri's event management and event planning brochure demonstrates how we deliver our unique service to our clients with detailed case studies ## Title: Party Organiser UK - leading events company, full event management ## Description: Party Organiser UK - our team operates with 100% confidentiality. We take you privacy extremely seriously and operate with total discretion. ## Title: Event AV - Exceptional Audio Visual Services, complete sound & light. ## Description: Event AV - We supply everything from power distribution and generator management to stage production, large LED screens, event audio, mics and set design. ## Title: Nightclub marquee for hire - unique nightclub structures for your party ## Description: Our nightclub marquee for hire is the ideal environment for the perfect party. We specialise in creating quality bespoke themed marquees. ## Title: Corporate Marquee Hire - Specialist business class structures for your events. ## Description: Corporate Marquee Hire - our business class corporate event marquees reflect your companies branding, products and ambition. ## Title: Party organiser for all your special occasions - birthday parties and events ## Description: Party organiser professionals for birthday parties, anniversaries, special celebrations and more. Marquee party, venue finding and catering experts. ## Title: Corporate Event planner - professionally delivered coporate events ## Description: Corporate Event Planner - expert corporate events, delivered by our team of skilful event professionals. Marquees, Venues, awards, galas, launches & more. ## Title: Event Planner - Exceptional event management and party planning experts ## Description: Event Planner - we provide event services all over the UK and abroad. Our team of event planners are knowledgeable, experienced and dedicated to your goals. ## Title: Party planner services. Exceptional Parties, Marquees, Catering & Events ## Description: Complete party planner services - we create some of the world's best parties - specialising in themed events, birthdays & party marquees. ## Title: Event Theming & Props - Incredible marquee & venue set design. ## Description: Event Theming Specialists - Our in-house production team work tirelessly to create bespoke event environments using unique props and themed elements. ## Title: Events Planner London - Meet our team of expert event organisers ## Description: Events Planner London - Our team of dedicated event managers, travel all over the UK organising corporate events, weddings & private parties ## Title: Themed Events - Amazing themed party planning and events. ## Description: We provide themed events of superb quality - integrating gourmet catering, superb entertainment, & event interiors to create the ultimate party. ## Title: Charity event organiser - Your complete event management solution ## Description: Charity event organiser - Your complete event management solution. We provide exceptional fundraising events, from charity balls, to fundraising banquets. ## Title: Event Production - Complete solutions for your event ## Description: Event Production - we provide a one-stop shop for all your event production solutions. We supply audio-visual services, and bespoke themed installations. ## Title: Peri Peri - About our event management & events planning ## Description: Find out about Peri Peri's events planning team, & discover how we will work tirelessly with you to create a stunning bespoke event tailored to your needs. ## Title: London venues - venue searches and venue finding across London & UK ## Description: London venues - we source amazing venues for corporate events, weddings and private parties. Our team will find your perfect venue. ## Title: Peri Peri - Corporate event, party planner & wedding planner gallery ## Description: Peri Peri's gallery showcases the best images from our wide private parties, themed events, weddings and corporate events. ## Title: Professional conference organisers - innovative, creative live event design. ## Description: Professional conference organisers - innovative, creative live event design. We provide a complete live event, meeting and seminar solution. ## Title: Party Marquee Hire - exceptional party marquee structures for any event ## Description: We design sensational party marquee structures for some of the most breathtaking parties, we specialise in unique structures, and lavish interiors. ## Title: Marquee Management - Our Marquee Hire Design & Build Process. ## Description: Marquee Hire & Marquee Management processes - Description of how we manage our marquee hire process, from initial free consultation, to design & build. ## Title: Professional corporate events solutions - We offer a complete event service. ## Description: We are a full service events company, providing a one-stop shop for all your corporate events. We supply marquees, catering, and expert production services. ## Title: Award Ceremonies - Professional awards organiser services. ## Description: We provide Professional awards organiser services. We offer a complete event production solution, from show-calling to catering & audio-visual services. ## Title: Event Planners London - we provide creative catering design and themed events for your special occasion ## Description: Event Planners London - we provide delicious, creative catering menus infused with, the finest ingredients, passion, and a love for exceptional events. ## Title: Wedding Organiser - Let our wedding organiser team deliver your wedding in style. ## Description: Wedding Organiser - Let our wedding organiser team deliver your wedding in style. We provide luxury marquees, catering & a complete wedding design service. ## Title: Party planner London - event planning and party organising services. ## Description: Call now to book your marquee site visit and discover how our award winning party planner London and event management services can help you. ## Title: Marquee Hire London - we supply beautiful marquees and complete event solutions. ## Description: Marquee Hire London - we supply beautiful marquees and complete event solutions. Our friendly team of marquee hire experts will deliver your perfect event. ## Title: Venue Search - Start your event planning on the right foot with our expert venue finding service. ## Description: Professional venue search - our expert venue sourcing team will create a shortlist of the best venues available on your preferred date. Premium venue expert ## Title: Event organisers - we provide detailed price lists for all our events ## Description: Event Organisers - our events team create individual price lists that are designed to show how our fee structure works & how we deliver our unique services. ## Title: Party Organisers- Event management and party planners: contact details ## Description: Party organisers - complete list of contact details, including direct lines for different event departments and emergency 24hour contact details ## Title: Bespoke catering London and throughout the UK - exceptional gourmet menus and passionate chefs ## Description: Bespoke catering London and throughout the UK - incredible banquets, stunning canapés, exceptional bowl food and amazing chefs. Complete event service. ## Title: Venue finder - our friendly, professional venue sourcing experts will find your dream event location. ## Description: Our expert venue finder team will find your perfect event space & also provide a complete event solution. We produce innovative, creative events. ## Title: Corporate event companies - Inspirational bespoke corporate events services ## Description: Corporate event companies - Inspirational bespoke corporate events services. We deliver a wide range of unique business functions across all sectors. ## Title: Festival Organiser - we create world class festivals and outdoor events. ## Description: Leading Festival Organiser - we design and build spectacular outdoor events, parties & festivals. We supply some of the finest rides & amusements in the UK ## Title: Wedding Marquee hire - Stunning, versatile wedding marquees for your big day. ## Description: Wedding Marquee hire - Stunning, versatile wedding marquees for your big day. We erect different styles, designs and structures to suit your location. ## Title: The ultimate structure for your Marquee Wedding - Stunning marquees for your big day ## Description: The ultimate structure for your marquee wedding. Stunning marquees for your big day - from tradtional structures to elegant modern wedding marquees. ## Title: Marquee venues - we source incredible locations to build your dream marquee, when you have no space at home. ## Description: Marquee Venues - we source superb historical venues & inner-city locations for your perfect marquee event location. We source amazing spaces all over the UK\"}]\n"
     ]
    }
   ],
   "source": [
    "from services.chat.chat import llm_response\n",
    "\n",
    "sys_prompt_sys_gen = \"\"\"\n",
    "You are an AI system designed to analyze business data and create effective system prompts for conversational AI agents. Your task is to craft a system prompt for an AI that will engage with prospects, understand their needs, and guide them through the prospecting and qualifying stages before handing off to a human colleague. Follow these guidelines:\n",
    "\n",
    "Your output must ONLY contain the system prompt, with no prefix, nor introductions. \n",
    "\n",
    "1. Analyze the provided business data thoroughly, focusing on:\n",
    "   - Company mission, vision, and core values\n",
    "   - Target market and ideal customer profiles\n",
    "   - Key products or services and their unique selling points\n",
    "   - Standard qualifying criteria for prospects\n",
    "   - Company tone and communication style\n",
    "\n",
    "2. Create a system prompt that includes:\n",
    "   - A clear definition of the AI agent's role and purpose\n",
    "   - Essential company information and values\n",
    "   - Guidelines for engaging with prospects professionally and empathetically\n",
    "   - Instructions for identifying and qualifying leads based on company criteria\n",
    "   - Directions for gathering key information from prospects\n",
    "   - Protocols for when and how to hand off to human colleagues\n",
    "   - Ethical guidelines and privacy considerations\n",
    "\n",
    "3. Ensure the prompt emphasizes:\n",
    "   - Building rapport and trust with prospects\n",
    "   - Active listening and asking probing questions\n",
    "   - Adapting communication style to different prospect personas\n",
    "   - Providing value and information tailored to prospect needs\n",
    "   - Respecting boundaries and not being overly pushy\n",
    "\n",
    "4. Include instructions for the AI to:\n",
    "   - Introduce itself as an AI assistant\n",
    "   - Be transparent about its capabilities and limitations\n",
    "   - Know when to escalate complex inquiries to human team members\n",
    "\n",
    "5. Incorporate language that promotes:\n",
    "   - Consistency with the company's brand voice\n",
    "   - Flexibility in conversation flow\n",
    "   - Respect for prospect's time and preferences\n",
    "\n",
    "6. Add safeguards to prevent the AI from:\n",
    "   - Making promises or commitments beyond its authority\n",
    "   - Sharing sensitive or confidential information\n",
    "   - Engaging in unethical or manipulative sales tactics\n",
    "\n",
    "Your output must ONLY contain the system prompt, with no prefix, nor introductions. \n",
    "\n",
    "Craft the system prompt to be concise yet comprehensive, focusing on essential information that will guide the conversational AI in effectively engaging prospects and qualifying leads.\n",
    "\n",
    "\"\"\"\n",
    "\n",
    "\n",
    "sys_prompt_2 = \"\"\"\n",
    "\n",
    "Create a system prompt for an AI sales agent that will engage with visitors upon landing on the landing page, understand their needs, and guide them through the prospecting and qualifying stages before handing off to a human colleague. Follow these guidelines:\n",
    "1. Qualification\n",
    "    - Determine if the prospect has a genuine need for your product/service\n",
    "    - Assess their budget, authority to make decisions, and timeline\n",
    "    - Use BANT framework: Budget, Authority, Need, Timeline\n",
    "2. Needs Assessment\n",
    "    - Conduct a thorough discovery to understand the prospect's pain points\n",
    "    - Ask open-ended questions to uncover underlying needs\n",
    "    - Listen actively and take detailed notes\n",
    "3. Stress the importance of being concise and direct\n",
    "4. Use the provided data to tailor the conversation to the prospect's needs\n",
    "Your output must ONLY contain the system prompt, with no prefix, nor introductions. \n",
    "\n",
    "\"\"\"\n",
    "\n",
    "sys_prompt_periperi = await llm_response(sys_prompt_2, unique_headers_string)"
   ]
  },
  {
   "cell_type": "code",
   "execution_count": 24,
   "metadata": {},
   "outputs": [
    {
     "data": {
      "text/plain": [
       "\"You are an AI sales agent for Peri Peri, a premium event planning and management company. Your role is to engage with visitors on the landing page, understand their needs, and guide them through the prospecting and qualifying stages before handing off to a human colleague. Follow these guidelines:\\n\\n1. Greet visitors warmly and introduce yourself as Peri Peri's AI assistant.\\n\\n2. Quickly assess the visitor's needs by asking about the type of event they're planning (e.g., wedding, corporate event, birthday party, festival).\\n\\n3. Use the BANT framework to qualify leads:\\n   - Budget: Inquire about their budget range for the event.\\n   - Authority: Determine if they're the decision-maker or influencer for the event.\\n   - Need: Understand their specific requirements and pain points.\\n   - Timeline: Ask about their desired event date or timeframe.\\n\\n4. Based on their responses, highlight relevant Peri Peri services such as:\\n   - Event planning and management\\n   - Venue finding and marquee hire\\n   - Catering services\\n   - Entertainment and performer booking\\n   - Audio-visual and production services\\n   - Themed event design\\n\\n5. Ask open-ended questions to uncover additional needs or concerns:\\n   - What's the most important aspect of your event?\\n   - Have you faced any challenges in planning similar events before?\\n   - What's your vision for the perfect event?\\n\\n6. Provide brief, relevant information about Peri Peri's expertise and past successes in their area of interest.\\n\\n7. If the prospect seems qualified and interested, offer to schedule a consultation with a human event specialist.\\n\\n8. If the prospect isn't ready or qualified, provide them with relevant resources (e.g., event planning guides, galleries) and invite them to reach out when they're ready.\\n\\n9. Always be polite, professional, and respectful of the visitor's time. Aim to qualify leads efficiently while providing value and building trust.\\n\\n10. Hand off promising leads to human colleagues with a summary of the conversation and key qualifying information.\\n\\nRemember to be concise, direct, and tailored in your responses, using the provided data to customize the conversation to each prospect's needs.\""
      ]
     },
     "execution_count": 24,
     "metadata": {},
     "output_type": "execute_result"
    }
   ],
   "source": [
    "sys_prompt_periperi#.split(\"\\n\\n\")"
   ]
  },
  {
   "cell_type": "code",
   "execution_count": 19,
   "metadata": {},
   "outputs": [
    {
     "data": {
      "text/plain": [
       "['You are an AI assistant for Peri Peri Events, a premier event planning and management company. Your role is to engage with potential clients, understand their event needs, and guide them through the initial stages of planning. Follow these guidelines:',\n",
       " '1. Introduce yourself as an AI assistant for Peri Peri Events, emphasizing our expertise in event planning, catering, and production services.',\n",
       " \"2. Ask questions to understand the client's event type (e.g., wedding, corporate event, birthday party) and specific requirements.\",\n",
       " \"3. Highlight our relevant services based on the client's needs, such as:\\n   - Bespoke event planning and management\\n   - Luxury marquee hire and design\\n   - Gourmet catering services\\n   - Entertainment and performer booking\\n   - Venue finding and sourcing\\n   - Audio-visual and production services\\n   - Themed event design and prop hire\",\n",
       " '4. Emphasize our commitment to creating exceptional, personalized experiences for every client.',\n",
       " '5. Gather key information such as:\\n   - Event date and location preferences\\n   - Estimated guest count\\n   - Budget range\\n   - Any specific themes or requirements',\n",
       " '6. Highlight our experience with similar events and mention any relevant case studies or testimonials.',\n",
       " \"7. Explain our process for initial consultations and how we tailor our services to each client's unique vision.\",\n",
       " '8. Be prepared to answer common questions about our services, pricing structure, and availability.',\n",
       " \"9. If the client's needs are complex or require detailed quotes, offer to arrange a call or meeting with one of our human event specialists.\",\n",
       " \"10. Always maintain a professional, friendly, and helpful tone, reflecting Peri Peri Events' commitment to exceptional service.\",\n",
       " '11. Respect client privacy and confidentiality at all times.',\n",
       " '12. Do not make specific promises about availability or pricing without human verification.',\n",
       " \"13. If asked about services we don't offer or topics outside your knowledge, politely explain your limitations and offer to connect the client with a human team member.\",\n",
       " \"Remember, your goal is to provide valuable information, build rapport, and qualify leads for our event planning services. Always prioritize understanding the client's unique needs and demonstrating how Peri Peri Events can bring their vision to life.\"]"
      ]
     },
     "execution_count": 19,
     "metadata": {},
     "output_type": "execute_result"
    }
   ],
   "source": [
    "\"\"\" the system prompt gives tasks without clear instructions \"\"\"\n",
    "sys_prompt_periperi.split(\"\\n\\n\")"
   ]
  },
  {
   "cell_type": "code",
   "execution_count": 18,
   "metadata": {},
   "outputs": [
    {
     "data": {
      "text/plain": [
       "\"You are an AI assistant for Peri Peri Events, a premier event planning and management company. Your role is to engage with potential clients, understand their event needs, and guide them through the initial stages of planning. Follow these guidelines:\\n\\n1. Introduce yourself as an AI assistant for Peri Peri Events, emphasizing our expertise in event planning, catering, and production services.\\n\\n2. Ask questions to understand the client's event type (e.g., wedding, corporate event, birthday party) and specific requirements.\\n\\n3. Highlight our relevant services based on the client's needs, such as:\\n   - Bespoke event planning and management\\n   - Luxury marquee hire and design\\n   - Gourmet catering services\\n   - Entertainment and performer booking\\n   - Venue finding and sourcing\\n   - Audio-visual and production services\\n   - Themed event design and prop hire\\n\\n4. Emphasize our commitment to creating exceptional, personalized experiences for every client.\\n\\n5. Gather key information such as:\\n   - Event date and location preferences\\n   - Estimated guest count\\n   - Budget range\\n   - Any specific themes or requirements\\n\\n6. Highlight our experience with similar events and mention any relevant case studies or testimonials.\\n\\n7. Explain our process for initial consultations and how we tailor our services to each client's unique vision.\\n\\n8. Be prepared to answer common questions about our services, pricing structure, and availability.\\n\\n9. If the client's needs are complex or require detailed quotes, offer to arrange a call or meeting with one of our human event specialists.\\n\\n10. Always maintain a professional, friendly, and helpful tone, reflecting Peri Peri Events' commitment to exceptional service.\\n\\n11. Respect client privacy and confidentiality at all times.\\n\\n12. Do not make specific promises about availability or pricing without human verification.\\n\\n13. If asked about services we don't offer or topics outside your knowledge, politely explain your limitations and offer to connect the client with a human team member.\\n\\nRemember, your goal is to provide valuable information, build rapport, and qualify leads for our event planning services. Always prioritize understanding the client's unique needs and demonstrating how Peri Peri Events can bring their vision to life.\""
      ]
     },
     "execution_count": 18,
     "metadata": {},
     "output_type": "execute_result"
    }
   ],
   "source": [
    "sys_prompt_periperi"
   ]
  },
  {
   "cell_type": "code",
   "execution_count": null,
   "metadata": {},
   "outputs": [],
   "source": []
  }
 ],
 "metadata": {
  "kernelspec": {
   "display_name": "venv",
   "language": "python",
   "name": "python3"
  },
  "language_info": {
   "codemirror_mode": {
    "name": "ipython",
    "version": 3
   },
   "file_extension": ".py",
   "mimetype": "text/x-python",
   "name": "python",
   "nbconvert_exporter": "python",
   "pygments_lexer": "ipython3",
   "version": "3.12.6"
  }
 },
 "nbformat": 4,
 "nbformat_minor": 2
}
